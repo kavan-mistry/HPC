{
 "cells": [
  {
   "cell_type": "code",
   "execution_count": 4,
   "id": "5cbccc7b",
   "metadata": {},
   "outputs": [
    {
     "name": "stdout",
     "output_type": "stream",
     "text": [
      "Rank 0: Starting execution\n",
      "Rank 0: Generating matrices A and B\n",
      "Rank 0: Matrices A and B generated\n",
      "Rank 0: Broadcasting matrices A and B\n",
      "Rank 0: Matrices A and B broadcasted\n",
      "Resultant Matrix C:\n",
      "[[40724 40773 40213 ... 39828 39888 38353]\n",
      " [41073 40970 40268 ... 39806 39810 38842]\n",
      " [42729 41005 40853 ... 40959 40117 39881]\n",
      " ...\n",
      " [42853 42040 41155 ... 41886 41238 40290]\n",
      " [41284 41014 40333 ... 41312 40045 38258]\n",
      " [41565 40929 40590 ... 40789 39729 39061]]\n",
      "Broadcasting time: 0.01601409912109375 seconds\n",
      "Matrix multiplication time: 36.199305295944214 seconds\n",
      "Gathering time: 0.004033803939819336 seconds\n"
     ]
    }
   ],
   "source": [
    "from mpi4py import MPI\n",
    "import numpy as np\n",
    "import time\n",
    "\n",
    "comm = MPI.COMM_WORLD\n",
    "size = comm.Get_size()\n",
    "rank = comm.Get_rank()\n",
    "\n",
    "N = 2000  \n",
    "if N % size != 0:\n",
    "    raise ValueError(\"Matrix size N must be divisible by the number of processes (size)\")\n",
    "\n",
    "block_size = N // size  \n",
    "\n",
    "print(f\"Rank {rank}: Starting execution\")\n",
    "\n",
    "if rank == 0:\n",
    "    print(f\"Rank {rank}: Generating matrices A and B\")\n",
    "    A = np.random.randint(0, 10, (N, N))\n",
    "    B = np.random.randint(0, 10, (N, N))\n",
    "    print(f\"Rank {rank}: Matrices A and B generated\")\n",
    "else:\n",
    "    A = None\n",
    "    B = None\n",
    "\n",
    "print(f\"Rank {rank}: Broadcasting matrices A and B\")\n",
    "start_time = time.time()\n",
    "A = comm.bcast(A, root=0)\n",
    "B = comm.bcast(B, root=0)\n",
    "end_time = time.time()\n",
    "print(f\"Rank {rank}: Matrices A and B broadcasted\")\n",
    "\n",
    "A_rows = np.zeros((block_size, N), dtype=int)\n",
    "comm.Scatter(A, A_rows, root=0)\n",
    "\n",
    "start_time_multiplication = time.time()\n",
    "C_rows = np.dot(A_rows, B)\n",
    "end_time_multiplication = time.time()\n",
    "\n",
    "start_time_gather = time.time()\n",
    "C_all = np.zeros((N, N), dtype=int)\n",
    "comm.Allgather(C_rows, C_all)\n",
    "end_time_gather = time.time()\n",
    "\n",
    "if rank == 0:\n",
    "    print(\"Resultant Matrix C:\")\n",
    "    print(C_all)\n",
    "    print(\"Broadcasting time:\", end_time - start_time, \"seconds\")\n",
    "    print(\"Gathering time:\", end_time_gather - start_time_gather, \"seconds\")\n",
    "    print(\"Matrix multiplication time:\", end_time_multiplication - start_time_multiplication, \"seconds\")"
   ]
  }
 ],
 "metadata": {
  "kernelspec": {
   "display_name": "Python 3 (ipykernel)",
   "language": "python",
   "name": "python3"
  },
  "language_info": {
   "codemirror_mode": {
    "name": "ipython",
    "version": 3
   },
   "file_extension": ".py",
   "mimetype": "text/x-python",
   "name": "python",
   "nbconvert_exporter": "python",
   "pygments_lexer": "ipython3",
   "version": "3.11.5"
  }
 },
 "nbformat": 4,
 "nbformat_minor": 5
}

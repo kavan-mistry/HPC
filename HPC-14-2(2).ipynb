{
 "cells": [
  {
   "cell_type": "markdown",
   "id": "8aeca5dc",
   "metadata": {},
   "source": [
    "# Assignment 9"
   ]
  },
  {
   "cell_type": "markdown",
   "id": "439cde5a",
   "metadata": {},
   "source": [
    "1. Calculate Pi value using openMPI send and receive messages for atleast 35-40 terms.\n",
    "2. Change the value on n as 2, 4, 8, 16.\n",
    "3. Analyze the performance improvement using number of processes."
   ]
  },
  {
   "cell_type": "code",
   "execution_count": 1,
   "id": "739bd3fb",
   "metadata": {},
   "outputs": [],
   "source": [
    "import mpi4py\n",
    "from mpi4py import MPI"
   ]
  },
  {
   "cell_type": "code",
   "execution_count": 2,
   "id": "d5c2bd2a",
   "metadata": {},
   "outputs": [],
   "source": [
    "import time"
   ]
  },
  {
   "cell_type": "code",
   "execution_count": 3,
   "id": "9c738a75",
   "metadata": {},
   "outputs": [],
   "source": [
    "TERMS = 40"
   ]
  },
  {
   "cell_type": "code",
   "execution_count": 4,
   "id": "c5f27675",
   "metadata": {},
   "outputs": [],
   "source": [
    "def calculate_pi(rank, num_processes, terms):\n",
    "    partial_sum = 0.0\n",
    "    for i in range(rank, terms, num_processes):\n",
    "        if i % 2 == 0:\n",
    "            partial_sum += 1.0 / (2 * i + 1)\n",
    "        else:\n",
    "            partial_sum -= 1.0 / (2 * i + 1)\n",
    "    return partial_sum * 4"
   ]
  },
  {
   "cell_type": "code",
   "execution_count": 5,
   "id": "70cde1c6",
   "metadata": {},
   "outputs": [
    {
     "name": "stdout",
     "output_type": "stream",
     "text": [
      "calculated Rank 0 : Pi = 3.116596556793833, Time = 0.0\n",
      "Number of processes: 1\n",
      "Estimated Pi: 3.116596556793833\n",
      "Execution time: 0.0 seconds\n"
     ]
    }
   ],
   "source": [
    "if __name__ == \"__main__\":\n",
    "    comm = MPI.COMM_WORLD\n",
    "    rank = comm.Get_rank()\n",
    "    size = comm.Get_size()\n",
    "\n",
    "    terms = 40\n",
    "\n",
    "    start_time = time.time()\n",
    "\n",
    "    partial_pi = calculate_pi(rank, size, terms)\n",
    "    print(f\"calculated Rank {rank} : Pi = {partial_pi}, Time = {time.time() - start_time}\")\n",
    "\n",
    "    if rank == 0:\n",
    "        total_pi = partial_pi\n",
    "        for i in range(1, size):\n",
    "            partial_result, partial_time = comm.recv(source=i)\n",
    "            total_pi += partial_result\n",
    "            print(f\"Received from Rank {i}: Pi = {partial_result}, Time = {partial_time}\")\n",
    "\n",
    "        print(\"Number of processes:\", size)\n",
    "        print(\"Estimated Pi:\", total_pi)\n",
    "        print(\"Execution time:\", time.time() - start_time, \"seconds\")\n",
    "    else:\n",
    "        print(f\"Sending from Rank {rank}: Pi = {partial_pi}, Time = {time.time() - start_time}\")\n",
    "        comm.send((partial_pi, time.time() - start_time), dest=0)"
   ]
  },
  {
   "cell_type": "code",
   "execution_count": 6,
   "id": "70ab5c25",
   "metadata": {},
   "outputs": [
    {
     "name": "stdout",
     "output_type": "stream",
     "text": [
      "calculated Rank 1 : Pi = -4.0941172405577415, Time = 0.0\n",
      "Sending from Rank 1: Pi = -4.0941172405577415, Time = 0.0\n",
      "calculated Rank 0 : Pi = 7.210713797351573, Time = 0.0\n",
      "Received from Rank 1: Pi = -4.0941172405577415, Time = 0.0\n",
      "Number of processes: 2\n",
      "Estimated Pi: 3.116596556793832\n",
      "Execution time: 0.0030989646911621094 seconds\n"
     ]
    }
   ],
   "source": [
    "!mpiexec -n 2 python hpc-as9.py"
   ]
  },
  {
   "cell_type": "code",
   "execution_count": 7,
   "id": "92994877",
   "metadata": {},
   "outputs": [
    {
     "name": "stdout",
     "output_type": "stream",
     "text": [
      "calculated Rank 2 : Pi = 1.8840610646940703, Time = 0.0\n",
      "Sending from Rank 2: Pi = 1.8840610646940703, Time = 0.0\n",
      "calculated Rank 3 : Pi = -1.5719013009615963, Time = 0.0\n",
      "Sending from Rank 3: Pi = -1.5719013009615963, Time = 0.0\n",
      "calculated Rank 1 : Pi = -2.5222159395961445, Time = 0.0\n",
      "Sending from Rank 1: Pi = -2.5222159395961445, Time = 0.0\n",
      "calculated Rank 0 : Pi = 5.326652732657504, Time = 0.0\n",
      "Received from Rank 1: Pi = -2.5222159395961445, Time = 0.0\n",
      "Received from Rank 2: Pi = 1.8840610646940703, Time = 0.0\n",
      "Received from Rank 3: Pi = -1.5719013009615963, Time = 0.0\n",
      "Number of processes: 4\n",
      "Estimated Pi: 3.1165965567938327\n",
      "Execution time: 0.005960226058959961 seconds\n"
     ]
    }
   ],
   "source": [
    "!mpiexec -n 4 python hpc-as9.py"
   ]
  },
  {
   "cell_type": "code",
   "execution_count": 8,
   "id": "340a1ba9",
   "metadata": {},
   "outputs": [
    {
     "name": "stdout",
     "output_type": "stream",
     "text": [
      "calculated Rank 7 : Pi = -0.5949302825943747, Time = 0.0\n",
      "Sending from Rank 7: Pi = -0.5949302825943747, Time = 0.0\n",
      "calculated Rank 3 : Pi = -0.9769710183672217, Time = 0.0\n",
      "Sending from Rank 3: Pi = -0.9769710183672217, Time = 0.0\n",
      "calculated Rank 5 : Pi = -0.7259377111012902, Time = 0.0\n",
      "Sending from Rank 5: Pi = -0.7259377111012902, Time = 0.0\n",
      "calculated Rank 2 : Pi = 1.2320270111902598, Time = 0.0\n",
      "Sending from Rank 2: Pi = 1.2320270111902598, Time = 0.0\n",
      "calculated Rank 4 : Pi = 0.826975379198637, Time = 0.0\n",
      "Sending from Rank 4: Pi = 0.826975379198637, Time = 0.0\n",
      "calculated Rank 1 : Pi = -1.7962782284948542, Time = 0.0\n",
      "Sending from Rank 1: Pi = -1.7962782284948542, Time = 0.0\n",
      "calculated Rank 6 : Pi = 0.6520340535038104, Time = 0.0\n",
      "Sending from Rank 6: Pi = 0.6520340535038104, Time = 0.0\n",
      "calculated Rank 0 : Pi = 4.499677353458866, Time = 0.0\n",
      "Received from Rank 1: Pi = -1.7962782284948542, Time = 0.0\n",
      "Received from Rank 2: Pi = 1.2320270111902598, Time = 0.0\n",
      "Received from Rank 3: Pi = -0.9769710183672217, Time = 0.0\n",
      "Received from Rank 4: Pi = 0.826975379198637, Time = 0.0\n",
      "Received from Rank 5: Pi = -0.7259377111012902, Time = 0.0\n",
      "Received from Rank 6: Pi = 0.6520340535038104, Time = 0.0\n",
      "Received from Rank 7: Pi = -0.5949302825943747, Time = 0.0\n",
      "Number of processes: 8\n",
      "Estimated Pi: 3.116596556793832\n",
      "Execution time: 0.005739927291870117 seconds\n"
     ]
    }
   ],
   "source": [
    "!mpiexec -n 8 python hpc-as9.py"
   ]
  },
  {
   "cell_type": "code",
   "execution_count": 9,
   "id": "f95da8d7",
   "metadata": {},
   "outputs": [
    {
     "name": "stdout",
     "output_type": "stream",
     "text": [
      "calculated Rank 14 : Pi = 0.20350480497456191, Time = 0.0\n",
      "Sending from Rank 14: Pi = 0.20350480497456191, Time = 0.0\n",
      "calculated Rank 7 : Pi = -0.40240596103779513, Time = 0.0\n",
      "Sending from Rank 7: Pi = -0.40240596103779513, Time = 0.0\n",
      "calculated Rank 11 : Pi = -0.2466403162055336, Time = 0.0\n",
      "Sending from Rank 11: Pi = -0.2466403162055336, Time = 0.0\n",
      "calculated Rank 8 : Pi = 0.3169267707082833, Time = 0.0\n",
      "Sending from Rank 8: Pi = 0.3169267707082833, Time = 0.0\n",
      "calculated Rank 3 : Pi = -0.730330702161688, Time = 0.0\n",
      "Sending from Rank 3: Pi = -0.730330702161688, Time = 0.0\n",
      "calculated Rank 5 : Pi = -0.5099929527836504, Time = 0.0\n",
      "Sending from Rank 5: Pi = -0.5099929527836504, Time = 0.0\n",
      "calculated Rank 1 : Pi = -1.507320540156361, Time = 0.0\n",
      "Sending from Rank 1: Pi = -1.507320540156361, Time = 0.0\n",
      "calculated Rank 15 : Pi = -0.19252432155657961, Time = 0.0\n",
      "Sending from Rank 15: Pi = -0.19252432155657961, Time = 0.0\n",
      "calculated Rank 2 : Pi = 0.9660791226008618, Time = 0.0\n",
      "Sending from Rank 2: Pi = 0.9660791226008618, Time = 0.0\n",
      "calculated Rank 10 : Pi = 0.265947888589398, Time = 0.0\n",
      "Sending from Rank 10: Pi = 0.265947888589398, Time = 0.0\n",
      "calculated Rank 9 : Pi = -0.2889576883384933, Time = 0.0\n",
      "Sending from Rank 9: Pi = -0.2889576883384933, Time = 0.0\n",
      "calculated Rank 6 : Pi = 0.4485292485292486, Time = 0.0\n",
      "Sending from Rank 6: Pi = 0.4485292485292486, Time = 0.0\n",
      "calculated Rank 4 : Pi = 0.5967999406021457, Time = 0.0\n",
      "Sending from Rank 4: Pi = 0.5967999406021457, Time = 0.0\n",
      "calculated Rank 13 : Pi = -0.21594475831763965, Time = 0.0\n",
      "Sending from Rank 13: Pi = -0.21594475831763965, Time = 0.0\n",
      "calculated Rank 12 : Pi = 0.23017543859649123, Time = 0.0\n",
      "Sending from Rank 12: Pi = 0.23017543859649123, Time = 0.0\n",
      "calculated Rank 0 : Pi = 4.182750582750582, Time = 0.0\n",
      "Received from Rank 1: Pi = -1.507320540156361, Time = 0.0\n",
      "Received from Rank 2: Pi = 0.9660791226008618, Time = 0.0\n",
      "Received from Rank 3: Pi = -0.730330702161688, Time = 0.0\n",
      "Received from Rank 4: Pi = 0.5967999406021457, Time = 0.0\n",
      "Received from Rank 5: Pi = -0.5099929527836504, Time = 0.0\n",
      "Received from Rank 6: Pi = 0.4485292485292486, Time = 0.0\n",
      "Received from Rank 7: Pi = -0.40240596103779513, Time = 0.0\n",
      "Received from Rank 8: Pi = 0.3169267707082833, Time = 0.0\n",
      "Received from Rank 9: Pi = -0.2889576883384933, Time = 0.0\n",
      "Received from Rank 10: Pi = 0.265947888589398, Time = 0.0\n",
      "Received from Rank 11: Pi = -0.2466403162055336, Time = 0.0\n",
      "Received from Rank 12: Pi = 0.23017543859649123, Time = 0.0\n",
      "Received from Rank 13: Pi = -0.21594475831763965, Time = 0.0\n",
      "Received from Rank 14: Pi = 0.20350480497456191, Time = 0.0\n",
      "Received from Rank 15: Pi = -0.19252432155657961, Time = 0.0\n",
      "Number of processes: 16\n",
      "Estimated Pi: 3.1165965567938323\n",
      "Execution time: 0.006808042526245117 seconds\n"
     ]
    }
   ],
   "source": [
    "!mpiexec -n 16 python hpc-as9.py"
   ]
  },
  {
   "cell_type": "code",
   "execution_count": 10,
   "id": "47a1205d",
   "metadata": {},
   "outputs": [
    {
     "data": {
      "text/plain": [
       "[0.0030989646911621094,\n",
       " 0.005960226058959961,\n",
       " 0.005739927291870117,\n",
       " 0.006808042526245117]"
      ]
     },
     "execution_count": 10,
     "metadata": {},
     "output_type": "execute_result"
    }
   ],
   "source": [
    "total_time = [0.0030989646911621094 , 0.005960226058959961 , 0.005739927291870117 , 0.006808042526245117]\n",
    "total_time"
   ]
  },
  {
   "cell_type": "code",
   "execution_count": 11,
   "id": "f805301e",
   "metadata": {},
   "outputs": [
    {
     "data": {
      "text/plain": [
       "[2, 4, 8, 16]"
      ]
     },
     "execution_count": 11,
     "metadata": {},
     "output_type": "execute_result"
    }
   ],
   "source": [
    "ranks = [2,4,8,16]\n",
    "ranks"
   ]
  },
  {
   "cell_type": "code",
   "execution_count": 13,
   "id": "a07e8b56",
   "metadata": {},
   "outputs": [],
   "source": [
    "import matplotlib.pyplot as plt"
   ]
  },
  {
   "cell_type": "code",
   "execution_count": 14,
   "id": "5707fee3",
   "metadata": {},
   "outputs": [
    {
     "data": {
      "image/png": "[encoded data removed]",
      "text/plain": [
       "<Figure size 800x500 with 1 Axes>"
      ]
     },
     "metadata": {},
     "output_type": "display_data"
    }
   ],
   "source": [
    "plt.figure(figsize=(8, 5))\n",
    "plt.plot(ranks, total_time, marker='*')\n",
    "plt.title('Execution Time vs Number of Processes')\n",
    "plt.xlabel('Number of Processes')\n",
    "plt.ylabel('Execution Time')\n",
    "plt.grid(True)\n",
    "plt.show()"
   ]
  }
 ],
 "metadata": {
  "kernelspec": {
   "display_name": "Python 3 (ipykernel)",
   "language": "python",
   "name": "python3"
  },
  "language_info": {
   "codemirror_mode": {
    "name": "ipython",
    "version": 3
   },
   "file_extension": ".py",
   "mimetype": "text/x-python",
   "name": "python",
   "nbconvert_exporter": "python",
   "pygments_lexer": "ipython3",
   "version": "3.11.5"
  }
 },
 "nbformat": 4,
 "nbformat_minor": 5
}

{
 "cells": [
  {
   "cell_type": "markdown",
   "id": "e4aa6e5e-c384-4ffb-81c6-702277dca0e1",
   "metadata": {},
   "source": [
    "# Assignment 5"
   ]
  },
  {
   "cell_type": "markdown",
   "id": "fb18d4ef-ca8a-4f97-b966-8c783f1ff010",
   "metadata": {},
   "source": [
    "Consider a scenario where a person visits a supermarket for shopping. S/He purchases various items in different sections such as clothing, grocery, utensils. Write an OpenMP program to process the bill parallelly in each section and display the final amount to be paid by the customer.\n",
    "Analyze the time take by sequential and parallel processing."
   ]
  },
  {
   "cell_type": "code",
   "execution_count": 7,
   "id": "1b09babb-f24e-4c1f-8cc2-aa81b613d4f1",
   "metadata": {},
   "outputs": [],
   "source": [
    "import multiprocessing\n",
    "import time"
   ]
  },
  {
   "cell_type": "code",
   "execution_count": null,
   "id": "06152421-64a3-4a42-b8ba-b5376e20676e",
   "metadata": {},
   "outputs": [],
   "source": []
  },
  {
   "cell_type": "code",
   "execution_count": null,
   "id": "9b4b69ae-888a-4d93-b227-e16a8a5bfa52",
   "metadata": {},
   "outputs": [],
   "source": []
  },
  {
   "cell_type": "code",
   "execution_count": 1,
   "id": "6d00a286-5147-476b-a51b-70328c867942",
   "metadata": {},
   "outputs": [],
   "source": [
    "import numpy as np\n",
    "import time\n",
    "from numba import njit, prange"
   ]
  },
  {
   "cell_type": "code",
   "execution_count": 2,
   "id": "7bc36cec-8ef1-4856-8e4f-ee1adc4ce426",
   "metadata": {},
   "outputs": [],
   "source": [
    "n_sections = 3\n",
    "n_items = 1000\n",
    "\n",
    "# Define the prices of the items in each section as random numbers\n",
    "prices = np.random.rand(n_sections, n_items)\n",
    "\n",
    "# Define the quantities of the items purchased by the customer in each section as random integers\n",
    "quantities = np.random.randint(1, 10, size=(n_sections, n_items))\n"
   ]
  },
  {
   "cell_type": "code",
   "execution_count": 3,
   "id": "9f98cc37-aba3-4a6c-a931-03fd8c68a7e3",
   "metadata": {},
   "outputs": [],
   "source": [
    "def process_bill_seq(prices, quantities):\n",
    "    # Initialize the total amount to zero\n",
    "    total = 0\n",
    "    # Loop over the sections\n",
    "    for i in range(n_sections):\n",
    "        # Loop over the items in each section\n",
    "        for j in range(n_items):\n",
    "            # Add the product of price and quantity to the total amount\n",
    "            total += prices[i, j] * quantities[i, j]\n",
    "    # Return the total amount\n",
    "    return total"
   ]
  },
  {
   "cell_type": "code",
   "execution_count": 4,
   "id": "052611ff-66c7-4271-b07d-07db2f7f8451",
   "metadata": {},
   "outputs": [],
   "source": [
    "@njit(parallel=True)\n",
    "def process_bill_par(prices, quantities):\n",
    "    # Initialize the total amount to zero\n",
    "    total = 0\n",
    "    # Loop over the sections in parallel using prange\n",
    "    for i in prange(n_sections):\n",
    "        # Loop over the items in each section\n",
    "        for j in range(n_items):\n",
    "            # Add the product of price and quantity to the total amount\n",
    "            total += prices[i, j] * quantities[i, j]\n",
    "    # Return the total amount\n",
    "    return total"
   ]
  },
  {
   "cell_type": "code",
   "execution_count": 5,
   "id": "ac1ba0fd-9fc7-4969-8817-583239cb0b4d",
   "metadata": {},
   "outputs": [],
   "source": [
    "start_seq = time.time()\n",
    "total_seq = process_bill_seq(prices, quantities)\n",
    "end_seq = time.time()\n",
    "time_seq = end_seq - start_seq\n",
    "\n",
    "# Measure the time taken by the parallel function\n",
    "start_par = time.time()\n",
    "total_par = process_bill_par(prices, quantities)\n",
    "end_par = time.time()\n",
    "time_par = end_par - start_par"
   ]
  },
  {
   "cell_type": "code",
   "execution_count": 6,
   "id": "514fb41d-0700-403b-b060-552fc53ac47e",
   "metadata": {},
   "outputs": [
    {
     "name": "stdout",
     "output_type": "stream",
     "text": [
      "The total amount to be paid by the customer is 7504.37\n",
      "The sequential function took 0.0025 seconds\n",
      "The parallel function took 2.6539 seconds\n",
      "The speedup achieved by parallelization is 0.00\n"
     ]
    }
   ],
   "source": [
    "print(f\"The total amount to be paid by the customer is {total_seq:.2f}\")\n",
    "print(f\"The sequential function took {time_seq:.4f} seconds\")\n",
    "print(f\"The parallel function took {time_par:.4f} seconds\")\n",
    "print(f\"The speedup achieved by parallelization is {time_seq / time_par:.2f}\")"
   ]
  },
  {
   "cell_type": "code",
   "execution_count": null,
   "id": "96c70f5c",
   "metadata": {},
   "outputs": [],
   "source": []
  },
  {
   "cell_type": "code",
   "execution_count": null,
   "id": "3f6c7fad",
   "metadata": {},
   "outputs": [],
   "source": []
  },
  {
   "cell_type": "code",
   "execution_count": 4,
   "id": "5ee28637",
   "metadata": {},
   "outputs": [
    {
     "name": "stdout",
     "output_type": "stream",
     "text": [
      "Section-wise Totals:\n",
      "Clothing: $90\n",
      "Grocery: $6\n",
      "Utensils: $60\n",
      "\n",
      "Total Amount to be Paid: $156\n",
      "\n",
      "Sequential Processing Time: 0.0014 seconds\n",
      "Parallel Processing Time: 0.1453 seconds\n"
     ]
    }
   ],
   "source": [
    "def process_section(section, items, results):\n",
    "    section_total = sum(items.values())\n",
    "    results[section] = section_total\n",
    "\n",
    "if __name__ == \"__main__\":\n",
    "    # Sample items in each section with their prices\n",
    "    clothing_items = {\"shirt\": 20, \"pants\": 30, \"jacket\": 40}\n",
    "    grocery_items = {\"apple\": 1, \"milk\": 2, \"cereal\": 3}\n",
    "    utensils_items = {\"pot\": 25, \"pan\": 20, \"utensil_set\": 15}\n",
    "\n",
    "    # Results dictionary to store section-wise totals\n",
    "    results = multiprocessing.Manager().dict()\n",
    "\n",
    "    # Sequential Processing\n",
    "    start_time = time.time()\n",
    "\n",
    "    process_section(\"Clothing\", clothing_items, results)\n",
    "    process_section(\"Grocery\", grocery_items, results)\n",
    "    process_section(\"Utensils\", utensils_items, results)\n",
    "\n",
    "    sequential_time = time.time() - start_time\n",
    "\n",
    "    # Parallel Processing\n",
    "    start_time = time.time()\n",
    "\n",
    "    # Create processes for each section\n",
    "    clothing_process = multiprocessing.Process(target=process_section, args=(\"Clothing\", clothing_items, results))\n",
    "    grocery_process = multiprocessing.Process(target=process_section, args=(\"Grocery\", grocery_items, results))\n",
    "    utensils_process = multiprocessing.Process(target=process_section, args=(\"Utensils\", utensils_items, results))\n",
    "\n",
    "    # Start the processes\n",
    "    clothing_process.start()\n",
    "    grocery_process.start()\n",
    "    utensils_process.start()\n",
    "\n",
    "    # Wait for all processes to finish\n",
    "    clothing_process.join()\n",
    "    grocery_process.join()\n",
    "    utensils_process.join()\n",
    "\n",
    "    parallel_time = time.time() - start_time\n",
    "\n",
    "    # Calculate the total amount\n",
    "    total_amount = sum(results.values())\n",
    "\n",
    "    # Display the results\n",
    "    print(\"Section-wise Totals:\")\n",
    "    for section, total in results.items():\n",
    "        print(f\"{section}: ${total}\")\n",
    "\n",
    "    print(\"\\nTotal Amount to be Paid: $\" + str(total_amount))\n",
    "\n",
    "    # Display the time taken\n",
    "    print(\"\\nSequential Processing Time: {:.4f} seconds\".format(sequential_time))\n",
    "    print(\"Parallel Processing Time: {:.4f} seconds\".format(parallel_time))"
   ]
  },
  {
   "cell_type": "code",
   "execution_count": null,
   "id": "98f870da",
   "metadata": {},
   "outputs": [],
   "source": []
  },
  {
   "cell_type": "code",
   "execution_count": 1,
   "id": "6f9a1a9e",
   "metadata": {},
   "outputs": [],
   "source": [
    "import threading\n",
    "import time\n",
    "import random\n",
    "import os\n",
    "import multiprocessing"
   ]
  },
  {
   "cell_type": "code",
   "execution_count": 9,
   "id": "587ea202",
   "metadata": {},
   "outputs": [],
   "source": [
    "clothing_items = {'Shirt': 20, 'Pants': 30, 'Sweater': 25}\n",
    "grocery_items = {'Bread': 3, 'Milk': 2, 'Eggs': 1.5}\n",
    "utensils_items = {'Plate': 5, 'Cup': 3, 'Fork': 1}"
   ]
  },
  {
   "cell_type": "code",
   "execution_count": 10,
   "id": "bae5b32e",
   "metadata": {},
   "outputs": [],
   "source": [
    "total_amount = 0.0"
   ]
  },
  {
   "cell_type": "code",
   "execution_count": 11,
   "id": "bf28a83b",
   "metadata": {},
   "outputs": [],
   "source": [
    "def process_section(section_name, items):\n",
    "    global total_amount\n",
    "\n",
    "    section_total = 0.0\n",
    "\n",
    "    # Simulate the customer adding items to the cart\n",
    "    cart = []\n",
    "    for item, price in items.items():\n",
    "        quantity = random.randint(1, 5)\n",
    "        section_total += quantity * price\n",
    "        cart.append(f'{item} x{quantity}')\n",
    "\n",
    "    # Display items in the cart for the current section\n",
    "    print(f\"Cart in {section_name} section: {', '.join(cart)}\")\n",
    "\n",
    "    # Update the total amount\n",
    "    with threading.Lock():\n",
    "        total_amount += section_total"
   ]
  },
  {
   "cell_type": "code",
   "execution_count": 12,
   "id": "3a1e4fe7",
   "metadata": {},
   "outputs": [
    {
     "name": "stdout",
     "output_type": "stream",
     "text": [
      "Cart in Clothing section: Shirt x1, Pants x2, Sweater x5\n",
      "Cart in Grocery section: Bread x1, Milk x4, Eggs x3\n",
      "Cart in Utensils section: Plate x3, Cup x5, Fork x4\n",
      "\n",
      "Sequential Total Amount to be Paid: $254.50\n",
      "Sequential Processing Time: 0.000000 seconds\n",
      "\n",
      "Cart in Clothing section: Shirt x4, Pants x5, Sweater x2\n",
      "Cart in Grocery section: Bread x5, Milk x1, Eggs x1\n",
      "Cart in Utensils section: Plate x1, Cup x1, Fork x2\n",
      "\n",
      "Parallel Total Amount to be Paid: $308.50\n",
      "Parallel Processing Time: 0.007030 seconds\n"
     ]
    }
   ],
   "source": [
    "if __name__ == \"__main__\":\n",
    "    # Number of parallel threads (sections)\n",
    "    num_sections = 3\n",
    "\n",
    "    # Sequential processing\n",
    "    start_time = time.time()\n",
    "\n",
    "    process_section('Clothing', clothing_items)\n",
    "    process_section('Grocery', grocery_items)\n",
    "    process_section('Utensils', utensils_items)\n",
    "\n",
    "    sequential_time = time.time() - start_time\n",
    "\n",
    "    # Display the final total amount for sequential processing\n",
    "    print(f\"\\nSequential Total Amount to be Paid: ${total_amount:.2f}\")\n",
    "    print(f\"Sequential Processing Time: {sequential_time:.6f} seconds\\n\")\n",
    "\n",
    "    # Reset the total amount for parallel processing\n",
    "    total_amount = 0.0\n",
    "\n",
    "    # Parallel processing\n",
    "    start_time = time.time()\n",
    "\n",
    "    # Create a list of threads for each section\n",
    "    threads = []\n",
    "\n",
    "    # Clothing section processing\n",
    "    clothing_thread = threading.Thread(target=process_section, args=('Clothing', clothing_items))\n",
    "    threads.append(clothing_thread)\n",
    "\n",
    "    # Grocery section processing\n",
    "    grocery_thread = threading.Thread(target=process_section, args=('Grocery', grocery_items))\n",
    "    threads.append(grocery_thread)\n",
    "\n",
    "    # Utensils section processing\n",
    "    utensils_thread = threading.Thread(target=process_section, args=('Utensils', utensils_items))\n",
    "    threads.append(utensils_thread)\n",
    "\n",
    "    # Start the threads\n",
    "    for thread in threads:\n",
    "        thread.start()\n",
    "\n",
    "    # Wait for all threads to finish\n",
    "    for thread in threads:\n",
    "        thread.join()\n",
    "\n",
    "    parallel_time = time.time() - start_time\n",
    "\n",
    "    # Display the final total amount for parallel processing\n",
    "    print(f\"\\nParallel Total Amount to be Paid: ${total_amount:.2f}\")\n",
    "    print(f\"Parallel Processing Time: {parallel_time:.6f} seconds\")"
   ]
  }
 ],
 "metadata": {
  "kernelspec": {
   "display_name": "Python 3 (ipykernel)",
   "language": "python",
   "name": "python3"
  },
  "language_info": {
   "codemirror_mode": {
    "name": "ipython",
    "version": 3
   },
   "file_extension": ".py",
   "mimetype": "text/x-python",
   "name": "python",
   "nbconvert_exporter": "python",
   "pygments_lexer": "ipython3",
   "version": "3.11.5"
  }
 },
 "nbformat": 4,
 "nbformat_minor": 5
}

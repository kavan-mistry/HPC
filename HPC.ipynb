{
 "cells": [
  {
   "cell_type": "code",
   "execution_count": null,
   "metadata": {
    "colab": {
     "base_uri": "https://localhost:8080/"
    },
    "id": "2wLH-WFz9hXM",
    "outputId": "c939dd63-93b1-430f-db97-f5608fb3df93"
   },
   "outputs": [
    {
     "name": "stdout",
     "output_type": "stream",
     "text": [
      "Collecting pycuda\n",
      "  Downloading pycuda-2024.1.tar.gz (1.7 MB)\n",
      "\u001b[2K     \u001b[90m━━━━━━━━━━━━━━━━━━━━━━━━━━━━━━━━━━━━━━━━\u001b[0m \u001b[32m1.7/1.7 MB\u001b[0m \u001b[31m12.8 MB/s\u001b[0m eta \u001b[36m0:00:00\u001b[0m\n",
      "\u001b[?25h  Installing build dependencies ... \u001b[?25l\u001b[?25hdone\n",
      "  Getting requirements to build wheel ... \u001b[?25l\u001b[?25hdone\n",
      "  Preparing metadata (pyproject.toml) ... \u001b[?25l\u001b[?25hdone\n",
      "Collecting pytools>=2011.2 (from pycuda)\n",
      "  Downloading pytools-2024.1.1-py2.py3-none-any.whl (85 kB)\n",
      "\u001b[2K     \u001b[90m━━━━━━━━━━━━━━━━━━━━━━━━━━━━━━━━━━━━━━━━\u001b[0m \u001b[32m85.1/85.1 kB\u001b[0m \u001b[31m12.5 MB/s\u001b[0m eta \u001b[36m0:00:00\u001b[0m\n",
      "\u001b[?25hRequirement already satisfied: appdirs>=1.4.0 in /usr/local/lib/python3.10/dist-packages (from pycuda) (1.4.4)\n",
      "Collecting mako (from pycuda)\n",
      "  Downloading Mako-1.3.2-py3-none-any.whl (78 kB)\n",
      "\u001b[2K     \u001b[90m━━━━━━━━━━━━━━━━━━━━━━━━━━━━━━━━━━━━━━━━\u001b[0m \u001b[32m78.7/78.7 kB\u001b[0m \u001b[31m11.9 MB/s\u001b[0m eta \u001b[36m0:00:00\u001b[0m\n",
      "\u001b[?25hRequirement already satisfied: platformdirs>=2.2.0 in /usr/local/lib/python3.10/dist-packages (from pytools>=2011.2->pycuda) (4.2.0)\n",
      "Requirement already satisfied: typing-extensions>=4.0 in /usr/local/lib/python3.10/dist-packages (from pytools>=2011.2->pycuda) (4.10.0)\n",
      "Requirement already satisfied: MarkupSafe>=0.9.2 in /usr/local/lib/python3.10/dist-packages (from mako->pycuda) (2.1.5)\n",
      "Building wheels for collected packages: pycuda\n",
      "  Building wheel for pycuda (pyproject.toml) ... \u001b[?25l\u001b[?25hdone\n",
      "  Created wheel for pycuda: filename=pycuda-2024.1-cp310-cp310-linux_x86_64.whl size=661204 sha256=8a1d449519c660ef2e99d9c480517182f04b27310e1ea4e95f51ed6b1d2201b1\n",
      "  Stored in directory: /root/.cache/pip/wheels/12/34/d2/9a349255a4eca3a486d82c79d21e138ce2ccd90f414d9d72b8\n",
      "Successfully built pycuda\n",
      "Installing collected packages: pytools, mako, pycuda\n",
      "Successfully installed mako-1.3.2 pycuda-2024.1 pytools-2024.1.1\n"
     ]
    }
   ],
   "source": [
    "!pip install pycuda"
   ]
  },
  {
   "cell_type": "code",
   "execution_count": null,
   "metadata": {
    "colab": {
     "base_uri": "https://localhost:8080/"
    },
    "id": "8bToMPz4AWoD",
    "outputId": "ff18deb6-1360-4723-a7b7-4cfa714e89d2"
   },
   "outputs": [
    {
     "name": "stdout",
     "output_type": "stream",
     "text": [
      "Overwriting hello_1_1.cu\n"
     ]
    }
   ],
   "source": [
    "%%writefile hello_1_1.cu\n",
    "\n",
    "#include <stdio.h>\n",
    "\n",
    "__global__ void cuda_hello_1_1() {\n",
    "    printf(\"Hello World from GPU with grid dimension (1, 1) and block dimension (1, 1)!\\n\");\n",
    "}\n",
    "\n",
    "int main() {\n",
    "    cuda_hello_1_1<<<1,1>>>();\n",
    "    cudaDeviceSynchronize(); // Make sure all GPU work is done before exiting\n",
    "    return 0;\n",
    "}"
   ]
  },
  {
   "cell_type": "code",
   "execution_count": null,
   "metadata": {
    "id": "xo7JWXfXAl-T"
   },
   "outputs": [],
   "source": [
    "!nvcc -o hello_1_1 hello_1_1.cu"
   ]
  },
  {
   "cell_type": "code",
   "execution_count": null,
   "metadata": {
    "colab": {
     "base_uri": "https://localhost:8080/"
    },
    "id": "9aFz0NQlA6Mz",
    "outputId": "76688261-beab-4903-8bb7-63f3d753c85e"
   },
   "outputs": [
    {
     "name": "stdout",
     "output_type": "stream",
     "text": [
      "Hello World from GPU with grid dimension (1, 1) and block dimension (1, 1)!\n"
     ]
    }
   ],
   "source": [
    "!./hello_1_1"
   ]
  },
  {
   "cell_type": "code",
   "execution_count": null,
   "metadata": {
    "colab": {
     "base_uri": "https://localhost:8080/"
    },
    "id": "8U9vfUTfA7_I",
    "outputId": "4909be6b-fe09-44b7-8642-a8951dcd1fd3"
   },
   "outputs": [
    {
     "name": "stdout",
     "output_type": "stream",
     "text": [
      "Writing hello_5_50.cu\n"
     ]
    }
   ],
   "source": [
    "%%writefile hello_5_50.cu\n",
    "\n",
    "#include <stdio.h>\n",
    "\n",
    "__global__ void cuda_hello_5_50() {\n",
    "    printf(\"Hello World from GPU with grid dimension (5, 50) and block dimension (1, 1)!\\n\");\n",
    "}\n",
    "\n",
    "int main() {\n",
    "    dim3 gridDim(5, 50);\n",
    "    cuda_hello_5_50<<<gridDim, 1>>>();\n",
    "    cudaDeviceSynchronize(); // Make sure all GPU work is done before exiting\n",
    "    return 0;\n",
    "}"
   ]
  },
  {
   "cell_type": "code",
   "execution_count": null,
   "metadata": {
    "id": "ZfsOWjZwA-IS"
   },
   "outputs": [],
   "source": [
    "!nvcc -o hello_5_50 hello_5_50.cu"
   ]
  },
  {
   "cell_type": "code",
   "execution_count": null,
   "metadata": {
    "colab": {
     "base_uri": "https://localhost:8080/"
    },
    "id": "EcirrXPRA_vK",
    "outputId": "60598ba9-a3c9-4f02-cdd3-96eb38fc4a50"
   },
   "outputs": [
    {
     "name": "stdout",
     "output_type": "stream",
     "text": [
      "Hello World from GPU with grid dimension (5, 50) and block dimension (1, 1)!\n",
      "Hello World from GPU with grid dimension (5, 50) and block dimension (1, 1)!\n",
      "Hello World from GPU with grid dimension (5, 50) and block dimension (1, 1)!\n",
      "Hello World from GPU with grid dimension (5, 50) and block dimension (1, 1)!\n",
      "Hello World from GPU with grid dimension (5, 50) and block dimension (1, 1)!\n",
      "Hello World from GPU with grid dimension (5, 50) and block dimension (1, 1)!\n",
      "Hello World from GPU with grid dimension (5, 50) and block dimension (1, 1)!\n",
      "Hello World from GPU with grid dimension (5, 50) and block dimension (1, 1)!\n",
      "Hello World from GPU with grid dimension (5, 50) and block dimension (1, 1)!\n",
      "Hello World from GPU with grid dimension (5, 50) and block dimension (1, 1)!\n",
      "Hello World from GPU with grid dimension (5, 50) and block dimension (1, 1)!\n",
      "Hello World from GPU with grid dimension (5, 50) and block dimension (1, 1)!\n",
      "Hello World from GPU with grid dimension (5, 50) and block dimension (1, 1)!\n",
      "Hello World from GPU with grid dimension (5, 50) and block dimension (1, 1)!\n",
      "Hello World from GPU with grid dimension (5, 50) and block dimension (1, 1)!\n",
      "Hello World from GPU with grid dimension (5, 50) and block dimension (1, 1)!\n",
      "Hello World from GPU with grid dimension (5, 50) and block dimension (1, 1)!\n",
      "Hello World from GPU with grid dimension (5, 50) and block dimension (1, 1)!\n",
      "Hello World from GPU with grid dimension (5, 50) and block dimension (1, 1)!\n",
      "Hello World from GPU with grid dimension (5, 50) and block dimension (1, 1)!\n",
      "Hello World from GPU with grid dimension (5, 50) and block dimension (1, 1)!\n",
      "Hello World from GPU with grid dimension (5, 50) and block dimension (1, 1)!\n",
      "Hello World from GPU with grid dimension (5, 50) and block dimension (1, 1)!\n",
      "Hello World from GPU with grid dimension (5, 50) and block dimension (1, 1)!\n",
      "Hello World from GPU with grid dimension (5, 50) and block dimension (1, 1)!\n",
      "Hello World from GPU with grid dimension (5, 50) and block dimension (1, 1)!\n",
      "Hello World from GPU with grid dimension (5, 50) and block dimension (1, 1)!\n",
      "Hello World from GPU with grid dimension (5, 50) and block dimension (1, 1)!\n",
      "Hello World from GPU with grid dimension (5, 50) and block dimension (1, 1)!\n",
      "Hello World from GPU with grid dimension (5, 50) and block dimension (1, 1)!\n",
      "Hello World from GPU with grid dimension (5, 50) and block dimension (1, 1)!\n",
      "Hello World from GPU with grid dimension (5, 50) and block dimension (1, 1)!\n",
      "Hello World from GPU with grid dimension (5, 50) and block dimension (1, 1)!\n",
      "Hello World from GPU with grid dimension (5, 50) and block dimension (1, 1)!\n",
      "Hello World from GPU with grid dimension (5, 50) and block dimension (1, 1)!\n",
      "Hello World from GPU with grid dimension (5, 50) and block dimension (1, 1)!\n",
      "Hello World from GPU with grid dimension (5, 50) and block dimension (1, 1)!\n",
      "Hello World from GPU with grid dimension (5, 50) and block dimension (1, 1)!\n",
      "Hello World from GPU with grid dimension (5, 50) and block dimension (1, 1)!\n",
      "Hello World from GPU with grid dimension (5, 50) and block dimension (1, 1)!\n",
      "Hello World from GPU with grid dimension (5, 50) and block dimension (1, 1)!\n",
      "Hello World from GPU with grid dimension (5, 50) and block dimension (1, 1)!\n",
      "Hello World from GPU with grid dimension (5, 50) and block dimension (1, 1)!\n",
      "Hello World from GPU with grid dimension (5, 50) and block dimension (1, 1)!\n",
      "Hello World from GPU with grid dimension (5, 50) and block dimension (1, 1)!\n",
      "Hello World from GPU with grid dimension (5, 50) and block dimension (1, 1)!\n",
      "Hello World from GPU with grid dimension (5, 50) and block dimension (1, 1)!\n",
      "Hello World from GPU with grid dimension (5, 50) and block dimension (1, 1)!\n",
      "Hello World from GPU with grid dimension (5, 50) and block dimension (1, 1)!\n",
      "Hello World from GPU with grid dimension (5, 50) and block dimension (1, 1)!\n",
      "Hello World from GPU with grid dimension (5, 50) and block dimension (1, 1)!\n",
      "Hello World from GPU with grid dimension (5, 50) and block dimension (1, 1)!\n",
      "Hello World from GPU with grid dimension (5, 50) and block dimension (1, 1)!\n",
      "Hello World from GPU with grid dimension (5, 50) and block dimension (1, 1)!\n",
      "Hello World from GPU with grid dimension (5, 50) and block dimension (1, 1)!\n",
      "Hello World from GPU with grid dimension (5, 50) and block dimension (1, 1)!\n",
      "Hello World from GPU with grid dimension (5, 50) and block dimension (1, 1)!\n",
      "Hello World from GPU with grid dimension (5, 50) and block dimension (1, 1)!\n",
      "Hello World from GPU with grid dimension (5, 50) and block dimension (1, 1)!\n",
      "Hello World from GPU with grid dimension (5, 50) and block dimension (1, 1)!\n",
      "Hello World from GPU with grid dimension (5, 50) and block dimension (1, 1)!\n",
      "Hello World from GPU with grid dimension (5, 50) and block dimension (1, 1)!\n",
      "Hello World from GPU with grid dimension (5, 50) and block dimension (1, 1)!\n",
      "Hello World from GPU with grid dimension (5, 50) and block dimension (1, 1)!\n",
      "Hello World from GPU with grid dimension (5, 50) and block dimension (1, 1)!\n",
      "Hello World from GPU with grid dimension (5, 50) and block dimension (1, 1)!\n",
      "Hello World from GPU with grid dimension (5, 50) and block dimension (1, 1)!\n",
      "Hello World from GPU with grid dimension (5, 50) and block dimension (1, 1)!\n",
      "Hello World from GPU with grid dimension (5, 50) and block dimension (1, 1)!\n",
      "Hello World from GPU with grid dimension (5, 50) and block dimension (1, 1)!\n",
      "Hello World from GPU with grid dimension (5, 50) and block dimension (1, 1)!\n",
      "Hello World from GPU with grid dimension (5, 50) and block dimension (1, 1)!\n",
      "Hello World from GPU with grid dimension (5, 50) and block dimension (1, 1)!\n",
      "Hello World from GPU with grid dimension (5, 50) and block dimension (1, 1)!\n",
      "Hello World from GPU with grid dimension (5, 50) and block dimension (1, 1)!\n",
      "Hello World from GPU with grid dimension (5, 50) and block dimension (1, 1)!\n",
      "Hello World from GPU with grid dimension (5, 50) and block dimension (1, 1)!\n",
      "Hello World from GPU with grid dimension (5, 50) and block dimension (1, 1)!\n",
      "Hello World from GPU with grid dimension (5, 50) and block dimension (1, 1)!\n",
      "Hello World from GPU with grid dimension (5, 50) and block dimension (1, 1)!\n",
      "Hello World from GPU with grid dimension (5, 50) and block dimension (1, 1)!\n",
      "Hello World from GPU with grid dimension (5, 50) and block dimension (1, 1)!\n",
      "Hello World from GPU with grid dimension (5, 50) and block dimension (1, 1)!\n",
      "Hello World from GPU with grid dimension (5, 50) and block dimension (1, 1)!\n",
      "Hello World from GPU with grid dimension (5, 50) and block dimension (1, 1)!\n",
      "Hello World from GPU with grid dimension (5, 50) and block dimension (1, 1)!\n",
      "Hello World from GPU with grid dimension (5, 50) and block dimension (1, 1)!\n",
      "Hello World from GPU with grid dimension (5, 50) and block dimension (1, 1)!\n",
      "Hello World from GPU with grid dimension (5, 50) and block dimension (1, 1)!\n",
      "Hello World from GPU with grid dimension (5, 50) and block dimension (1, 1)!\n",
      "Hello World from GPU with grid dimension (5, 50) and block dimension (1, 1)!\n",
      "Hello World from GPU with grid dimension (5, 50) and block dimension (1, 1)!\n",
      "Hello World from GPU with grid dimension (5, 50) and block dimension (1, 1)!\n",
      "Hello World from GPU with grid dimension (5, 50) and block dimension (1, 1)!\n",
      "Hello World from GPU with grid dimension (5, 50) and block dimension (1, 1)!\n",
      "Hello World from GPU with grid dimension (5, 50) and block dimension (1, 1)!\n",
      "Hello World from GPU with grid dimension (5, 50) and block dimension (1, 1)!\n",
      "Hello World from GPU with grid dimension (5, 50) and block dimension (1, 1)!\n",
      "Hello World from GPU with grid dimension (5, 50) and block dimension (1, 1)!\n",
      "Hello World from GPU with grid dimension (5, 50) and block dimension (1, 1)!\n",
      "Hello World from GPU with grid dimension (5, 50) and block dimension (1, 1)!\n",
      "Hello World from GPU with grid dimension (5, 50) and block dimension (1, 1)!\n",
      "Hello World from GPU with grid dimension (5, 50) and block dimension (1, 1)!\n",
      "Hello World from GPU with grid dimension (5, 50) and block dimension (1, 1)!\n",
      "Hello World from GPU with grid dimension (5, 50) and block dimension (1, 1)!\n",
      "Hello World from GPU with grid dimension (5, 50) and block dimension (1, 1)!\n",
      "Hello World from GPU with grid dimension (5, 50) and block dimension (1, 1)!\n",
      "Hello World from GPU with grid dimension (5, 50) and block dimension (1, 1)!\n",
      "Hello World from GPU with grid dimension (5, 50) and block dimension (1, 1)!\n",
      "Hello World from GPU with grid dimension (5, 50) and block dimension (1, 1)!\n",
      "Hello World from GPU with grid dimension (5, 50) and block dimension (1, 1)!\n",
      "Hello World from GPU with grid dimension (5, 50) and block dimension (1, 1)!\n",
      "Hello World from GPU with grid dimension (5, 50) and block dimension (1, 1)!\n",
      "Hello World from GPU with grid dimension (5, 50) and block dimension (1, 1)!\n",
      "Hello World from GPU with grid dimension (5, 50) and block dimension (1, 1)!\n",
      "Hello World from GPU with grid dimension (5, 50) and block dimension (1, 1)!\n",
      "Hello World from GPU with grid dimension (5, 50) and block dimension (1, 1)!\n",
      "Hello World from GPU with grid dimension (5, 50) and block dimension (1, 1)!\n",
      "Hello World from GPU with grid dimension (5, 50) and block dimension (1, 1)!\n",
      "Hello World from GPU with grid dimension (5, 50) and block dimension (1, 1)!\n",
      "Hello World from GPU with grid dimension (5, 50) and block dimension (1, 1)!\n",
      "Hello World from GPU with grid dimension (5, 50) and block dimension (1, 1)!\n",
      "Hello World from GPU with grid dimension (5, 50) and block dimension (1, 1)!\n",
      "Hello World from GPU with grid dimension (5, 50) and block dimension (1, 1)!\n",
      "Hello World from GPU with grid dimension (5, 50) and block dimension (1, 1)!\n",
      "Hello World from GPU with grid dimension (5, 50) and block dimension (1, 1)!\n",
      "Hello World from GPU with grid dimension (5, 50) and block dimension (1, 1)!\n",
      "Hello World from GPU with grid dimension (5, 50) and block dimension (1, 1)!\n",
      "Hello World from GPU with grid dimension (5, 50) and block dimension (1, 1)!\n",
      "Hello World from GPU with grid dimension (5, 50) and block dimension (1, 1)!\n",
      "Hello World from GPU with grid dimension (5, 50) and block dimension (1, 1)!\n",
      "Hello World from GPU with grid dimension (5, 50) and block dimension (1, 1)!\n",
      "Hello World from GPU with grid dimension (5, 50) and block dimension (1, 1)!\n",
      "Hello World from GPU with grid dimension (5, 50) and block dimension (1, 1)!\n",
      "Hello World from GPU with grid dimension (5, 50) and block dimension (1, 1)!\n",
      "Hello World from GPU with grid dimension (5, 50) and block dimension (1, 1)!\n",
      "Hello World from GPU with grid dimension (5, 50) and block dimension (1, 1)!\n",
      "Hello World from GPU with grid dimension (5, 50) and block dimension (1, 1)!\n",
      "Hello World from GPU with grid dimension (5, 50) and block dimension (1, 1)!\n",
      "Hello World from GPU with grid dimension (5, 50) and block dimension (1, 1)!\n",
      "Hello World from GPU with grid dimension (5, 50) and block dimension (1, 1)!\n",
      "Hello World from GPU with grid dimension (5, 50) and block dimension (1, 1)!\n",
      "Hello World from GPU with grid dimension (5, 50) and block dimension (1, 1)!\n",
      "Hello World from GPU with grid dimension (5, 50) and block dimension (1, 1)!\n",
      "Hello World from GPU with grid dimension (5, 50) and block dimension (1, 1)!\n",
      "Hello World from GPU with grid dimension (5, 50) and block dimension (1, 1)!\n",
      "Hello World from GPU with grid dimension (5, 50) and block dimension (1, 1)!\n",
      "Hello World from GPU with grid dimension (5, 50) and block dimension (1, 1)!\n",
      "Hello World from GPU with grid dimension (5, 50) and block dimension (1, 1)!\n",
      "Hello World from GPU with grid dimension (5, 50) and block dimension (1, 1)!\n",
      "Hello World from GPU with grid dimension (5, 50) and block dimension (1, 1)!\n",
      "Hello World from GPU with grid dimension (5, 50) and block dimension (1, 1)!\n",
      "Hello World from GPU with grid dimension (5, 50) and block dimension (1, 1)!\n",
      "Hello World from GPU with grid dimension (5, 50) and block dimension (1, 1)!\n",
      "Hello World from GPU with grid dimension (5, 50) and block dimension (1, 1)!\n",
      "Hello World from GPU with grid dimension (5, 50) and block dimension (1, 1)!\n",
      "Hello World from GPU with grid dimension (5, 50) and block dimension (1, 1)!\n",
      "Hello World from GPU with grid dimension (5, 50) and block dimension (1, 1)!\n",
      "Hello World from GPU with grid dimension (5, 50) and block dimension (1, 1)!\n",
      "Hello World from GPU with grid dimension (5, 50) and block dimension (1, 1)!\n",
      "Hello World from GPU with grid dimension (5, 50) and block dimension (1, 1)!\n",
      "Hello World from GPU with grid dimension (5, 50) and block dimension (1, 1)!\n",
      "Hello World from GPU with grid dimension (5, 50) and block dimension (1, 1)!\n",
      "Hello World from GPU with grid dimension (5, 50) and block dimension (1, 1)!\n",
      "Hello World from GPU with grid dimension (5, 50) and block dimension (1, 1)!\n",
      "Hello World from GPU with grid dimension (5, 50) and block dimension (1, 1)!\n",
      "Hello World from GPU with grid dimension (5, 50) and block dimension (1, 1)!\n",
      "Hello World from GPU with grid dimension (5, 50) and block dimension (1, 1)!\n",
      "Hello World from GPU with grid dimension (5, 50) and block dimension (1, 1)!\n",
      "Hello World from GPU with grid dimension (5, 50) and block dimension (1, 1)!\n",
      "Hello World from GPU with grid dimension (5, 50) and block dimension (1, 1)!\n",
      "Hello World from GPU with grid dimension (5, 50) and block dimension (1, 1)!\n",
      "Hello World from GPU with grid dimension (5, 50) and block dimension (1, 1)!\n",
      "Hello World from GPU with grid dimension (5, 50) and block dimension (1, 1)!\n",
      "Hello World from GPU with grid dimension (5, 50) and block dimension (1, 1)!\n",
      "Hello World from GPU with grid dimension (5, 50) and block dimension (1, 1)!\n",
      "Hello World from GPU with grid dimension (5, 50) and block dimension (1, 1)!\n",
      "Hello World from GPU with grid dimension (5, 50) and block dimension (1, 1)!\n",
      "Hello World from GPU with grid dimension (5, 50) and block dimension (1, 1)!\n",
      "Hello World from GPU with grid dimension (5, 50) and block dimension (1, 1)!\n",
      "Hello World from GPU with grid dimension (5, 50) and block dimension (1, 1)!\n",
      "Hello World from GPU with grid dimension (5, 50) and block dimension (1, 1)!\n",
      "Hello World from GPU with grid dimension (5, 50) and block dimension (1, 1)!\n",
      "Hello World from GPU with grid dimension (5, 50) and block dimension (1, 1)!\n",
      "Hello World from GPU with grid dimension (5, 50) and block dimension (1, 1)!\n",
      "Hello World from GPU with grid dimension (5, 50) and block dimension (1, 1)!\n",
      "Hello World from GPU with grid dimension (5, 50) and block dimension (1, 1)!\n",
      "Hello World from GPU with grid dimension (5, 50) and block dimension (1, 1)!\n",
      "Hello World from GPU with grid dimension (5, 50) and block dimension (1, 1)!\n",
      "Hello World from GPU with grid dimension (5, 50) and block dimension (1, 1)!\n",
      "Hello World from GPU with grid dimension (5, 50) and block dimension (1, 1)!\n",
      "Hello World from GPU with grid dimension (5, 50) and block dimension (1, 1)!\n",
      "Hello World from GPU with grid dimension (5, 50) and block dimension (1, 1)!\n",
      "Hello World from GPU with grid dimension (5, 50) and block dimension (1, 1)!\n",
      "Hello World from GPU with grid dimension (5, 50) and block dimension (1, 1)!\n",
      "Hello World from GPU with grid dimension (5, 50) and block dimension (1, 1)!\n",
      "Hello World from GPU with grid dimension (5, 50) and block dimension (1, 1)!\n",
      "Hello World from GPU with grid dimension (5, 50) and block dimension (1, 1)!\n",
      "Hello World from GPU with grid dimension (5, 50) and block dimension (1, 1)!\n",
      "Hello World from GPU with grid dimension (5, 50) and block dimension (1, 1)!\n",
      "Hello World from GPU with grid dimension (5, 50) and block dimension (1, 1)!\n",
      "Hello World from GPU with grid dimension (5, 50) and block dimension (1, 1)!\n",
      "Hello World from GPU with grid dimension (5, 50) and block dimension (1, 1)!\n",
      "Hello World from GPU with grid dimension (5, 50) and block dimension (1, 1)!\n",
      "Hello World from GPU with grid dimension (5, 50) and block dimension (1, 1)!\n",
      "Hello World from GPU with grid dimension (5, 50) and block dimension (1, 1)!\n",
      "Hello World from GPU with grid dimension (5, 50) and block dimension (1, 1)!\n",
      "Hello World from GPU with grid dimension (5, 50) and block dimension (1, 1)!\n",
      "Hello World from GPU with grid dimension (5, 50) and block dimension (1, 1)!\n",
      "Hello World from GPU with grid dimension (5, 50) and block dimension (1, 1)!\n",
      "Hello World from GPU with grid dimension (5, 50) and block dimension (1, 1)!\n",
      "Hello World from GPU with grid dimension (5, 50) and block dimension (1, 1)!\n",
      "Hello World from GPU with grid dimension (5, 50) and block dimension (1, 1)!\n",
      "Hello World from GPU with grid dimension (5, 50) and block dimension (1, 1)!\n",
      "Hello World from GPU with grid dimension (5, 50) and block dimension (1, 1)!\n",
      "Hello World from GPU with grid dimension (5, 50) and block dimension (1, 1)!\n",
      "Hello World from GPU with grid dimension (5, 50) and block dimension (1, 1)!\n",
      "Hello World from GPU with grid dimension (5, 50) and block dimension (1, 1)!\n",
      "Hello World from GPU with grid dimension (5, 50) and block dimension (1, 1)!\n",
      "Hello World from GPU with grid dimension (5, 50) and block dimension (1, 1)!\n",
      "Hello World from GPU with grid dimension (5, 50) and block dimension (1, 1)!\n",
      "Hello World from GPU with grid dimension (5, 50) and block dimension (1, 1)!\n",
      "Hello World from GPU with grid dimension (5, 50) and block dimension (1, 1)!\n",
      "Hello World from GPU with grid dimension (5, 50) and block dimension (1, 1)!\n",
      "Hello World from GPU with grid dimension (5, 50) and block dimension (1, 1)!\n",
      "Hello World from GPU with grid dimension (5, 50) and block dimension (1, 1)!\n",
      "Hello World from GPU with grid dimension (5, 50) and block dimension (1, 1)!\n",
      "Hello World from GPU with grid dimension (5, 50) and block dimension (1, 1)!\n",
      "Hello World from GPU with grid dimension (5, 50) and block dimension (1, 1)!\n",
      "Hello World from GPU with grid dimension (5, 50) and block dimension (1, 1)!\n",
      "Hello World from GPU with grid dimension (5, 50) and block dimension (1, 1)!\n",
      "Hello World from GPU with grid dimension (5, 50) and block dimension (1, 1)!\n",
      "Hello World from GPU with grid dimension (5, 50) and block dimension (1, 1)!\n",
      "Hello World from GPU with grid dimension (5, 50) and block dimension (1, 1)!\n",
      "Hello World from GPU with grid dimension (5, 50) and block dimension (1, 1)!\n",
      "Hello World from GPU with grid dimension (5, 50) and block dimension (1, 1)!\n",
      "Hello World from GPU with grid dimension (5, 50) and block dimension (1, 1)!\n",
      "Hello World from GPU with grid dimension (5, 50) and block dimension (1, 1)!\n",
      "Hello World from GPU with grid dimension (5, 50) and block dimension (1, 1)!\n",
      "Hello World from GPU with grid dimension (5, 50) and block dimension (1, 1)!\n",
      "Hello World from GPU with grid dimension (5, 50) and block dimension (1, 1)!\n",
      "Hello World from GPU with grid dimension (5, 50) and block dimension (1, 1)!\n",
      "Hello World from GPU with grid dimension (5, 50) and block dimension (1, 1)!\n",
      "Hello World from GPU with grid dimension (5, 50) and block dimension (1, 1)!\n",
      "Hello World from GPU with grid dimension (5, 50) and block dimension (1, 1)!\n",
      "Hello World from GPU with grid dimension (5, 50) and block dimension (1, 1)!\n",
      "Hello World from GPU with grid dimension (5, 50) and block dimension (1, 1)!\n",
      "Hello World from GPU with grid dimension (5, 50) and block dimension (1, 1)!\n",
      "Hello World from GPU with grid dimension (5, 50) and block dimension (1, 1)!\n",
      "Hello World from GPU with grid dimension (5, 50) and block dimension (1, 1)!\n"
     ]
    }
   ],
   "source": [
    "!./hello_5_50"
   ]
  },
  {
   "cell_type": "code",
   "execution_count": null,
   "metadata": {
    "colab": {
     "base_uri": "https://localhost:8080/"
    },
    "id": "_Ys-HOdQBBIH",
    "outputId": "bb4f2dad-46db-45e5-cb43-1a878753f774"
   },
   "outputs": [
    {
     "name": "stdout",
     "output_type": "stream",
     "text": [
      "Image dimensions: 80x80\n",
      "Total pixels: 6400\n",
      "Maximum threads per block for device Tesla T4: 1024\n",
      "Number of blocks needed: 7\n"
     ]
    }
   ],
   "source": [
    "import pycuda.driver as cuda\n",
    "import pycuda.autoinit\n",
    "\n",
    "image_width = 80\n",
    "image_height = 80\n",
    "\n",
    "total_pixels = image_width * image_height\n",
    "\n",
    "device = cuda.Device(0)\n",
    "\n",
    "max_threads_per_block = device.get_attribute(cuda.device_attribute.MAX_THREADS_PER_BLOCK)\n",
    "\n",
    "num_blocks = (total_pixels + max_threads_per_block - 1) // max_threads_per_block\n",
    "\n",
    "print(f\"Image dimensions: {image_width}x{image_height}\")\n",
    "print(f\"Total pixels: {total_pixels}\")\n",
    "print(f\"Maximum threads per block for device {device.name()}: {max_threads_per_block}\")\n",
    "print(f\"Number of blocks needed: {num_blocks}\")"
   ]
  },
  {
   "cell_type": "code",
   "execution_count": null,
   "metadata": {
    "id": "eWEwnydDBMvC"
   },
   "outputs": [],
   "source": []
  }
 ],
 "metadata": {
  "accelerator": "GPU",
  "colab": {
   "gpuType": "T4",
   "provenance": []
  },
  "kernelspec": {
   "display_name": "Python 3 (ipykernel)",
   "language": "python",
   "name": "python3"
  },
  "language_info": {
   "codemirror_mode": {
    "name": "ipython",
    "version": 3
   },
   "file_extension": ".py",
   "mimetype": "text/x-python",
   "name": "python",
   "nbconvert_exporter": "python",
   "pygments_lexer": "ipython3",
   "version": "3.10.13"
  }
 },
 "nbformat": 4,
 "nbformat_minor": 4
}

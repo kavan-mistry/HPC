{
 "cells": [
  {
   "cell_type": "markdown",
   "id": "04042a3d",
   "metadata": {},
   "source": [
    "# Assignment 10"
   ]
  },
  {
   "cell_type": "markdown",
   "id": "7e5a6400",
   "metadata": {},
   "source": [
    "Write a program to show collective communication by taking suitable example such that computing average of n numbers or computing sum or product of two matrices... :\n",
    "\n",
    "* Bcast function\n",
    "* Scatter function\n",
    "* Gather function"
   ]
  },
  {
   "cell_type": "code",
   "execution_count": 1,
   "id": "58754ef6",
   "metadata": {},
   "outputs": [],
   "source": [
    "from mpi4py import MPI\n",
    "import numpy as np"
   ]
  },
  {
   "cell_type": "code",
   "execution_count": 2,
   "id": "4344d2be",
   "metadata": {},
   "outputs": [],
   "source": [
    "comm = MPI.COMM_WORLD\n",
    "rank = comm.Get_rank()\n",
    "size = comm.Get_size()"
   ]
  },
  {
   "cell_type": "code",
   "execution_count": 3,
   "id": "fa8623ca",
   "metadata": {},
   "outputs": [
    {
     "name": "stdout",
     "output_type": "stream",
     "text": [
      "Global sum: 533\n"
     ]
    }
   ],
   "source": [
    "n = 10  \n",
    "local_sum = np.random.randint(0, 100, n)  \n",
    "\n",
    "local_sum_total = np.sum(local_sum)\n",
    "\n",
    "global_sum = np.array(0, dtype='i')\n",
    "comm.Reduce(local_sum_total, global_sum, op=MPI.SUM, root=0)\n",
    "\n",
    "if rank == 0:\n",
    "    print(\"Global sum:\", global_sum)"
   ]
  },
  {
   "cell_type": "code",
   "execution_count": 6,
   "id": "cb3e88b1",
   "metadata": {},
   "outputs": [
    {
     "name": "stdout",
     "output_type": "stream",
     "text": [
      "Rank 0 is broadcasting\n",
      "Process :  0 received data :  66\n",
      "Process :  8  , is waiting to receive data from Rank 0\n",
      "Process :  8 received data :  66\n",
      "Process :  9  , is waiting to receive data from Rank 0\n",
      "Process :  9 received data :  66\n",
      "Process :  1  , is waiting to receive data from Rank 0\n",
      "Process :  1 received data :  66\n",
      "Process :  2  , is waiting to receive data from Rank 0\n",
      "Process :  2 received data :  66\n",
      "Process :  3  , is waiting to receive data from Rank 0\n",
      "Process :  3 received data :  66\n",
      "Process :  4  , is waiting to receive data from Rank 0\n",
      "Process :  4 received data :  66\n",
      "Process :  5  , is waiting to receive data from Rank 0\n",
      "Process :  5 received data :  66\n",
      "Process :  6  , is waiting to receive data from Rank 0\n",
      "Process :  6 received data :  66\n",
      "Process :  7  , is waiting to receive data from Rank 0\n",
      "Process :  7 received data :  66\n"
     ]
    }
   ],
   "source": [
    "!mpiexec -n 10 python bcast.py"
   ]
  },
  {
   "cell_type": "code",
   "execution_count": 7,
   "id": "f8fda26b",
   "metadata": {},
   "outputs": [
    {
     "name": "stdout",
     "output_type": "stream",
     "text": [
      "Rank 0 is scattering\n",
      "Process :  0 received data :  0\n"
     ]
    }
   ],
   "source": [
    "if rank == 0:\n",
    "    print(\"Rank 0 is scattering\")\n",
    "else:\n",
    "    print(\"Process : \", rank, \" , is waiting to receive scattered data from Rank 0\")\n",
    "\n",
    "if rank == 0:\n",
    "    send_data = np.arange(size) * 10  \n",
    "else:\n",
    "    send_data = None\n",
    "\n",
    "recv_data = np.empty(1, dtype=int)\n",
    "comm.Scatter(send_data, recv_data, root=0)\n",
    "\n",
    "print(\"Process : \", rank, \"received data : \", recv_data[0])"
   ]
  },
  {
   "cell_type": "code",
   "execution_count": 8,
   "id": "bd258020",
   "metadata": {},
   "outputs": [
    {
     "name": "stdout",
     "output_type": "stream",
     "text": [
      "Process :  8  , is waiting to receive scattered data from Rank 0\n",
      "Process :  8 received data :  80\n",
      "Rank 0 is scattering\n",
      "Process :  0 received data :  0\n",
      "Process :  1  , is waiting to receive scattered data from Rank 0\n",
      "Process :  1 received data :  10\n",
      "Process :  4  , is waiting to receive scattered data from Rank 0\n",
      "Process :  4 received data :  40\n",
      "Process :  2  , is waiting to receive scattered data from Rank 0\n",
      "Process :  2 received data :  20\n",
      "Process :  5  , is waiting to receive scattered data from Rank 0\n",
      "Process :  5 received data :  50\n",
      "Process :  6  , is waiting to receive scattered data from Rank 0\n",
      "Process :  6 received data :  60\n",
      "Process :  3  , is waiting to receive scattered data from Rank 0\n",
      "Process :  3 received data :  30\n",
      "Process :  9  , is waiting to receive scattered data from Rank 0\n",
      "Process :  9 received data :  90\n",
      "Process :  7  , is waiting to receive scattered data from Rank 0\n",
      "Process :  7 received data :  70\n"
     ]
    }
   ],
   "source": [
    "!mpiexec -n 10 python scatter.py"
   ]
  },
  {
   "cell_type": "code",
   "execution_count": 9,
   "id": "5a572bc4",
   "metadata": {},
   "outputs": [
    {
     "name": "stdout",
     "output_type": "stream",
     "text": [
      "Rank 0 is gathering\n",
      "Rank 0 gathered the following local sums :  [77]\n"
     ]
    }
   ],
   "source": [
    "local_sum = np.random.randint(0, 100)\n",
    "\n",
    "if rank == 0:\n",
    "    print(\"Rank 0 is gathering\")\n",
    "\n",
    "global_sums = None\n",
    "if rank == 0:\n",
    "    global_sums = np.empty(size, dtype=int)\n",
    "comm.Gather(np.array(local_sum, dtype=int), global_sums, root=0)\n",
    "\n",
    "if rank == 0:\n",
    "    print(\"Rank 0 gathered the following local sums : \", global_sums)"
   ]
  },
  {
   "cell_type": "code",
   "execution_count": 10,
   "id": "8dec65ec",
   "metadata": {},
   "outputs": [
    {
     "name": "stdout",
     "output_type": "stream",
     "text": [
      "Rank 0 is gathering\n",
      "Rank 0 gathered the following local sums :  [25  4 22 96 94 95 54 17 40 76]\n"
     ]
    }
   ],
   "source": [
    "!mpiexec -n 10 python gather.py"
   ]
  }
 ],
 "metadata": {
  "kernelspec": {
   "display_name": "Python 3 (ipykernel)",
   "language": "python",
   "name": "python3"
  },
  "language_info": {
   "codemirror_mode": {
    "name": "ipython",
    "version": 3
   },
   "file_extension": ".py",
   "mimetype": "text/x-python",
   "name": "python",
   "nbconvert_exporter": "python",
   "pygments_lexer": "ipython3",
   "version": "3.11.5"
  }
 },
 "nbformat": 4,
 "nbformat_minor": 5
}

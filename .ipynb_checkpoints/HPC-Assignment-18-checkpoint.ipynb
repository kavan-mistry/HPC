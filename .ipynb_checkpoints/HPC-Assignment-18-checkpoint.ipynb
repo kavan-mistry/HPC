{
 "cells": [
  {
   "cell_type": "markdown",
   "id": "aa1c1e97-e3c4-4cce-b738-4f9e1bdb0db3",
   "metadata": {},
   "source": [
    "# HPC Assignment 18\n",
    "## Image Processing CUDA"
   ]
  },
  {
   "cell_type": "markdown",
   "id": "cb9690dd-8634-4e4b-8e15-a5df1d60ab31",
   "metadata": {},
   "source": [
    "## Implement the following Image Processing operations in sequential and parallel using CUDA Programming."
   ]
  },
  {
   "cell_type": "markdown",
   "id": "1312e9d3-46df-47db-8b30-643f5af566fc",
   "metadata": {},
   "source": [
    "### Gaussian blur"
   ]
  },
  {
   "cell_type": "markdown",
   "id": "ea43609b-82e8-4461-9558-825fefb85999",
   "metadata": {},
   "source": [
    "#### Describe Gaussian Blur in brief."
   ]
  },
  {
   "cell_type": "code",
   "execution_count": null,
   "id": "52f2ae65-6d42-41a8-a6fd-dd8082a6ed8a",
   "metadata": {},
   "outputs": [],
   "source": []
  },
  {
   "cell_type": "markdown",
   "id": "2e79b224-9fdb-4a69-81ba-a3ec2e1618b7",
   "metadata": {},
   "source": [
    "#### Where parallelism can be inserted?"
   ]
  },
  {
   "cell_type": "code",
   "execution_count": null,
   "id": "19e94028-538c-472b-818f-69e57ec168ed",
   "metadata": {},
   "outputs": [],
   "source": []
  },
  {
   "cell_type": "markdown",
   "id": "ba897352-9639-45ac-94c2-e8848fc12e4f",
   "metadata": {},
   "source": [
    "#### Analyze the performance in serial and parallel model."
   ]
  },
  {
   "cell_type": "markdown",
   "id": "cf868889-0538-4b5b-9535-0886be3e41fe",
   "metadata": {},
   "source": [
    "##### Serial"
   ]
  },
  {
   "cell_type": "code",
   "execution_count": 1,
   "id": "db26accf-1726-492d-bcf3-60e520f19769",
   "metadata": {},
   "outputs": [],
   "source": [
    "import os\n",
    "import cv2\n",
    "import numpy as np\n",
    "import time"
   ]
  },
  {
   "cell_type": "code",
   "execution_count": 2,
   "id": "f3d30f12-2f69-4988-9d31-edd55e05d06e",
   "metadata": {},
   "outputs": [],
   "source": [
    "def gaussian_kernel(size, sigma=1):\n",
    "    \"\"\"\n",
    "    Generate a Gaussian kernel.\n",
    "\n",
    "    Parameters:\n",
    "    - size: size of the kernel (odd number)\n",
    "    - sigma: standard deviation of the Gaussian distribution\n",
    "\n",
    "    Returns:\n",
    "    - Gaussian kernel\n",
    "    \"\"\"\n",
    "    kernel = np.fromfunction(lambda x, y: (1/(2*np.pi*sigma**2)) * np.exp(-((x-(size-1)/2)**2 + (y-(size-1)/2)**2)/(2*sigma**2)), (size, size))\n",
    "    return kernel / np.sum(kernel)"
   ]
  },
  {
   "cell_type": "code",
   "execution_count": 3,
   "id": "c69c3b32-2df6-401b-a846-61c47741a5d0",
   "metadata": {},
   "outputs": [],
   "source": [
    "def gaussian_blur_sequential(image, kernel_size):\n",
    "    \"\"\"\n",
    "    Apply Gaussian blur to the image sequentially.\n",
    "\n",
    "    Parameters:\n",
    "    - image: input image\n",
    "    - kernel_size: size of the Gaussian kernel\n",
    "\n",
    "    Returns:\n",
    "    - blurred image\n",
    "    \"\"\"\n",
    "    kernel = gaussian_kernel(kernel_size)\n",
    "    blurred_image = cv2.filter2D(image, -1, kernel)  # Using OpenCV's filter2D for convolution\n",
    "    return blurred_image"
   ]
  },
  {
   "cell_type": "code",
   "execution_count": 4,
   "id": "823f4311-b69a-4138-9410-69e3da2f196e",
   "metadata": {},
   "outputs": [],
   "source": [
    "def process_images_in_folder(folder_path, kernel_size):\n",
    "    \"\"\"\n",
    "    Process all images in the given folder by applying Gaussian blur sequentially.\n",
    "\n",
    "    Parameters:\n",
    "    - folder_path: path to the folder containing images\n",
    "    - kernel_size: size of the Gaussian kernel\n",
    "\n",
    "    Returns:\n",
    "    - dictionary containing image filenames as keys and time taken for processing as values\n",
    "    \"\"\"\n",
    "    times = {}\n",
    "    for filename in os.listdir(folder_path):\n",
    "        if filename.endswith(\".jpg\") or filename.endswith(\".png\"):\n",
    "            image_path = os.path.join(folder_path, filename)\n",
    "            image = cv2.imread(image_path, cv2.IMREAD_COLOR)\n",
    "            start_time = time.time()\n",
    "            blurred_image = gaussian_blur_sequential(image, kernel_size)\n",
    "            end_time = time.time()\n",
    "            times[filename] = end_time - start_time\n",
    "    return times"
   ]
  },
  {
   "cell_type": "code",
   "execution_count": 7,
   "id": "6ac1831e-74f8-498b-89e1-ec66c7098a24",
   "metadata": {},
   "outputs": [],
   "source": [
    "folder_path = \"D:/data set/minion/\"\n",
    "kernel_size = 3"
   ]
  },
  {
   "cell_type": "code",
   "execution_count": 8,
   "id": "6ca18553-e176-49fe-ba63-291f704807b3",
   "metadata": {},
   "outputs": [],
   "source": [
    "start_time_total = time.time()\n",
    "times_per_image = process_images_in_folder(folder_path, kernel_size)\n",
    "end_time_total = time.time()\n",
    "total_time = end_time_total - start_time_total"
   ]
  },
  {
   "cell_type": "code",
   "execution_count": 9,
   "id": "c38e895b-853c-47e1-a651-8dd693d83ab2",
   "metadata": {},
   "outputs": [
    {
     "name": "stdout",
     "output_type": "stream",
     "text": [
      "Time taken for Gaussian blur on each image:\n",
      "1.jpg: 0.0066 seconds\n",
      "10.jpg: 0.0000 seconds\n",
      "11.jpg: 0.0105 seconds\n",
      "2.jpg: 0.0080 seconds\n",
      "3.jpg: 0.0780 seconds\n",
      "4.jpg: 0.0155 seconds\n",
      "5.jpg: 0.0239 seconds\n",
      "6.jpg: 0.0000 seconds\n",
      "7.jpg: 0.0000 seconds\n",
      "8.jpg: 0.0000 seconds\n",
      "9.jpg: 0.0000 seconds\n"
     ]
    }
   ],
   "source": [
    "print(\"Time taken for Gaussian blur on each image:\")\n",
    "for filename, time_taken in times_per_image.items():\n",
    "    print(f\"{filename}: {time_taken:.4f} seconds\")"
   ]
  },
  {
   "cell_type": "code",
   "execution_count": 10,
   "id": "190f553f-5d25-4129-895c-58a1498d0c12",
   "metadata": {},
   "outputs": [
    {
     "name": "stdout",
     "output_type": "stream",
     "text": [
      "\n",
      "Total time taken for all images: 0.5684 seconds\n"
     ]
    }
   ],
   "source": [
    "print(f\"\\nTotal time taken for all images: {total_time:.4f} seconds\")"
   ]
  },
  {
   "cell_type": "markdown",
   "id": "8fed4f58-3955-4f55-b633-8924cf580cd4",
   "metadata": {},
   "source": [
    "##### Parallel"
   ]
  },
  {
   "cell_type": "code",
   "execution_count": 5,
   "id": "5be5848b-aaa5-41ae-b586-2b2bc38ff742",
   "metadata": {},
   "outputs": [],
   "source": [
    "from numba import cuda\n",
    "import os\n",
    "import cv2\n",
    "import numpy as np\n",
    "import time"
   ]
  },
  {
   "cell_type": "code",
   "execution_count": 2,
   "id": "6bc4f081-6483-4018-9eb0-22cf494febb9",
   "metadata": {},
   "outputs": [],
   "source": [
    "@cuda.jit\n",
    "def gaussian_blur_parallel(input_image, output_image, mask, width, height):\n",
    "    tx = cuda.threadIdx.x\n",
    "    ty = cuda.threadIdx.y\n",
    "    bx = cuda.blockIdx.x\n",
    "    by = cuda.blockIdx.y\n",
    "    bw = cuda.blockDim.x\n",
    "    bh = cuda.blockDim.y\n",
    "    \n",
    "    row_o = by * bh + ty\n",
    "    col_o = bx * bw + tx\n",
    "    row_i = row_o - 2  # RADIUS = 2 for MASK_WIDTH = 5\n",
    "    col_i = col_o - 2\n",
    "    \n",
    "    result = 0.0\n",
    "    for i in range(5):\n",
    "        for j in range(5):\n",
    "            current_row = row_i + i\n",
    "            current_col = col_i + j\n",
    "            if current_row >= 0 and current_row < height and current_col >= 0 and current_col < width:\n",
    "                result += input_image[current_row, current_col] * mask[i, j]\n",
    "    output_image[row_o, col_o] = result"
   ]
  },
  {
   "cell_type": "code",
   "execution_count": 3,
   "id": "49ed98d2-a6e5-4ee6-918a-21f6dc74c55a",
   "metadata": {},
   "outputs": [],
   "source": [
    "def process_images_in_folder_parallel_gaussian(folder_path):\n",
    "    times = {}\n",
    "    for filename in os.listdir(folder_path):\n",
    "        if filename.endswith(\".jpg\") or filename.endswith(\".png\"):\n",
    "            image_path = os.path.join(folder_path, filename)\n",
    "            image = cv2.imread(image_path, cv2.IMREAD_GRAYSCALE)\n",
    "            height, width = image.shape\n",
    "            output_image = np.zeros_like(image)\n",
    "            \n",
    "            # Allocate device memory\n",
    "            d_input_image = cuda.to_device(image)\n",
    "            d_output_image = cuda.to_device(output_image)\n",
    "            d_mask = cuda.to_device(np.array([[1, 4, 6, 4, 1],\n",
    "                                               [4, 16, 24, 16, 4],\n",
    "                                               [6, 24, 36, 24, 6],\n",
    "                                               [4, 16, 24, 16, 4],\n",
    "                                               [1, 4, 6, 4, 1]]))\n",
    "            \n",
    "            # Define grid and block dimensions\n",
    "            threadsperblock = (16, 16)\n",
    "            blockspergrid_x = (width + threadsperblock[0] - 1) // threadsperblock[0]\n",
    "            blockspergrid_y = (height + threadsperblock[1] - 1) // threadsperblock[1]\n",
    "            blockspergrid = (blockspergrid_x, blockspergrid_y)\n",
    "            \n",
    "            start_time = time.time()\n",
    "            gaussian_blur_parallel[blockspergrid, threadsperblock](d_input_image, d_output_image, d_mask, width, height)\n",
    "            cuda.synchronize()  # Ensure all threads have finished before measuring time\n",
    "            end_time = time.time()\n",
    "            \n",
    "            output_image = d_output_image.copy_to_host()\n",
    "            times[filename] = end_time - start_time\n",
    "    return times"
   ]
  },
  {
   "cell_type": "code",
   "execution_count": 16,
   "id": "2d8ef02f-a367-4a2a-ab49-162df883594c",
   "metadata": {},
   "outputs": [],
   "source": [
    "folder_path = \"D:/data set/minion/\""
   ]
  },
  {
   "cell_type": "code",
   "execution_count": 8,
   "id": "9f3ee962-5f55-44f3-8f6e-a26854d30ca1",
   "metadata": {},
   "outputs": [],
   "source": [
    "start_time_total = time.time()\n",
    "times_per_image_parallel_gaussian = process_images_in_folder_parallel_gaussian(folder_path)\n",
    "end_time_total = time.time()\n",
    "total_time_parallel_gaussian = end_time_total - start_time_total"
   ]
  },
  {
   "cell_type": "code",
   "execution_count": 14,
   "id": "2c778406-cc83-44eb-91a6-bd2781af4e95",
   "metadata": {},
   "outputs": [
    {
     "name": "stdout",
     "output_type": "stream",
     "text": [
      "Time taken for parallel Gaussian blur on each image:\n",
      "1.jpg: 0.4579 seconds\n",
      "10.jpg: 0.0000 seconds\n",
      "11.jpg: 0.0000 seconds\n",
      "2.jpg: 0.0000 seconds\n",
      "3.jpg: 0.0158 seconds\n",
      "4.jpg: 0.0000 seconds\n",
      "5.jpg: 0.0081 seconds\n",
      "6.jpg: 0.0000 seconds\n",
      "7.jpg: 0.0000 seconds\n",
      "8.jpg: 0.0000 seconds\n",
      "9.jpg: 0.0000 seconds\n"
     ]
    }
   ],
   "source": [
    "print(\"Time taken for parallel Gaussian blur on each image:\")\n",
    "for filename, time_taken in times_per_image_parallel_gaussian.items():\n",
    "    print(f\"{filename}: {time_taken:.4f} seconds\")"
   ]
  },
  {
   "cell_type": "code",
   "execution_count": 15,
   "id": "e65f5f32-1dd9-4b35-97a4-a4caec58640d",
   "metadata": {},
   "outputs": [
    {
     "name": "stdout",
     "output_type": "stream",
     "text": [
      "\n",
      "Total time taken for parallel Gaussian blur on all images: 3.1262 seconds\n"
     ]
    }
   ],
   "source": [
    "print(f\"\\nTotal time taken for parallel Gaussian blur on all images: {total_time_parallel_gaussian:.4f} seconds\")"
   ]
  },
  {
   "cell_type": "code",
   "execution_count": null,
   "id": "46ac1e16-0106-4eed-8887-f74ec28e6cf0",
   "metadata": {},
   "outputs": [],
   "source": []
  },
  {
   "cell_type": "code",
   "execution_count": 20,
   "id": "e18ee742-2943-42e0-b926-8ae36f0cdf52",
   "metadata": {},
   "outputs": [],
   "source": [
    "import os\n",
    "import cv2\n",
    "import cupy as cp\n",
    "import time"
   ]
  },
  {
   "cell_type": "code",
   "execution_count": 21,
   "id": "8241b974-f039-4edb-b33a-b02d07d5d012",
   "metadata": {},
   "outputs": [],
   "source": [
    "# Define Gaussian kernel\n",
    "def gaussian_kernel(size, sigma=1):\n",
    "    kernel = cp.fromfunction(lambda x, y: (1/(2*cp.pi*sigma**2)) * cp.exp(-((x-(size-1)/2)**2 + (y-(size-1)/2)**2)/(2*sigma**2)), (size, size))\n",
    "    return kernel / cp.sum(kernel)"
   ]
  },
  {
   "cell_type": "code",
   "execution_count": null,
   "id": "1627ca4a-0315-4545-b019-b6c762cb3496",
   "metadata": {},
   "outputs": [],
   "source": [
    "# Parallel Gaussian blur using CUDA\n",
    "def gaussian_blur_parallel(image, kernel_size):\n",
    "    kernel = gaussian_kernel(kernel_size)\n",
    "    image_gpu = cp.asarray(image)\n",
    "    kernel_gpu = cp.asarray(kernel)\n",
    "    blurred_image_gpu = cp.zeros_like(image_gpu)\n",
    "\n",
    "    # CUDA kernel for convolution\n",
    "    kernel_size = cp.int32(kernel_size)\n",
    "    image_height, image_width = image_gpu.shape\n",
    "    threads_per_block = (32, 32)\n",
    "    blocks_per_grid_x = (image_width + threads_per_block[0] - 1) // threads_per_block[0]\n",
    "    blocks_per_grid_y = (image_height + threads_per_block[1] - 1) // threads_per_block[1]\n",
    "    blocks_per_grid = (blocks_per_grid_x, blocks_per_grid_y)\n",
    "\n",
    "    gaussian_blur_kernel[blocks_per_grid, threads_per_block](image_gpu, blurred_image_gpu, kernel_gpu, kernel_size, image_height, image_width)\n",
    "\n",
    "    return blurred_image_gpu.get()"
   ]
  },
  {
   "cell_type": "code",
   "execution_count": 23,
   "id": "1c6ba14d-440f-4ac1-95ac-44835b9c9c43",
   "metadata": {},
   "outputs": [],
   "source": [
    "# CUDA kernel function for Gaussian blur\n",
    "@cp.fuse()\n",
    "def gaussian_blur_kernel(image, blurred_image, kernel, kernel_size, image_height, image_width):\n",
    "    x, y = cp.meshgrid(cp.arange(-kernel_size//2 + 1, kernel_size//2 + 1), cp.arange(-kernel_size//2 + 1, kernel_size//2 + 1))\n",
    "    for i in range(image_height):\n",
    "        for j in range(image_width):\n",
    "            for k in range(kernel_size):\n",
    "                for l in range(kernel_size):\n",
    "                    ii = i + k - kernel_size // 2\n",
    "                    jj = j + l - kernel_size // 2\n",
    "                    if ii >= 0 and ii < image_height and jj >= 0 and jj < image_width:\n",
    "                        blurred_image[i, j] += image[ii, jj] * kernel[k, l]"
   ]
  },
  {
   "cell_type": "code",
   "execution_count": 24,
   "id": "e2f62fab-4eb8-4c0b-8a70-6fa931718c7a",
   "metadata": {},
   "outputs": [],
   "source": [
    "# Process images in folder using parallel Gaussian blur\n",
    "def process_images_in_folder_parallel(folder_path, kernel_size):\n",
    "    times = {}\n",
    "    for filename in os.listdir(folder_path):\n",
    "        if filename.endswith(\".jpg\") or filename.endswith(\".png\"):\n",
    "            image_path = os.path.join(folder_path, filename)\n",
    "            image = cv2.imread(image_path, cv2.IMREAD_GRAYSCALE)\n",
    "            start_time = time.time()\n",
    "            blurred_image = gaussian_blur_parallel(image, kernel_size)\n",
    "            end_time = time.time()\n",
    "            times[filename] = end_time - start_time\n",
    "    return times"
   ]
  },
  {
   "cell_type": "code",
   "execution_count": 25,
   "id": "7019c10e-98e7-4c0d-a92f-61f13bf2dcdc",
   "metadata": {},
   "outputs": [],
   "source": [
    "# Set the folder path containing images\n",
    "folder_path = \"D:/data set/minion/\"\n",
    "kernel_size = 5"
   ]
  },
  {
   "cell_type": "code",
   "execution_count": 26,
   "id": "d490638a-e222-4e64-aad7-4d0aadb0be3c",
   "metadata": {},
   "outputs": [
    {
     "ename": "TypeError",
     "evalue": "Unsupported type <class 'numpy.ndarray'>",
     "output_type": "error",
     "traceback": [
      "\u001b[1;31m---------------------------------------------------------------------------\u001b[0m",
      "\u001b[1;31mTypeError\u001b[0m                                 Traceback (most recent call last)",
      "Cell \u001b[1;32mIn[26], line 3\u001b[0m\n\u001b[0;32m      1\u001b[0m \u001b[38;5;66;03m# Process images and measure time taken for parallel Gaussian blur\u001b[39;00m\n\u001b[0;32m      2\u001b[0m start_time_total \u001b[38;5;241m=\u001b[39m time\u001b[38;5;241m.\u001b[39mtime()\n\u001b[1;32m----> 3\u001b[0m times_per_image_parallel \u001b[38;5;241m=\u001b[39m \u001b[43mprocess_images_in_folder_parallel\u001b[49m\u001b[43m(\u001b[49m\u001b[43mfolder_path\u001b[49m\u001b[43m,\u001b[49m\u001b[43m \u001b[49m\u001b[43mkernel_size\u001b[49m\u001b[43m)\u001b[49m\n\u001b[0;32m      4\u001b[0m end_time_total \u001b[38;5;241m=\u001b[39m time\u001b[38;5;241m.\u001b[39mtime()\n\u001b[0;32m      5\u001b[0m total_time_parallel \u001b[38;5;241m=\u001b[39m end_time_total \u001b[38;5;241m-\u001b[39m start_time_total\n",
      "Cell \u001b[1;32mIn[24], line 9\u001b[0m, in \u001b[0;36mprocess_images_in_folder_parallel\u001b[1;34m(folder_path, kernel_size)\u001b[0m\n\u001b[0;32m      7\u001b[0m image \u001b[38;5;241m=\u001b[39m cv2\u001b[38;5;241m.\u001b[39mimread(image_path, cv2\u001b[38;5;241m.\u001b[39mIMREAD_GRAYSCALE)\n\u001b[0;32m      8\u001b[0m start_time \u001b[38;5;241m=\u001b[39m time\u001b[38;5;241m.\u001b[39mtime()\n\u001b[1;32m----> 9\u001b[0m blurred_image \u001b[38;5;241m=\u001b[39m \u001b[43mgaussian_blur_parallel\u001b[49m\u001b[43m(\u001b[49m\u001b[43mimage\u001b[49m\u001b[43m,\u001b[49m\u001b[43m \u001b[49m\u001b[43mkernel_size\u001b[49m\u001b[43m)\u001b[49m\n\u001b[0;32m     10\u001b[0m end_time \u001b[38;5;241m=\u001b[39m time\u001b[38;5;241m.\u001b[39mtime()\n\u001b[0;32m     11\u001b[0m times[filename] \u001b[38;5;241m=\u001b[39m end_time \u001b[38;5;241m-\u001b[39m start_time\n",
      "Cell \u001b[1;32mIn[19], line 13\u001b[0m, in \u001b[0;36mgaussian_blur_parallel\u001b[1;34m(image, kernel_size)\u001b[0m\n\u001b[0;32m     12\u001b[0m \u001b[38;5;28;01mdef\u001b[39;00m \u001b[38;5;21mgaussian_blur_parallel\u001b[39m(image, kernel_size):\n\u001b[1;32m---> 13\u001b[0m     kernel \u001b[38;5;241m=\u001b[39m \u001b[43mgaussian_kernel\u001b[49m\u001b[43m(\u001b[49m\u001b[43mkernel_size\u001b[49m\u001b[43m)\u001b[49m\n\u001b[0;32m     14\u001b[0m     image_gpu \u001b[38;5;241m=\u001b[39m cp\u001b[38;5;241m.\u001b[39masarray(image)\n\u001b[0;32m     15\u001b[0m     kernel_gpu \u001b[38;5;241m=\u001b[39m cp\u001b[38;5;241m.\u001b[39masarray(kernel)\n",
      "Cell \u001b[1;32mIn[21], line 3\u001b[0m, in \u001b[0;36mgaussian_kernel\u001b[1;34m(size, sigma)\u001b[0m\n\u001b[0;32m      2\u001b[0m \u001b[38;5;28;01mdef\u001b[39;00m \u001b[38;5;21mgaussian_kernel\u001b[39m(size, sigma\u001b[38;5;241m=\u001b[39m\u001b[38;5;241m1\u001b[39m):\n\u001b[1;32m----> 3\u001b[0m     kernel \u001b[38;5;241m=\u001b[39m \u001b[43mcp\u001b[49m\u001b[38;5;241;43m.\u001b[39;49m\u001b[43mfromfunction\u001b[49m\u001b[43m(\u001b[49m\u001b[38;5;28;43;01mlambda\u001b[39;49;00m\u001b[43m \u001b[49m\u001b[43mx\u001b[49m\u001b[43m,\u001b[49m\u001b[43m \u001b[49m\u001b[43my\u001b[49m\u001b[43m:\u001b[49m\u001b[43m \u001b[49m\u001b[43m(\u001b[49m\u001b[38;5;241;43m1\u001b[39;49m\u001b[38;5;241;43m/\u001b[39;49m\u001b[43m(\u001b[49m\u001b[38;5;241;43m2\u001b[39;49m\u001b[38;5;241;43m*\u001b[39;49m\u001b[43mcp\u001b[49m\u001b[38;5;241;43m.\u001b[39;49m\u001b[43mpi\u001b[49m\u001b[38;5;241;43m*\u001b[39;49m\u001b[43msigma\u001b[49m\u001b[38;5;241;43m*\u001b[39;49m\u001b[38;5;241;43m*\u001b[39;49m\u001b[38;5;241;43m2\u001b[39;49m\u001b[43m)\u001b[49m\u001b[43m)\u001b[49m\u001b[43m \u001b[49m\u001b[38;5;241;43m*\u001b[39;49m\u001b[43m \u001b[49m\u001b[43mcp\u001b[49m\u001b[38;5;241;43m.\u001b[39;49m\u001b[43mexp\u001b[49m\u001b[43m(\u001b[49m\u001b[38;5;241;43m-\u001b[39;49m\u001b[43m(\u001b[49m\u001b[43m(\u001b[49m\u001b[43mx\u001b[49m\u001b[38;5;241;43m-\u001b[39;49m\u001b[43m(\u001b[49m\u001b[43msize\u001b[49m\u001b[38;5;241;43m-\u001b[39;49m\u001b[38;5;241;43m1\u001b[39;49m\u001b[43m)\u001b[49m\u001b[38;5;241;43m/\u001b[39;49m\u001b[38;5;241;43m2\u001b[39;49m\u001b[43m)\u001b[49m\u001b[38;5;241;43m*\u001b[39;49m\u001b[38;5;241;43m*\u001b[39;49m\u001b[38;5;241;43m2\u001b[39;49m\u001b[43m \u001b[49m\u001b[38;5;241;43m+\u001b[39;49m\u001b[43m \u001b[49m\u001b[43m(\u001b[49m\u001b[43my\u001b[49m\u001b[38;5;241;43m-\u001b[39;49m\u001b[43m(\u001b[49m\u001b[43msize\u001b[49m\u001b[38;5;241;43m-\u001b[39;49m\u001b[38;5;241;43m1\u001b[39;49m\u001b[43m)\u001b[49m\u001b[38;5;241;43m/\u001b[39;49m\u001b[38;5;241;43m2\u001b[39;49m\u001b[43m)\u001b[49m\u001b[38;5;241;43m*\u001b[39;49m\u001b[38;5;241;43m*\u001b[39;49m\u001b[38;5;241;43m2\u001b[39;49m\u001b[43m)\u001b[49m\u001b[38;5;241;43m/\u001b[39;49m\u001b[43m(\u001b[49m\u001b[38;5;241;43m2\u001b[39;49m\u001b[38;5;241;43m*\u001b[39;49m\u001b[43msigma\u001b[49m\u001b[38;5;241;43m*\u001b[39;49m\u001b[38;5;241;43m*\u001b[39;49m\u001b[38;5;241;43m2\u001b[39;49m\u001b[43m)\u001b[49m\u001b[43m)\u001b[49m\u001b[43m,\u001b[49m\u001b[43m \u001b[49m\u001b[43m(\u001b[49m\u001b[43msize\u001b[49m\u001b[43m,\u001b[49m\u001b[43m \u001b[49m\u001b[43msize\u001b[49m\u001b[43m)\u001b[49m\u001b[43m)\u001b[49m\n\u001b[0;32m      4\u001b[0m     \u001b[38;5;28;01mreturn\u001b[39;00m kernel \u001b[38;5;241m/\u001b[39m cp\u001b[38;5;241m.\u001b[39msum(kernel)\n",
      "File \u001b[1;32mD:\\anaconda\\envs\\tf\\lib\\site-packages\\cupy\\_creation\\from_data.py:195\u001b[0m, in \u001b[0;36mfromfunction\u001b[1;34m(*args, **kwargs)\u001b[0m\n\u001b[0;32m    187\u001b[0m \u001b[38;5;28;01mdef\u001b[39;00m \u001b[38;5;21mfromfunction\u001b[39m(\u001b[38;5;241m*\u001b[39margs, \u001b[38;5;241m*\u001b[39m\u001b[38;5;241m*\u001b[39mkwargs):\n\u001b[0;32m    188\u001b[0m \u001b[38;5;250m    \u001b[39m\u001b[38;5;124;03m\"\"\"Construct an array by executing a function over each coordinate.\u001b[39;00m\n\u001b[0;32m    189\u001b[0m \n\u001b[0;32m    190\u001b[0m \u001b[38;5;124;03m    .. note::\u001b[39;00m\n\u001b[1;32m   (...)\u001b[0m\n\u001b[0;32m    193\u001b[0m \u001b[38;5;124;03m    .. seealso:: :func:`numpy.fromfunction`\u001b[39;00m\n\u001b[0;32m    194\u001b[0m \u001b[38;5;124;03m    \"\"\"\u001b[39;00m\n\u001b[1;32m--> 195\u001b[0m     \u001b[38;5;28;01mreturn\u001b[39;00m asarray(numpy\u001b[38;5;241m.\u001b[39mfromfunction(\u001b[38;5;241m*\u001b[39margs, \u001b[38;5;241m*\u001b[39m\u001b[38;5;241m*\u001b[39mkwargs))\n",
      "File \u001b[1;32mD:\\anaconda\\envs\\tf\\lib\\site-packages\\numpy\\core\\numeric.py:1845\u001b[0m, in \u001b[0;36mfromfunction\u001b[1;34m(function, shape, dtype, like, **kwargs)\u001b[0m\n\u001b[0;32m   1841\u001b[0m     \u001b[38;5;28;01mreturn\u001b[39;00m _fromfunction_with_like(\n\u001b[0;32m   1842\u001b[0m             like, function, shape, dtype\u001b[38;5;241m=\u001b[39mdtype, \u001b[38;5;241m*\u001b[39m\u001b[38;5;241m*\u001b[39mkwargs)\n\u001b[0;32m   1844\u001b[0m args \u001b[38;5;241m=\u001b[39m indices(shape, dtype\u001b[38;5;241m=\u001b[39mdtype)\n\u001b[1;32m-> 1845\u001b[0m \u001b[38;5;28;01mreturn\u001b[39;00m function(\u001b[38;5;241m*\u001b[39margs, \u001b[38;5;241m*\u001b[39m\u001b[38;5;241m*\u001b[39mkwargs)\n",
      "Cell \u001b[1;32mIn[21], line 3\u001b[0m, in \u001b[0;36mgaussian_kernel.<locals>.<lambda>\u001b[1;34m(x, y)\u001b[0m\n\u001b[0;32m      2\u001b[0m \u001b[38;5;28;01mdef\u001b[39;00m \u001b[38;5;21mgaussian_kernel\u001b[39m(size, sigma\u001b[38;5;241m=\u001b[39m\u001b[38;5;241m1\u001b[39m):\n\u001b[1;32m----> 3\u001b[0m     kernel \u001b[38;5;241m=\u001b[39m cp\u001b[38;5;241m.\u001b[39mfromfunction(\u001b[38;5;28;01mlambda\u001b[39;00m x, y: (\u001b[38;5;241m1\u001b[39m\u001b[38;5;241m/\u001b[39m(\u001b[38;5;241m2\u001b[39m\u001b[38;5;241m*\u001b[39mcp\u001b[38;5;241m.\u001b[39mpi\u001b[38;5;241m*\u001b[39msigma\u001b[38;5;241m*\u001b[39m\u001b[38;5;241m*\u001b[39m\u001b[38;5;241m2\u001b[39m)) \u001b[38;5;241m*\u001b[39m \u001b[43mcp\u001b[49m\u001b[38;5;241;43m.\u001b[39;49m\u001b[43mexp\u001b[49m\u001b[43m(\u001b[49m\u001b[38;5;241;43m-\u001b[39;49m\u001b[43m(\u001b[49m\u001b[43m(\u001b[49m\u001b[43mx\u001b[49m\u001b[38;5;241;43m-\u001b[39;49m\u001b[43m(\u001b[49m\u001b[43msize\u001b[49m\u001b[38;5;241;43m-\u001b[39;49m\u001b[38;5;241;43m1\u001b[39;49m\u001b[43m)\u001b[49m\u001b[38;5;241;43m/\u001b[39;49m\u001b[38;5;241;43m2\u001b[39;49m\u001b[43m)\u001b[49m\u001b[38;5;241;43m*\u001b[39;49m\u001b[38;5;241;43m*\u001b[39;49m\u001b[38;5;241;43m2\u001b[39;49m\u001b[43m \u001b[49m\u001b[38;5;241;43m+\u001b[39;49m\u001b[43m \u001b[49m\u001b[43m(\u001b[49m\u001b[43my\u001b[49m\u001b[38;5;241;43m-\u001b[39;49m\u001b[43m(\u001b[49m\u001b[43msize\u001b[49m\u001b[38;5;241;43m-\u001b[39;49m\u001b[38;5;241;43m1\u001b[39;49m\u001b[43m)\u001b[49m\u001b[38;5;241;43m/\u001b[39;49m\u001b[38;5;241;43m2\u001b[39;49m\u001b[43m)\u001b[49m\u001b[38;5;241;43m*\u001b[39;49m\u001b[38;5;241;43m*\u001b[39;49m\u001b[38;5;241;43m2\u001b[39;49m\u001b[43m)\u001b[49m\u001b[38;5;241;43m/\u001b[39;49m\u001b[43m(\u001b[49m\u001b[38;5;241;43m2\u001b[39;49m\u001b[38;5;241;43m*\u001b[39;49m\u001b[43msigma\u001b[49m\u001b[38;5;241;43m*\u001b[39;49m\u001b[38;5;241;43m*\u001b[39;49m\u001b[38;5;241;43m2\u001b[39;49m\u001b[43m)\u001b[49m\u001b[43m)\u001b[49m, (size, size))\n\u001b[0;32m      4\u001b[0m     \u001b[38;5;28;01mreturn\u001b[39;00m kernel \u001b[38;5;241m/\u001b[39m cp\u001b[38;5;241m.\u001b[39msum(kernel)\n",
      "File \u001b[1;32mcupy\\_core\\_kernel.pyx:1286\u001b[0m, in \u001b[0;36mcupy._core._kernel.ufunc.__call__\u001b[1;34m()\u001b[0m\n",
      "File \u001b[1;32mcupy\\_core\\_kernel.pyx:159\u001b[0m, in \u001b[0;36mcupy._core._kernel._preprocess_args\u001b[1;34m()\u001b[0m\n",
      "File \u001b[1;32mcupy\\_core\\_kernel.pyx:145\u001b[0m, in \u001b[0;36mcupy._core._kernel._preprocess_arg\u001b[1;34m()\u001b[0m\n",
      "\u001b[1;31mTypeError\u001b[0m: Unsupported type <class 'numpy.ndarray'>"
     ]
    }
   ],
   "source": [
    "# Process images and measure time taken for parallel Gaussian blur\n",
    "start_time_total = time.time()\n",
    "times_per_image_parallel = process_images_in_folder_parallel(folder_path, kernel_size)\n",
    "end_time_total = time.time()\n",
    "total_time_parallel = end_time_total - start_time_total\n",
    "\n",
    "# Print time taken for parallel Gaussian blur on each image\n",
    "print(\"Time taken for parallel Gaussian blur on each image:\")\n",
    "for filename, time_taken in times_per_image_parallel.items():\n",
    "    print(f\"{filename}: {time_taken:.4f} seconds\")\n",
    "\n",
    "# Print total time taken for all images\n",
    "print(f\"\\nTotal time taken for parallel Gaussian blur on all images: {total_time_parallel:.4f} seconds\")"
   ]
  },
  {
   "cell_type": "code",
   "execution_count": 29,
   "id": "efb8d400-b403-45f3-a70f-f86c9a5e5ca8",
   "metadata": {},
   "outputs": [
    {
     "ename": "RuntimeError",
     "evalue": "CuPy failed to load nvrtc64_120_0.dll: FileNotFoundError: Could not find module 'nvrtc64_120_0.dll' (or one of its dependencies). Try using the full path with constructor syntax.",
     "output_type": "error",
     "traceback": [
      "\u001b[1;31m---------------------------------------------------------------------------\u001b[0m",
      "\u001b[1;31mFileNotFoundError\u001b[0m                         Traceback (most recent call last)",
      "File \u001b[1;32mcupy_backends\\cuda\\_softlink.pyx:25\u001b[0m, in \u001b[0;36mcupy_backends.cuda._softlink.SoftLink.__init__\u001b[1;34m()\u001b[0m\n",
      "File \u001b[1;32mD:\\anaconda\\envs\\tf\\lib\\ctypes\\__init__.py:374\u001b[0m, in \u001b[0;36mCDLL.__init__\u001b[1;34m(self, name, mode, handle, use_errno, use_last_error, winmode)\u001b[0m\n\u001b[0;32m    373\u001b[0m \u001b[38;5;28;01mif\u001b[39;00m handle \u001b[38;5;129;01mis\u001b[39;00m \u001b[38;5;28;01mNone\u001b[39;00m:\n\u001b[1;32m--> 374\u001b[0m     \u001b[38;5;28mself\u001b[39m\u001b[38;5;241m.\u001b[39m_handle \u001b[38;5;241m=\u001b[39m \u001b[43m_dlopen\u001b[49m\u001b[43m(\u001b[49m\u001b[38;5;28;43mself\u001b[39;49m\u001b[38;5;241;43m.\u001b[39;49m\u001b[43m_name\u001b[49m\u001b[43m,\u001b[49m\u001b[43m \u001b[49m\u001b[43mmode\u001b[49m\u001b[43m)\u001b[49m\n\u001b[0;32m    375\u001b[0m \u001b[38;5;28;01melse\u001b[39;00m:\n",
      "\u001b[1;31mFileNotFoundError\u001b[0m: Could not find module 'nvrtc64_120_0.dll' (or one of its dependencies). Try using the full path with constructor syntax.",
      "\nThe above exception was the direct cause of the following exception:\n",
      "\u001b[1;31mRuntimeError\u001b[0m                              Traceback (most recent call last)",
      "Cell \u001b[1;32mIn[29], line 65\u001b[0m\n\u001b[0;32m     63\u001b[0m \u001b[38;5;66;03m# Process images and measure time taken for parallel Gaussian blur\u001b[39;00m\n\u001b[0;32m     64\u001b[0m start_time_total \u001b[38;5;241m=\u001b[39m time\u001b[38;5;241m.\u001b[39mtime()\n\u001b[1;32m---> 65\u001b[0m times_per_image_parallel \u001b[38;5;241m=\u001b[39m \u001b[43mprocess_images_in_folder_parallel\u001b[49m\u001b[43m(\u001b[49m\u001b[43mfolder_path\u001b[49m\u001b[43m,\u001b[49m\u001b[43m \u001b[49m\u001b[43mkernel_size\u001b[49m\u001b[43m)\u001b[49m\n\u001b[0;32m     66\u001b[0m end_time_total \u001b[38;5;241m=\u001b[39m time\u001b[38;5;241m.\u001b[39mtime()\n\u001b[0;32m     67\u001b[0m total_time_parallel \u001b[38;5;241m=\u001b[39m end_time_total \u001b[38;5;241m-\u001b[39m start_time_total\n",
      "Cell \u001b[1;32mIn[29], line 54\u001b[0m, in \u001b[0;36mprocess_images_in_folder_parallel\u001b[1;34m(folder_path, kernel_size)\u001b[0m\n\u001b[0;32m     52\u001b[0m image \u001b[38;5;241m=\u001b[39m cv2\u001b[38;5;241m.\u001b[39mimread(image_path, cv2\u001b[38;5;241m.\u001b[39mIMREAD_GRAYSCALE)\n\u001b[0;32m     53\u001b[0m start_time \u001b[38;5;241m=\u001b[39m time\u001b[38;5;241m.\u001b[39mtime()\n\u001b[1;32m---> 54\u001b[0m blurred_image \u001b[38;5;241m=\u001b[39m \u001b[43mgaussian_blur_parallel\u001b[49m\u001b[43m(\u001b[49m\u001b[43mimage\u001b[49m\u001b[43m,\u001b[49m\u001b[43m \u001b[49m\u001b[43mkernel_size\u001b[49m\u001b[43m)\u001b[49m\n\u001b[0;32m     55\u001b[0m end_time \u001b[38;5;241m=\u001b[39m time\u001b[38;5;241m.\u001b[39mtime()\n\u001b[0;32m     56\u001b[0m times[filename] \u001b[38;5;241m=\u001b[39m end_time \u001b[38;5;241m-\u001b[39m start_time\n",
      "Cell \u001b[1;32mIn[29], line 16\u001b[0m, in \u001b[0;36mgaussian_blur_parallel\u001b[1;34m(image, kernel_size)\u001b[0m\n\u001b[0;32m     15\u001b[0m \u001b[38;5;28;01mdef\u001b[39;00m \u001b[38;5;21mgaussian_blur_parallel\u001b[39m(image, kernel_size):\n\u001b[1;32m---> 16\u001b[0m     kernel \u001b[38;5;241m=\u001b[39m \u001b[43mgaussian_kernel\u001b[49m\u001b[43m(\u001b[49m\u001b[43mkernel_size\u001b[49m\u001b[43m)\u001b[49m\n\u001b[0;32m     17\u001b[0m     image_gpu \u001b[38;5;241m=\u001b[39m cp\u001b[38;5;241m.\u001b[39masarray(image)\n\u001b[0;32m     18\u001b[0m     kernel_gpu \u001b[38;5;241m=\u001b[39m cp\u001b[38;5;241m.\u001b[39masarray(kernel)\n",
      "Cell \u001b[1;32mIn[29], line 8\u001b[0m, in \u001b[0;36mgaussian_kernel\u001b[1;34m(size, sigma)\u001b[0m\n\u001b[0;32m      7\u001b[0m \u001b[38;5;28;01mdef\u001b[39;00m \u001b[38;5;21mgaussian_kernel\u001b[39m(size, sigma\u001b[38;5;241m=\u001b[39m\u001b[38;5;241m1\u001b[39m):\n\u001b[1;32m----> 8\u001b[0m     x, y \u001b[38;5;241m=\u001b[39m cp\u001b[38;5;241m.\u001b[39mmeshgrid(\u001b[43mcp\u001b[49m\u001b[38;5;241;43m.\u001b[39;49m\u001b[43marange\u001b[49m\u001b[43m(\u001b[49m\u001b[43msize\u001b[49m\u001b[43m)\u001b[49m, cp\u001b[38;5;241m.\u001b[39marange(size))\n\u001b[0;32m      9\u001b[0m     x \u001b[38;5;241m=\u001b[39m x \u001b[38;5;241m-\u001b[39m (size \u001b[38;5;241m-\u001b[39m \u001b[38;5;241m1\u001b[39m) \u001b[38;5;241m/\u001b[39m \u001b[38;5;241m2\u001b[39m\n\u001b[0;32m     10\u001b[0m     y \u001b[38;5;241m=\u001b[39m y \u001b[38;5;241m-\u001b[39m (size \u001b[38;5;241m-\u001b[39m \u001b[38;5;241m1\u001b[39m) \u001b[38;5;241m/\u001b[39m \u001b[38;5;241m2\u001b[39m\n",
      "File \u001b[1;32mD:\\anaconda\\envs\\tf\\lib\\site-packages\\cupy\\_creation\\ranges.py:60\u001b[0m, in \u001b[0;36marange\u001b[1;34m(start, stop, step, dtype)\u001b[0m\n\u001b[0;32m     58\u001b[0m ret \u001b[38;5;241m=\u001b[39m cupy\u001b[38;5;241m.\u001b[39mempty((size,), dtype\u001b[38;5;241m=\u001b[39mdtype)\n\u001b[0;32m     59\u001b[0m typ \u001b[38;5;241m=\u001b[39m numpy\u001b[38;5;241m.\u001b[39mdtype(dtype)\u001b[38;5;241m.\u001b[39mtype\n\u001b[1;32m---> 60\u001b[0m \u001b[43m_arange_ufunc\u001b[49m\u001b[43m(\u001b[49m\u001b[43mtyp\u001b[49m\u001b[43m(\u001b[49m\u001b[43mstart\u001b[49m\u001b[43m)\u001b[49m\u001b[43m,\u001b[49m\u001b[43m \u001b[49m\u001b[43mtyp\u001b[49m\u001b[43m(\u001b[49m\u001b[43mstep\u001b[49m\u001b[43m)\u001b[49m\u001b[43m,\u001b[49m\u001b[43m \u001b[49m\u001b[43mret\u001b[49m\u001b[43m,\u001b[49m\u001b[43m \u001b[49m\u001b[43mdtype\u001b[49m\u001b[38;5;241;43m=\u001b[39;49m\u001b[43mdtype\u001b[49m\u001b[43m)\u001b[49m\n\u001b[0;32m     61\u001b[0m \u001b[38;5;28;01mreturn\u001b[39;00m ret\n",
      "File \u001b[1;32mcupy\\_core\\_kernel.pyx:1375\u001b[0m, in \u001b[0;36mcupy._core._kernel.ufunc.__call__\u001b[1;34m()\u001b[0m\n",
      "File \u001b[1;32mcupy\\_core\\_kernel.pyx:1402\u001b[0m, in \u001b[0;36mcupy._core._kernel.ufunc._get_ufunc_kernel\u001b[1;34m()\u001b[0m\n",
      "File \u001b[1;32mcupy\\_core\\_kernel.pyx:1082\u001b[0m, in \u001b[0;36mcupy._core._kernel._get_ufunc_kernel\u001b[1;34m()\u001b[0m\n",
      "File \u001b[1;32mcupy\\_core\\_kernel.pyx:94\u001b[0m, in \u001b[0;36mcupy._core._kernel._get_simple_elementwise_kernel\u001b[1;34m()\u001b[0m\n",
      "File \u001b[1;32mcupy\\_core\\_kernel.pyx:82\u001b[0m, in \u001b[0;36mcupy._core._kernel._get_simple_elementwise_kernel_from_code\u001b[1;34m()\u001b[0m\n",
      "File \u001b[1;32mcupy\\_core\\core.pyx:2254\u001b[0m, in \u001b[0;36mcupy._core.core.compile_with_cache\u001b[1;34m()\u001b[0m\n",
      "File \u001b[1;32mD:\\anaconda\\envs\\tf\\lib\\site-packages\\cupy\\cuda\\compiler.py:484\u001b[0m, in \u001b[0;36m_compile_module_with_cache\u001b[1;34m(source, options, arch, cache_dir, extra_source, backend, enable_cooperative_groups, name_expressions, log_stream, jitify)\u001b[0m\n\u001b[0;32m    480\u001b[0m     \u001b[38;5;28;01mreturn\u001b[39;00m _compile_with_cache_hip(\n\u001b[0;32m    481\u001b[0m         source, options, arch, cache_dir, extra_source, backend,\n\u001b[0;32m    482\u001b[0m         name_expressions, log_stream, cache_in_memory)\n\u001b[0;32m    483\u001b[0m \u001b[38;5;28;01melse\u001b[39;00m:\n\u001b[1;32m--> 484\u001b[0m     \u001b[38;5;28;01mreturn\u001b[39;00m \u001b[43m_compile_with_cache_cuda\u001b[49m\u001b[43m(\u001b[49m\n\u001b[0;32m    485\u001b[0m \u001b[43m        \u001b[49m\u001b[43msource\u001b[49m\u001b[43m,\u001b[49m\u001b[43m \u001b[49m\u001b[43moptions\u001b[49m\u001b[43m,\u001b[49m\u001b[43m \u001b[49m\u001b[43march\u001b[49m\u001b[43m,\u001b[49m\u001b[43m \u001b[49m\u001b[43mcache_dir\u001b[49m\u001b[43m,\u001b[49m\u001b[43m \u001b[49m\u001b[43mextra_source\u001b[49m\u001b[43m,\u001b[49m\u001b[43m \u001b[49m\u001b[43mbackend\u001b[49m\u001b[43m,\u001b[49m\n\u001b[0;32m    486\u001b[0m \u001b[43m        \u001b[49m\u001b[43menable_cooperative_groups\u001b[49m\u001b[43m,\u001b[49m\u001b[43m \u001b[49m\u001b[43mname_expressions\u001b[49m\u001b[43m,\u001b[49m\u001b[43m \u001b[49m\u001b[43mlog_stream\u001b[49m\u001b[43m,\u001b[49m\n\u001b[0;32m    487\u001b[0m \u001b[43m        \u001b[49m\u001b[43mcache_in_memory\u001b[49m\u001b[43m,\u001b[49m\u001b[43m \u001b[49m\u001b[43mjitify\u001b[49m\u001b[43m)\u001b[49m\n",
      "File \u001b[1;32mD:\\anaconda\\envs\\tf\\lib\\site-packages\\cupy\\cuda\\compiler.py:499\u001b[0m, in \u001b[0;36m_compile_with_cache_cuda\u001b[1;34m(source, options, arch, cache_dir, extra_source, backend, enable_cooperative_groups, name_expressions, log_stream, cache_in_memory, jitify)\u001b[0m\n\u001b[0;32m    497\u001b[0m     cache_dir \u001b[38;5;241m=\u001b[39m get_cache_dir()\n\u001b[0;32m    498\u001b[0m \u001b[38;5;28;01mif\u001b[39;00m arch \u001b[38;5;129;01mis\u001b[39;00m \u001b[38;5;28;01mNone\u001b[39;00m:\n\u001b[1;32m--> 499\u001b[0m     arch \u001b[38;5;241m=\u001b[39m \u001b[43m_get_arch\u001b[49m\u001b[43m(\u001b[49m\u001b[43m)\u001b[49m\n\u001b[0;32m    501\u001b[0m options \u001b[38;5;241m+\u001b[39m\u001b[38;5;241m=\u001b[39m (\u001b[38;5;124m'\u001b[39m\u001b[38;5;124m-ftz=true\u001b[39m\u001b[38;5;124m'\u001b[39m,)\n\u001b[0;32m    503\u001b[0m \u001b[38;5;28;01mif\u001b[39;00m enable_cooperative_groups:\n\u001b[0;32m    504\u001b[0m     \u001b[38;5;66;03m# `cooperative_groups` requires relocatable device code.\u001b[39;00m\n",
      "File \u001b[1;32mcupy\\_util.pyx:64\u001b[0m, in \u001b[0;36mcupy._util.memoize.decorator.ret\u001b[1;34m()\u001b[0m\n",
      "File \u001b[1;32mD:\\anaconda\\envs\\tf\\lib\\site-packages\\cupy\\cuda\\compiler.py:148\u001b[0m, in \u001b[0;36m_get_arch\u001b[1;34m()\u001b[0m\n\u001b[0;32m    144\u001b[0m \u001b[38;5;129m@_util\u001b[39m\u001b[38;5;241m.\u001b[39mmemoize(for_each_device\u001b[38;5;241m=\u001b[39m\u001b[38;5;28;01mTrue\u001b[39;00m)\n\u001b[0;32m    145\u001b[0m \u001b[38;5;28;01mdef\u001b[39;00m \u001b[38;5;21m_get_arch\u001b[39m():\n\u001b[0;32m    146\u001b[0m     \u001b[38;5;66;03m# See Supported Compile Options section of NVRTC User Guide for\u001b[39;00m\n\u001b[0;32m    147\u001b[0m     \u001b[38;5;66;03m# the maximum value allowed for `--gpu-architecture`.\u001b[39;00m\n\u001b[1;32m--> 148\u001b[0m     nvrtc_max_compute_capability \u001b[38;5;241m=\u001b[39m \u001b[43m_get_max_compute_capability\u001b[49m\u001b[43m(\u001b[49m\u001b[43m)\u001b[49m\n\u001b[0;32m    150\u001b[0m     arch \u001b[38;5;241m=\u001b[39m device\u001b[38;5;241m.\u001b[39mDevice()\u001b[38;5;241m.\u001b[39mcompute_capability\n\u001b[0;32m    151\u001b[0m     \u001b[38;5;28;01mif\u001b[39;00m arch \u001b[38;5;129;01min\u001b[39;00m _tegra_archs:\n",
      "File \u001b[1;32mcupy\\_util.pyx:64\u001b[0m, in \u001b[0;36mcupy._util.memoize.decorator.ret\u001b[1;34m()\u001b[0m\n",
      "File \u001b[1;32mD:\\anaconda\\envs\\tf\\lib\\site-packages\\cupy\\cuda\\compiler.py:126\u001b[0m, in \u001b[0;36m_get_max_compute_capability\u001b[1;34m()\u001b[0m\n\u001b[0;32m    124\u001b[0m \u001b[38;5;129m@_util\u001b[39m\u001b[38;5;241m.\u001b[39mmemoize()\n\u001b[0;32m    125\u001b[0m \u001b[38;5;28;01mdef\u001b[39;00m \u001b[38;5;21m_get_max_compute_capability\u001b[39m():\n\u001b[1;32m--> 126\u001b[0m     major, minor \u001b[38;5;241m=\u001b[39m \u001b[43m_get_nvrtc_version\u001b[49m\u001b[43m(\u001b[49m\u001b[43m)\u001b[49m\n\u001b[0;32m    127\u001b[0m     \u001b[38;5;28;01mif\u001b[39;00m major \u001b[38;5;241m<\u001b[39m \u001b[38;5;241m11\u001b[39m:\n\u001b[0;32m    128\u001b[0m         \u001b[38;5;66;03m# CUDA 10.2\u001b[39;00m\n\u001b[0;32m    129\u001b[0m         nvrtc_max_compute_capability \u001b[38;5;241m=\u001b[39m \u001b[38;5;124m'\u001b[39m\u001b[38;5;124m75\u001b[39m\u001b[38;5;124m'\u001b[39m\n",
      "File \u001b[1;32mD:\\anaconda\\envs\\tf\\lib\\site-packages\\cupy\\cuda\\compiler.py:115\u001b[0m, in \u001b[0;36m_get_nvrtc_version\u001b[1;34m()\u001b[0m\n\u001b[0;32m    113\u001b[0m \u001b[38;5;28;01mglobal\u001b[39;00m _nvrtc_version\n\u001b[0;32m    114\u001b[0m \u001b[38;5;28;01mif\u001b[39;00m _nvrtc_version \u001b[38;5;129;01mis\u001b[39;00m \u001b[38;5;28;01mNone\u001b[39;00m:\n\u001b[1;32m--> 115\u001b[0m     _nvrtc_version \u001b[38;5;241m=\u001b[39m \u001b[43mnvrtc\u001b[49m\u001b[38;5;241;43m.\u001b[39;49m\u001b[43mgetVersion\u001b[49m\u001b[43m(\u001b[49m\u001b[43m)\u001b[49m\n\u001b[0;32m    117\u001b[0m \u001b[38;5;28;01mreturn\u001b[39;00m _nvrtc_version\n",
      "File \u001b[1;32mcupy_backends\\cuda\\libs\\nvrtc.pyx:56\u001b[0m, in \u001b[0;36mcupy_backends.cuda.libs.nvrtc.getVersion\u001b[1;34m()\u001b[0m\n",
      "File \u001b[1;32mcupy_backends\\cuda\\libs\\nvrtc.pyx:57\u001b[0m, in \u001b[0;36mcupy_backends.cuda.libs.nvrtc.getVersion\u001b[1;34m()\u001b[0m\n",
      "File \u001b[1;32mcupy_backends\\cuda\\libs\\_cnvrtc.pxi:72\u001b[0m, in \u001b[0;36mcupy_backends.cuda.libs.nvrtc.initialize\u001b[1;34m()\u001b[0m\n",
      "File \u001b[1;32mcupy_backends\\cuda\\libs\\_cnvrtc.pxi:76\u001b[0m, in \u001b[0;36mcupy_backends.cuda.libs.nvrtc._initialize\u001b[1;34m()\u001b[0m\n",
      "File \u001b[1;32mcupy_backends\\cuda\\libs\\_cnvrtc.pxi:143\u001b[0m, in \u001b[0;36mcupy_backends.cuda.libs.nvrtc._get_softlink\u001b[1;34m()\u001b[0m\n",
      "File \u001b[1;32mcupy_backends\\cuda\\_softlink.pyx:32\u001b[0m, in \u001b[0;36mcupy_backends.cuda._softlink.SoftLink.__init__\u001b[1;34m()\u001b[0m\n",
      "\u001b[1;31mRuntimeError\u001b[0m: CuPy failed to load nvrtc64_120_0.dll: FileNotFoundError: Could not find module 'nvrtc64_120_0.dll' (or one of its dependencies). Try using the full path with constructor syntax."
     ]
    }
   ],
   "source": [
    "import os\n",
    "import cv2\n",
    "import cupy as cp\n",
    "import time\n",
    "\n",
    "# Define Gaussian kernel\n",
    "def gaussian_kernel(size, sigma=1):\n",
    "    x, y = cp.meshgrid(cp.arange(size), cp.arange(size))\n",
    "    x = x - (size - 1) / 2\n",
    "    y = y - (size - 1) / 2\n",
    "    kernel = cp.exp(-(x**2 + y**2) / (2 * sigma**2)) / (2 * cp.pi * sigma**2)\n",
    "    return kernel / cp.sum(kernel)\n",
    "\n",
    "# Parallel Gaussian blur using CUDA\n",
    "def gaussian_blur_parallel(image, kernel_size):\n",
    "    kernel = gaussian_kernel(kernel_size)\n",
    "    image_gpu = cp.asarray(image)\n",
    "    kernel_gpu = cp.asarray(kernel)\n",
    "    blurred_image_gpu = cp.zeros_like(image_gpu)\n",
    "\n",
    "    # CUDA kernel for convolution\n",
    "    kernel_size = cp.int32(kernel_size)\n",
    "    image_height, image_width = image_gpu.shape\n",
    "    threads_per_block = (32, 32)\n",
    "    blocks_per_grid_x = (image_width + threads_per_block[0] - 1) // threads_per_block[0]\n",
    "    blocks_per_grid_y = (image_height + threads_per_block[1] - 1) // threads_per_block[1]\n",
    "    blocks_per_grid = (blocks_per_grid_x, blocks_per_grid_y)\n",
    "\n",
    "    gaussian_blur_kernel[blocks_per_grid, threads_per_block](image_gpu, blurred_image_gpu, kernel_gpu, kernel_size, image_height, image_width)\n",
    "\n",
    "    return blurred_image_gpu.get()\n",
    "\n",
    "# CUDA kernel function for Gaussian blur\n",
    "@cp.fuse()\n",
    "def gaussian_blur_kernel(image, blurred_image, kernel, kernel_size, image_height, image_width):\n",
    "    x, y = cp.meshgrid(cp.arange(-kernel_size//2 + 1, kernel_size//2 + 1), cp.arange(-kernel_size//2 + 1, kernel_size//2 + 1))\n",
    "    for i in range(image_height):\n",
    "        for j in range(image_width):\n",
    "            for k in range(kernel_size):\n",
    "                for l in range(kernel_size):\n",
    "                    ii = i + k - kernel_size // 2\n",
    "                    jj = j + l - kernel_size // 2\n",
    "                    if ii >= 0 and ii < image_height and jj >= 0 and jj < image_width:\n",
    "                        blurred_image[i, j] += image[ii, jj] * kernel[k, l]\n",
    "\n",
    "# Process images in folder using parallel Gaussian blur\n",
    "def process_images_in_folder_parallel(folder_path, kernel_size):\n",
    "    times = {}\n",
    "    for filename in os.listdir(folder_path):\n",
    "        if filename.endswith(\".jpg\") or filename.endswith(\".png\"):\n",
    "            image_path = os.path.join(folder_path, filename)\n",
    "            image = cv2.imread(image_path, cv2.IMREAD_GRAYSCALE)\n",
    "            start_time = time.time()\n",
    "            blurred_image = gaussian_blur_parallel(image, kernel_size)\n",
    "            end_time = time.time()\n",
    "            times[filename] = end_time - start_time\n",
    "    return times\n",
    "\n",
    "# Set the folder path containing images\n",
    "folder_path = \"D:/data set/minion\"\n",
    "kernel_size = 5\n",
    "\n",
    "# Process images and measure time taken for parallel Gaussian blur\n",
    "start_time_total = time.time()\n",
    "times_per_image_parallel = process_images_in_folder_parallel(folder_path, kernel_size)\n",
    "end_time_total = time.time()\n",
    "total_time_parallel = end_time_total - start_time_total\n",
    "\n",
    "# Print time taken for parallel Gaussian blur on each image\n",
    "print(\"Time taken for parallel Gaussian blur on each image:\")\n",
    "for filename, time_taken in times_per_image_parallel.items():\n",
    "    print(f\"{filename}: {time_taken:.4f} seconds\")\n",
    "\n",
    "# Print total time taken for all images\n",
    "print(f\"\\nTotal time taken for parallel Gaussian blur on all images: {total_time_parallel:.4f} seconds\")\n"
   ]
  },
  {
   "cell_type": "markdown",
   "id": "d208b143-009f-4fa2-a028-86c8bcc9284b",
   "metadata": {},
   "source": [
    "### FFT- Fast Fourier Transform"
   ]
  },
  {
   "cell_type": "markdown",
   "id": "cefc84cf-ef23-4198-82b9-b302e5db83e6",
   "metadata": {},
   "source": [
    "#### Describe FFT in brief"
   ]
  },
  {
   "cell_type": "code",
   "execution_count": null,
   "id": "3f67de7c-27a8-4199-b6e4-25b74d5d9b23",
   "metadata": {},
   "outputs": [],
   "source": []
  },
  {
   "cell_type": "markdown",
   "id": "88a6e02e-bafa-436a-9242-02f42c70a7a8",
   "metadata": {},
   "source": [
    "#### Where parallelism can be inserted?"
   ]
  },
  {
   "cell_type": "code",
   "execution_count": null,
   "id": "9fee479c-eb40-4951-a805-e2470cf51b04",
   "metadata": {},
   "outputs": [],
   "source": []
  },
  {
   "cell_type": "markdown",
   "id": "1ecf1ae3-be67-46fd-ba23-107fb77c0849",
   "metadata": {},
   "source": [
    "#### Analyze the performance in serial and parallel model."
   ]
  },
  {
   "cell_type": "markdown",
   "id": "d5a9cbc6-25be-4d49-ac2d-4e54a962b325",
   "metadata": {},
   "source": [
    "##### serial"
   ]
  },
  {
   "cell_type": "code",
   "execution_count": 11,
   "id": "8d82bb07-cf4f-4804-9922-1ca9887c19ab",
   "metadata": {},
   "outputs": [],
   "source": [
    "def fft_sequential(image):\n",
    "    \"\"\"\n",
    "    Compute the Fast Fourier Transform (FFT) of the image sequentially.\n",
    "\n",
    "    Parameters:\n",
    "    - image: input image\n",
    "\n",
    "    Returns:\n",
    "    - FFT of the image\n",
    "    \"\"\"\n",
    "    fft_image = np.fft.fft2(image)\n",
    "    return fft_image"
   ]
  },
  {
   "cell_type": "code",
   "execution_count": 12,
   "id": "0a13eab1-7af2-4cca-82d2-35cfed8474e6",
   "metadata": {},
   "outputs": [],
   "source": [
    "def process_images_in_folder_fft(folder_path):\n",
    "    \"\"\"\n",
    "    Process all images in the given folder by computing FFT sequentially.\n",
    "\n",
    "    Parameters:\n",
    "    - folder_path: path to the folder containing images\n",
    "\n",
    "    Returns:\n",
    "    - dictionary containing image filenames as keys and time taken for processing as values\n",
    "    \"\"\"\n",
    "    times = {}\n",
    "    for filename in os.listdir(folder_path):\n",
    "        if filename.endswith(\".jpg\") or filename.endswith(\".png\"):\n",
    "            image_path = os.path.join(folder_path, filename)\n",
    "            image = cv2.imread(image_path, cv2.IMREAD_GRAYSCALE)\n",
    "            start_time = time.time()\n",
    "            fft_image = fft_sequential(image)\n",
    "            end_time = time.time()\n",
    "            times[filename] = end_time - start_time\n",
    "    return times"
   ]
  },
  {
   "cell_type": "code",
   "execution_count": 13,
   "id": "a0ccfb59-b709-4f88-86ec-021b2832db13",
   "metadata": {},
   "outputs": [],
   "source": [
    "folder_path = \"D:/data set/minion/\""
   ]
  },
  {
   "cell_type": "code",
   "execution_count": 14,
   "id": "ba169e31-17db-4e45-b97f-304f89d10546",
   "metadata": {},
   "outputs": [],
   "source": [
    "start_time_total = time.time()\n",
    "times_per_image_fft = process_images_in_folder_fft(folder_path)\n",
    "end_time_total = time.time()\n",
    "total_time_fft = end_time_total - start_time_total"
   ]
  },
  {
   "cell_type": "code",
   "execution_count": 15,
   "id": "26559b77-f5ca-4420-8e19-2fe0e0226a0e",
   "metadata": {},
   "outputs": [
    {
     "name": "stdout",
     "output_type": "stream",
     "text": [
      "Time taken for FFT on each image:\n",
      "1.jpg: 0.0221 seconds\n",
      "10.jpg: 0.0744 seconds\n",
      "11.jpg: 0.0566 seconds\n",
      "2.jpg: 0.0465 seconds\n",
      "3.jpg: 1.5794 seconds\n",
      "4.jpg: 0.0519 seconds\n",
      "5.jpg: 0.2540 seconds\n",
      "6.jpg: 0.0714 seconds\n",
      "7.jpg: 0.0600 seconds\n",
      "8.jpg: 0.0937 seconds\n",
      "9.jpg: 0.0313 seconds\n"
     ]
    }
   ],
   "source": [
    "print(\"Time taken for FFT on each image:\")\n",
    "for filename, time_taken in times_per_image_fft.items():\n",
    "    print(f\"{filename}: {time_taken:.4f} seconds\")"
   ]
  },
  {
   "cell_type": "code",
   "execution_count": 16,
   "id": "2baa52d8-c063-4550-b4c9-132f2d3bfa72",
   "metadata": {},
   "outputs": [
    {
     "name": "stdout",
     "output_type": "stream",
     "text": [
      "\n",
      "Total time taken for FFT on all images: 2.5566 seconds\n"
     ]
    }
   ],
   "source": [
    "print(f\"\\nTotal time taken for FFT on all images: {total_time_fft:.4f} seconds\")"
   ]
  },
  {
   "cell_type": "markdown",
   "id": "6631e72a-8b6d-4e70-91f2-5c4abb7e4204",
   "metadata": {},
   "source": [
    "##### Parallel"
   ]
  },
  {
   "cell_type": "code",
   "execution_count": null,
   "id": "c00c142c-4cb6-44a0-9096-49b08ba1e1ca",
   "metadata": {},
   "outputs": [],
   "source": []
  }
 ],
 "metadata": {
  "kernelspec": {
   "display_name": "Python 3 (ipykernel)",
   "language": "python",
   "name": "python3"
  },
  "language_info": {
   "codemirror_mode": {
    "name": "ipython",
    "version": 3
   },
   "file_extension": ".py",
   "mimetype": "text/x-python",
   "name": "python",
   "nbconvert_exporter": "python",
   "pygments_lexer": "ipython3",
   "version": "3.10.13"
  }
 },
 "nbformat": 4,
 "nbformat_minor": 5
}

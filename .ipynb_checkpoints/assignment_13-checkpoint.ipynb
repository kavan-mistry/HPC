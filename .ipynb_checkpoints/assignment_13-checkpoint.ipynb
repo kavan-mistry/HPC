{
 "cells": [
  {
   "cell_type": "markdown",
   "id": "f4ebd56e-a97a-40b8-a6c3-a654300a3f65",
   "metadata": {},
   "source": [
    "### lshw in python"
   ]
  },
  {
   "cell_type": "code",
   "execution_count": 3,
   "id": "865ff8ac-fbe5-4916-9295-3b406f6e5c9f",
   "metadata": {},
   "outputs": [],
   "source": [
    "import psutil\n",
    "import platform\n",
    "from datetime import datetime"
   ]
  },
  {
   "cell_type": "code",
   "execution_count": 4,
   "id": "8fb540ad-cced-4fa7-9387-623a8aaa9f2f",
   "metadata": {},
   "outputs": [],
   "source": [
    "def get_size(bytes, suffix=\"B\"):\n",
    "    \"\"\"\n",
    "    Scale bytes to its proper format\n",
    "    e.g:\n",
    "        1253656 => '1.20MB'\n",
    "        1253656678 => '1.17GB'\n",
    "    \"\"\"\n",
    "    factor = 1024\n",
    "    for unit in [\"\", \"K\", \"M\", \"G\", \"T\", \"P\"]:\n",
    "        if bytes < factor:\n",
    "            return f\"{bytes:.2f}{unit}{suffix}\"\n",
    "        bytes /= factor"
   ]
  },
  {
   "cell_type": "code",
   "execution_count": 5,
   "id": "36efca2c-76c1-48d9-9f8d-0e535dc02a44",
   "metadata": {},
   "outputs": [
    {
     "name": "stdout",
     "output_type": "stream",
     "text": [
      "======================================== System Information ========================================\n",
      "System: Windows\n",
      "Node Name: Kavan\n",
      "Release: 10\n",
      "Version: 10.0.22631\n",
      "Machine: AMD64\n",
      "Processor: Intel64 Family 6 Model 186 Stepping 2, GenuineIntel\n"
     ]
    }
   ],
   "source": [
    "print(\"=\"*40, \"System Information\", \"=\"*40)\n",
    "uname = platform.uname()\n",
    "print(f\"System: {uname.system}\")\n",
    "print(f\"Node Name: {uname.node}\")\n",
    "print(f\"Release: {uname.release}\")\n",
    "print(f\"Version: {uname.version}\")\n",
    "print(f\"Machine: {uname.machine}\")\n",
    "print(f\"Processor: {uname.processor}\")"
   ]
  },
  {
   "cell_type": "code",
   "execution_count": 6,
   "id": "545f5c87-0b50-4ef0-9817-744f9c480166",
   "metadata": {},
   "outputs": [
    {
     "name": "stdout",
     "output_type": "stream",
     "text": [
      "======================================== Boot Time ========================================\n",
      "Boot Time: 2024/3/11 18:46:51\n"
     ]
    }
   ],
   "source": [
    "# Boot Time\n",
    "print(\"=\"*40, \"Boot Time\", \"=\"*40)\n",
    "boot_time_timestamp = psutil.boot_time()\n",
    "bt = datetime.fromtimestamp(boot_time_timestamp)\n",
    "print(f\"Boot Time: {bt.year}/{bt.month}/{bt.day} {bt.hour}:{bt.minute}:{bt.second}\")"
   ]
  },
  {
   "cell_type": "code",
   "execution_count": 7,
   "id": "30f82f7c-ac2e-44f0-9933-071055a15a58",
   "metadata": {},
   "outputs": [
    {
     "name": "stdout",
     "output_type": "stream",
     "text": [
      "======================================== CPU Info ========================================\n",
      "Physical cores: 10\n",
      "Total cores: 16\n",
      "Max Frequency: 2400.00Mhz\n",
      "Min Frequency: 0.00Mhz\n",
      "Current Frequency: 1520.00Mhz\n",
      "CPU Usage Per Core:\n",
      "Core 0: 0.0%\n",
      "Core 1: 0.0%\n",
      "Core 2: 0.0%\n",
      "Core 3: 0.0%\n",
      "Core 4: 23.1%\n",
      "Core 5: 12.5%\n",
      "Core 6: 4.8%\n",
      "Core 7: 1.6%\n",
      "Core 8: 0.0%\n",
      "Core 9: 0.0%\n",
      "Core 10: 0.0%\n",
      "Core 11: 0.0%\n",
      "Core 12: 0.0%\n",
      "Core 13: 0.0%\n",
      "Core 14: 1.6%\n",
      "Core 15: 3.1%\n",
      "Total CPU Usage: 5.1%\n"
     ]
    }
   ],
   "source": [
    "# let's print CPU information\n",
    "print(\"=\"*40, \"CPU Info\", \"=\"*40)\n",
    "# number of cores\n",
    "print(\"Physical cores:\", psutil.cpu_count(logical=False))\n",
    "print(\"Total cores:\", psutil.cpu_count(logical=True))\n",
    "# CPU frequencies\n",
    "cpufreq = psutil.cpu_freq()\n",
    "print(f\"Max Frequency: {cpufreq.max:.2f}Mhz\")\n",
    "print(f\"Min Frequency: {cpufreq.min:.2f}Mhz\")\n",
    "print(f\"Current Frequency: {cpufreq.current:.2f}Mhz\")\n",
    "# CPU usage\n",
    "print(\"CPU Usage Per Core:\")\n",
    "for i, percentage in enumerate(psutil.cpu_percent(percpu=True, interval=1)):\n",
    "    print(f\"Core {i}: {percentage}%\")\n",
    "print(f\"Total CPU Usage: {psutil.cpu_percent()}%\")"
   ]
  },
  {
   "cell_type": "code",
   "execution_count": 8,
   "id": "ca9fc5ed-c85f-48b4-80ad-6ec87f4da60d",
   "metadata": {},
   "outputs": [
    {
     "name": "stdout",
     "output_type": "stream",
     "text": [
      "======================================== Memory Information ========================================\n",
      "Total: 15.73GB\n",
      "Available: 5.13GB\n",
      "Used: 10.60GB\n",
      "Percentage: 67.4%\n",
      "==================== SWAP ====================\n",
      "Total: 16.89GB\n",
      "Free: 12.59GB\n",
      "Used: 4.30GB\n",
      "Percentage: 25.5%\n"
     ]
    }
   ],
   "source": [
    "# Memory Information\n",
    "print(\"=\"*40, \"Memory Information\", \"=\"*40)\n",
    "# get the memory details\n",
    "svmem = psutil.virtual_memory()\n",
    "print(f\"Total: {get_size(svmem.total)}\")\n",
    "print(f\"Available: {get_size(svmem.available)}\")\n",
    "print(f\"Used: {get_size(svmem.used)}\")\n",
    "print(f\"Percentage: {svmem.percent}%\")\n",
    "print(\"=\"*20, \"SWAP\", \"=\"*20)\n",
    "# get the swap memory details (if exists)\n",
    "swap = psutil.swap_memory()\n",
    "print(f\"Total: {get_size(swap.total)}\")\n",
    "print(f\"Free: {get_size(swap.free)}\")\n",
    "print(f\"Used: {get_size(swap.used)}\")\n",
    "print(f\"Percentage: {swap.percent}%\")"
   ]
  },
  {
   "cell_type": "code",
   "execution_count": 9,
   "id": "9313f07d-813f-47ba-b586-db8d189444a7",
   "metadata": {},
   "outputs": [
    {
     "name": "stdout",
     "output_type": "stream",
     "text": [
      "======================================== Disk Information ========================================\n",
      "Partitions and Usage:\n",
      "=== Device: C:\\ ===\n",
      "  Mountpoint: C:\\\n",
      "  File system type: NTFS\n",
      "  Total Size: 377.65GB\n",
      "  Used: 134.89GB\n",
      "  Free: 242.76GB\n",
      "  Percentage: 35.7%\n",
      "=== Device: D:\\ ===\n",
      "  Mountpoint: D:\\\n",
      "  File system type: NTFS\n",
      "  Total Size: 574.00GB\n",
      "  Used: 389.25GB\n",
      "  Free: 184.75GB\n",
      "  Percentage: 67.8%\n",
      "=== Device: G:\\ ===\n",
      "  Mountpoint: G:\\\n",
      "  File system type: FAT32\n",
      "  Total Size: 15.00GB\n",
      "  Used: 11.62GB\n",
      "  Free: 3.38GB\n",
      "  Percentage: 77.5%\n",
      "=== Device: H:\\ ===\n",
      "  Mountpoint: H:\\\n",
      "  File system type: FAT32\n",
      "  Total Size: 15.00GB\n",
      "  Used: 448.09MB\n",
      "  Free: 14.56GB\n",
      "  Percentage: 2.9%\n",
      "=== Device: I:\\ ===\n",
      "  Mountpoint: I:\\\n",
      "  File system type: FAT32\n",
      "  Total Size: 15.00GB\n",
      "  Used: 2.04GB\n",
      "  Free: 12.96GB\n",
      "  Percentage: 13.6%\n",
      "=== Device: J:\\ ===\n",
      "  Mountpoint: J:\\\n",
      "  File system type: FAT32\n",
      "  Total Size: 377.65GB\n",
      "  Used: 147.03GB\n",
      "  Free: 230.62GB\n",
      "  Percentage: 38.9%\n",
      "Total read: 149.11GB\n",
      "Total write: 85.12GB\n"
     ]
    }
   ],
   "source": [
    "# Disk Information\n",
    "print(\"=\"*40, \"Disk Information\", \"=\"*40)\n",
    "print(\"Partitions and Usage:\")\n",
    "# get all disk partitions\n",
    "partitions = psutil.disk_partitions()\n",
    "for partition in partitions:\n",
    "    print(f\"=== Device: {partition.device} ===\")\n",
    "    print(f\"  Mountpoint: {partition.mountpoint}\")\n",
    "    print(f\"  File system type: {partition.fstype}\")\n",
    "    try:\n",
    "        partition_usage = psutil.disk_usage(partition.mountpoint)\n",
    "    except PermissionError:\n",
    "        # this can be catched due to the disk that\n",
    "        # isn't ready\n",
    "        continue\n",
    "    print(f\"  Total Size: {get_size(partition_usage.total)}\")\n",
    "    print(f\"  Used: {get_size(partition_usage.used)}\")\n",
    "    print(f\"  Free: {get_size(partition_usage.free)}\")\n",
    "    print(f\"  Percentage: {partition_usage.percent}%\")\n",
    "# get IO statistics since boot\n",
    "disk_io = psutil.disk_io_counters()\n",
    "print(f\"Total read: {get_size(disk_io.read_bytes)}\")\n",
    "print(f\"Total write: {get_size(disk_io.write_bytes)}\")"
   ]
  },
  {
   "cell_type": "code",
   "execution_count": 10,
   "id": "c5eacfb9-9898-485b-951c-f13fc9c6ba96",
   "metadata": {},
   "outputs": [
    {
     "name": "stdout",
     "output_type": "stream",
     "text": [
      "======================================== Network Information ========================================\n",
      "=== Interface: Local Area Connection* 1 ===\n",
      "=== Interface: Local Area Connection* 1 ===\n",
      "=== Interface: Local Area Connection* 1 ===\n",
      "=== Interface: Local Area Connection* 2 ===\n",
      "=== Interface: Local Area Connection* 2 ===\n",
      "=== Interface: Local Area Connection* 2 ===\n",
      "=== Interface: Wi-Fi ===\n",
      "=== Interface: Wi-Fi ===\n",
      "=== Interface: Wi-Fi ===\n",
      "=== Interface: Wi-Fi ===\n",
      "=== Interface: Wi-Fi ===\n",
      "=== Interface: Bluetooth Network Connection ===\n",
      "=== Interface: Bluetooth Network Connection ===\n",
      "=== Interface: Bluetooth Network Connection ===\n",
      "=== Interface: Ethernet ===\n",
      "=== Interface: Ethernet ===\n",
      "=== Interface: Ethernet ===\n",
      "=== Interface: Ethernet ===\n",
      "=== Interface: vEthernet (WSL (Hyper-V firewall)) ===\n",
      "=== Interface: vEthernet (WSL (Hyper-V firewall)) ===\n",
      "=== Interface: vEthernet (WSL (Hyper-V firewall)) ===\n",
      "=== Interface: Loopback Pseudo-Interface 1 ===\n",
      "=== Interface: Loopback Pseudo-Interface 1 ===\n",
      "Total Bytes Sent: 78.12MB\n",
      "Total Bytes Received: 255.60MB\n"
     ]
    }
   ],
   "source": [
    "# Network information\n",
    "print(\"=\"*40, \"Network Information\", \"=\"*40)\n",
    "# get all network interfaces (virtual and physical)\n",
    "if_addrs = psutil.net_if_addrs()\n",
    "for interface_name, interface_addresses in if_addrs.items():\n",
    "    for address in interface_addresses:\n",
    "        print(f\"=== Interface: {interface_name} ===\")\n",
    "        if str(address.family) == 'AddressFamily.AF_INET':\n",
    "            print(f\"  IP Address: {address.address}\")\n",
    "            print(f\"  Netmask: {address.netmask}\")\n",
    "            print(f\"  Broadcast IP: {address.broadcast}\")\n",
    "        elif str(address.family) == 'AddressFamily.AF_PACKET':\n",
    "            print(f\"  MAC Address: {address.address}\")\n",
    "            print(f\"  Netmask: {address.netmask}\")\n",
    "            print(f\"  Broadcast MAC: {address.broadcast}\")\n",
    "# get IO statistics since boot\n",
    "net_io = psutil.net_io_counters()\n",
    "print(f\"Total Bytes Sent: {get_size(net_io.bytes_sent)}\")\n",
    "print(f\"Total Bytes Received: {get_size(net_io.bytes_recv)}\")"
   ]
  },
  {
   "cell_type": "code",
   "execution_count": 11,
   "id": "3f88f0d3-1966-4301-ad1c-3cdf8de9c007",
   "metadata": {},
   "outputs": [
    {
     "name": "stdout",
     "output_type": "stream",
     "text": [
      "======================================== GPU Details ========================================\n",
      "  id  name                                load    free memory    used memory    total memory    temperature    uuid\n",
      "----  ----------------------------------  ------  -------------  -------------  --------------  -------------  ----------------------------------------\n",
      "   0  NVIDIA GeForce RTX 4060 Laptop GPU  0.0%    7957.0MB       0.0MB          8188.0MB        47.0 °C        GPU-c57be5c7-c7c8-a919-7a71-a5d875f4a2c1\n"
     ]
    }
   ],
   "source": [
    "# GPU information\n",
    "import GPUtil\n",
    "from tabulate import tabulate\n",
    "print(\"=\"*40, \"GPU Details\", \"=\"*40)\n",
    "gpus = GPUtil.getGPUs()\n",
    "list_gpus = []\n",
    "for gpu in gpus:\n",
    "    # get the GPU id\n",
    "    gpu_id = gpu.id\n",
    "    # name of GPU\n",
    "    gpu_name = gpu.name\n",
    "    # get % percentage of GPU usage of that GPU\n",
    "    gpu_load = f\"{gpu.load*100}%\"\n",
    "    # get free memory in MB format\n",
    "    gpu_free_memory = f\"{gpu.memoryFree}MB\"\n",
    "    # get used memory\n",
    "    gpu_used_memory = f\"{gpu.memoryUsed}MB\"\n",
    "    # get total memory\n",
    "    gpu_total_memory = f\"{gpu.memoryTotal}MB\"\n",
    "    # get GPU temperature in Celsius\n",
    "    gpu_temperature = f\"{gpu.temperature} °C\"\n",
    "    gpu_uuid = gpu.uuid\n",
    "    list_gpus.append((\n",
    "        gpu_id, gpu_name, gpu_load, gpu_free_memory, gpu_used_memory,\n",
    "        gpu_total_memory, gpu_temperature, gpu_uuid\n",
    "    ))\n",
    "\n",
    "print(tabulate(list_gpus, headers=(\"id\", \"name\", \"load\", \"free memory\", \"used memory\", \"total memory\",\n",
    "                                   \"temperature\", \"uuid\")))"
   ]
  },
  {
   "cell_type": "markdown",
   "id": "487b42b5-26f9-4574-ad2c-32892d6cc473",
   "metadata": {},
   "source": [
    "### isusb in python"
   ]
  },
  {
   "cell_type": "code",
   "execution_count": 12,
   "id": "5b087135-670e-4a0d-b063-e98f25b1a084",
   "metadata": {},
   "outputs": [
    {
     "ename": "ModuleNotFoundError",
     "evalue": "No module named 'usb'",
     "output_type": "error",
     "traceback": [
      "\u001b[1;31m---------------------------------------------------------------------------\u001b[0m",
      "\u001b[1;31mModuleNotFoundError\u001b[0m                       Traceback (most recent call last)",
      "Cell \u001b[1;32mIn[12], line 1\u001b[0m\n\u001b[1;32m----> 1\u001b[0m \u001b[38;5;28;01mimport\u001b[39;00m \u001b[38;5;21;01musb\u001b[39;00m\u001b[38;5;21;01m.\u001b[39;00m\u001b[38;5;21;01mcore\u001b[39;00m\n\u001b[0;32m      2\u001b[0m \u001b[38;5;28;01mimport\u001b[39;00m \u001b[38;5;21;01musb\u001b[39;00m\u001b[38;5;21;01m.\u001b[39;00m\u001b[38;5;21;01minfo\u001b[39;00m\n",
      "\u001b[1;31mModuleNotFoundError\u001b[0m: No module named 'usb'"
     ]
    }
   ],
   "source": [
    "import usb.core\n",
    "import usb.info"
   ]
  }
 ],
 "metadata": {
  "kernelspec": {
   "display_name": "Python 3 (ipykernel)",
   "language": "python",
   "name": "python3"
  },
  "language_info": {
   "codemirror_mode": {
    "name": "ipython",
    "version": 3
   },
   "file_extension": ".py",
   "mimetype": "text/x-python",
   "name": "python",
   "nbconvert_exporter": "python",
   "pygments_lexer": "ipython3",
   "version": "3.11.5"
  }
 },
 "nbformat": 4,
 "nbformat_minor": 5
}

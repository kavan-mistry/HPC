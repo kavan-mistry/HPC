{
 "cells": [
  {
   "cell_type": "markdown",
   "metadata": {
    "id": "XI4qZU_5CtWR"
   },
   "source": [
    "# Implement the following Image Processing operations in sequential and parallel using CUDA Programming."
   ]
  },
  {
   "cell_type": "markdown",
   "metadata": {
    "id": "CkT9i4D8C0aR"
   },
   "source": [
    "## Gaussian Blur"
   ]
  },
  {
   "cell_type": "markdown",
   "metadata": {
    "id": "n6UCVFsDC31h"
   },
   "source": [
    "\n",
    "### Description\n",
    "\n",
    "Gaussian blur is a widely used image processing operation that helps in reducing image noise and details, thus creating a smoother image. It works by averaging the intensity of pixels in the vicinity of each pixel, weighted by a Gaussian distribution. This weighted averaging process blurs the image while preserving its overall structure.\n",
    "\n"
   ]
  },
  {
   "cell_type": "markdown",
   "metadata": {
    "id": "PuvyJa6tC5YY"
   },
   "source": [
    "### Parallelism Insertion\n",
    "1. Divide the Workload: Split the image processing tasks among multiple threads, each handling a portion of the image.\n",
    "2. Use GPU-accelerated Operations: Leverage CuPy's GPU-accelerated functions to perform image processing operations on the GPU.\n",
    "3. Parallel Kernel Launch: Launch a CUDA kernel with multiple threads to execute the processing tasks concurrently on the GPU.\n",
    "4. Ensure Synchronization: Synchronize the GPU to ensure all threads have completed their tasks before proceeding to the next steps or accessing the processed data.\n",
    "5. Optimize Memory Usage: Utilize GPU memory efficiently by minimizing data transfers between the CPU and GPU and optimizing memory allocation and deallocation\n"
   ]
  },
  {
   "cell_type": "markdown",
   "metadata": {
    "id": "TZ0LEOAAC7LC"
   },
   "source": [
    "### Performance Analysis"
   ]
  },
  {
   "cell_type": "markdown",
   "metadata": {
    "id": "pZ5SAazHN6fN"
   },
   "source": [
    "#### Sequential"
   ]
  },
  {
   "cell_type": "code",
   "execution_count": null,
   "metadata": {
    "colab": {
     "base_uri": "https://localhost:8080/"
    },
    "id": "hB8BSqY2Iolq",
    "outputId": "b6a8afd9-cb24-45d3-b748-6fe9826c39b0"
   },
   "outputs": [
    {
     "name": "stdout",
     "output_type": "stream",
     "text": [
      "Number of images processed in sequence: 550\n",
      "Time taken for sequential processing: 12.176469564437866 seconds\n"
     ]
    }
   ],
   "source": [
    "import numpy as np\n",
    "from scipy.signal import convolve2d\n",
    "from PIL import Image\n",
    "import os\n",
    "import time\n",
    "\n",
    "def process_image(image_array):\n",
    "    def gaussian_kernel(size, sigma=1):\n",
    "        kernel_1D = np.linspace(-(size // 2), size // 2, size)\n",
    "        for i in range(size):\n",
    "            kernel_1D[i] = np.exp(-0.5 * (kernel_1D[i] / sigma) ** 2)\n",
    "        kernel_2D = np.outer(kernel_1D, kernel_1D)\n",
    "        kernel_2D /= kernel_2D.sum()\n",
    "        return kernel_2D\n",
    "\n",
    "    kernel_size = 5\n",
    "    gaussian_kernel_array = gaussian_kernel(kernel_size)\n",
    "    blurred_image = convolve2d(image_array, gaussian_kernel_array, mode='same', boundary='wrap')\n",
    "\n",
    "    return blurred_image\n",
    "\n",
    "directory = \"/content/drive/MyDrive/train/Cat\"\n",
    "num_images = 0\n",
    "start_time = time.time()\n",
    "\n",
    "image_paths = [os.path.join(directory, filename) for filename in os.listdir(directory) if filename.endswith(\".jpg\")]\n",
    "num_images = len(image_paths)\n",
    "\n",
    "for image_path in image_paths:\n",
    "    image_array = np.array(Image.open(image_path).convert(\"L\"))\n",
    "    image_blurred = process_image(image_array)\n",
    "\n",
    "total_time_sequential = time.time() - start_time\n",
    "\n",
    "print(\"Number of images processed in sequence:\", num_images)\n",
    "print(\"Time taken for sequential processing:\", total_time_sequential, \"seconds\")"
   ]
  },
  {
   "cell_type": "markdown",
   "metadata": {
    "id": "1p0mjfWyN8rA"
   },
   "source": [
    "#### Parallel\n",
    "\n"
   ]
  },
  {
   "cell_type": "code",
   "execution_count": null,
   "metadata": {
    "colab": {
     "base_uri": "https://localhost:8080/"
    },
    "id": "J5TolGcVJEuw",
    "outputId": "985b9e0c-ce9c-45f3-9c47-aa437e8522fd"
   },
   "outputs": [
    {
     "name": "stdout",
     "output_type": "stream",
     "text": [
      "Number of images processed in parallel: 550\n",
      "Time taken for parallel processing: 2.5575218200683594 seconds\n"
     ]
    }
   ],
   "source": [
    "import cupy as cp\n",
    "from PIL import Image\n",
    "import os\n",
    "import time\n",
    "\n",
    "def process_image(image_array):\n",
    "    def gaussian_kernel(size, sigma=1):\n",
    "        kernel_1D = cp.linspace(-(size // 2), size // 2, size)\n",
    "        for i in range(size):\n",
    "            kernel_1D[i] = cp.exp(-0.5 * (kernel_1D[i] / sigma) ** 2)\n",
    "        kernel_2D = cp.outer(kernel_1D, kernel_1D)\n",
    "        kernel_2D /= kernel_2D.sum()\n",
    "        return kernel_2D\n",
    "\n",
    "    kernel_size = 5\n",
    "    gaussian_kernel_array = gaussian_kernel(kernel_size)\n",
    "    blurred_image = cp.asarray(Image.fromarray(cp.asnumpy(image_array)).convert(\"L\"))\n",
    "\n",
    "    return blurred_image\n",
    "\n",
    "directory = \"/content/drive/MyDrive/train/Cat\"\n",
    "num_images = 0\n",
    "start_time = time.time()\n",
    "\n",
    "image_paths = [os.path.join(directory, filename) for filename in os.listdir(directory) if filename.endswith(\".jpg\")]\n",
    "image_arrays = [cp.array(Image.open(image_path).convert(\"L\")) for image_path in image_paths]\n",
    "processed_images = [process_image(image_array) for image_array in image_arrays]\n",
    "\n",
    "cp.cuda.Device().synchronize()\n",
    "\n",
    "total_time_parallel = time.time() - start_time\n",
    "num_images = len(image_paths)\n",
    "\n",
    "print(\"Number of images processed in parallel:\", num_images)\n",
    "print(\"Time taken for parallel processing:\", total_time_parallel, \"seconds\")"
   ]
  },
  {
   "cell_type": "markdown",
   "metadata": {
    "id": "qvpMJ3VvDC3x"
   },
   "source": [
    "## FFT - Fast Fourier Transform\n"
   ]
  },
  {
   "cell_type": "markdown",
   "metadata": {
    "id": "Fl8Cjup6DF4S"
   },
   "source": [
    "### Description\n",
    "The Fast Fourier Transform (FFT) is a widely used algorithm for efficiently computing the Discrete. It transforms a signal from its time or spatial domain into its frequency domain, revealing the frequency components present in the signal. FFT has numerous applications in signal processing, image processing, data compression, and more"
   ]
  },
  {
   "cell_type": "markdown",
   "metadata": {
    "id": "Y3h08zTWDI7h"
   },
   "source": [
    "### Parallelism Insertion\n",
    "1. Divide and Conquer: Divide the input data into smaller chunks and distribute them among multiple threads on the GPU.\n",
    "2. Utilize GPU-accelerated Libraries: Leverage GPU-accelerated libraries like CuPy, which provide efficient implementations of FFT algorithms optimized for GPU execution.\n",
    "3. Parallel Kernel Launch: Launch a CUDA kernel with multiple threads to perform parallel FFT computation on the GPU. Each thread processes a portion of the input data independently.\n",
    "4. Ensure Synchronization: Synchronize the GPU to ensure all threads have completed their FFT computations before proceeding to the next steps or accessing the results.\n",
    "5. Optimize Memory Usage: Optimize memory access patterns and data transfers between the CPU and GPU to minimize overhead and maximize throughput."
   ]
  },
  {
   "cell_type": "markdown",
   "metadata": {
    "id": "5LoehMsPDMmz"
   },
   "source": [
    "### Performance Analysis\n"
   ]
  },
  {
   "cell_type": "markdown",
   "metadata": {
    "id": "wfOTwshAFf21"
   },
   "source": [
    "#### Sequential"
   ]
  },
  {
   "cell_type": "code",
   "execution_count": null,
   "metadata": {
    "colab": {
     "base_uri": "https://localhost:8080/"
    },
    "id": "c5mNX9Ta7d3W",
    "outputId": "d54e0fce-d960-4917-d196-05b3626ceb2c"
   },
   "outputs": [
    {
     "name": "stdout",
     "output_type": "stream",
     "text": [
      "Number of images processed in sequence: 550\n",
      "Time taken for sequential processing: 17.599610805511475 seconds\n"
     ]
    }
   ],
   "source": [
    "import numpy as np\n",
    "import matplotlib.pyplot as plt\n",
    "from scipy import fftpack\n",
    "from PIL import Image\n",
    "import os\n",
    "import time\n",
    "directory = \"/content/drive/MyDrive/train/Cat\"\n",
    "num_images = 0\n",
    "start_time = time.time()\n",
    "\n",
    "for filename in os.listdir(directory):\n",
    "    if filename.endswith(\".jpg\"):\n",
    "        num_images += 1\n",
    "\n",
    "        image = Image.open(os.path.join(directory, filename)).convert(\"L\")\n",
    "        image_array = np.array(image)\n",
    "\n",
    "        fft_image = fftpack.fft2(image_array)\n",
    "        fft_image_shifted = fftpack.fftshift(fft_image)\n",
    "\n",
    "        rows, cols = image_array.shape\n",
    "        center_row, center_col = rows // 2, cols // 2\n",
    "        radius = 20\n",
    "        high_pass_filter = np.ones((rows, cols))\n",
    "        mask = np.zeros((rows, cols))\n",
    "        mask[center_row - radius:center_row + radius, center_col - radius:center_col + radius] = 1\n",
    "        high_pass_filter -= mask\n",
    "\n",
    "        filtered_image_fft = fft_image_shifted * high_pass_filter\n",
    "\n",
    "        filtered_image = np.abs(fftpack.ifft2(fftpack.ifftshift(filtered_image_fft)))\n",
    "\n",
    "total_time = time.time() - start_time\n",
    "\n",
    "print(\"Number of images processed in sequence:\", num_images)\n",
    "print(\"Time taken for sequential processing:\", total_time, \"seconds\")"
   ]
  },
  {
   "cell_type": "markdown",
   "metadata": {
    "id": "LdawqwoBFluy"
   },
   "source": [
    "#### Parallel"
   ]
  },
  {
   "cell_type": "code",
   "execution_count": null,
   "metadata": {
    "colab": {
     "base_uri": "https://localhost:8080/"
    },
    "id": "Cq9mA0B-_X3v",
    "outputId": "c4ecb453-f83b-4912-84b1-0a49fb5605e4"
   },
   "outputs": [
    {
     "name": "stdout",
     "output_type": "stream",
     "text": [
      "Number of images processed in parallel: 550\n",
      "Time taken for parallel processing: 3.021836996078491 seconds\n"
     ]
    }
   ],
   "source": [
    "import os\n",
    "import time\n",
    "import cupy as cp\n",
    "from PIL import Image\n",
    "\n",
    "directory = \"/content/drive/MyDrive/train/Cat\"\n",
    "\n",
    "num_images = 0\n",
    "start_time = time.time()\n",
    "\n",
    "def process_image(image_array):\n",
    "    global num_images\n",
    "    num_images += 1\n",
    "\n",
    "    fft_image = cp.fft.fft2(image_array)\n",
    "    fft_image_shifted = cp.fft.fftshift(fft_image)\n",
    "\n",
    "    rows, cols = image_array.shape\n",
    "    center_row, center_col = rows // 2, cols // 2\n",
    "    radius = 20\n",
    "    high_pass_filter = cp.ones((rows, cols))\n",
    "    mask = cp.zeros((rows, cols))\n",
    "    mask[center_row - radius:center_row + radius, center_col - radius:center_col + radius] = 1\n",
    "    high_pass_filter -= mask\n",
    "\n",
    "    filtered_image_fft = fft_image_shifted * high_pass_filter\n",
    "\n",
    "    filtered_image = cp.abs(cp.fft.ifft2(cp.fft.ifftshift(filtered_image_fft)))\n",
    "    return filtered_image\n",
    "\n",
    "image_paths = [os.path.join(directory, filename) for filename in os.listdir(directory) if filename.endswith(\".jpg\")]\n",
    "image_arrays = [cp.array(Image.open(image_path).convert(\"L\")) for image_path in image_paths]\n",
    "processed_images = [process_image(image_array) for image_array in image_arrays]\n",
    "\n",
    "cp.cuda.Device().synchronize()\n",
    "\n",
    "total_time_parallel = time.time() - start_time\n",
    "\n",
    "print(\"Number of images processed in parallel:\", num_images)\n",
    "print(\"Time taken for parallel processing:\", total_time_parallel, \"seconds\")"
   ]
  }
 ],
 "metadata": {
  "accelerator": "GPU",
  "colab": {
   "gpuType": "T4",
   "provenance": []
  },
  "kernelspec": {
   "display_name": "Python 3 (ipykernel)",
   "language": "python",
   "name": "python3"
  },
  "language_info": {
   "codemirror_mode": {
    "name": "ipython",
    "version": 3
   },
   "file_extension": ".py",
   "mimetype": "text/x-python",
   "name": "python",
   "nbconvert_exporter": "python",
   "pygments_lexer": "ipython3",
   "version": "3.11.8"
  }
 },
 "nbformat": 4,
 "nbformat_minor": 4
}

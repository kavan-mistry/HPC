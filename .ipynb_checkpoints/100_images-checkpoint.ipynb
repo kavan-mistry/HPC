{
 "cells": [
  {
   "cell_type": "code",
   "execution_count": 3,
   "id": "512dc699",
   "metadata": {},
   "outputs": [
    {
     "name": "stdout",
     "output_type": "stream",
     "text": [
      "Number of images: 100\n",
      "Serial Denoising:\n",
      "Time taken for serial denoising: 36.55 seconds\n",
      "Parallel Denoising:\n",
      "Time taken for parallel denoising: 36.44 seconds\n"
     ]
    }
   ],
   "source": [
    "import os\n",
    "import cv2\n",
    "import numpy as np\n",
    "import time\n",
    "from mpi4py import MPI\n",
    "\n",
    "def add_noise(image):\n",
    "    noisy_image = image + np.random.normal(loc=0, scale=10, size=image.shape)\n",
    "    return np.clip(noisy_image, 0, 255).astype(np.uint8)\n",
    "\n",
    "def denoise(image):\n",
    "    denoised_image = cv2.fastNlMeansDenoisingColored(image, None, 10, 10, 7, 21)\n",
    "    return denoised_image\n",
    "\n",
    "def denoise_images(images, output_folder, rank=None):\n",
    "    start_time = time.time()\n",
    "    noisy_output_folder = os.path.join(output_folder, \"noisy\")\n",
    "    denoised_output_folder = os.path.join(output_folder, \"denoised\")\n",
    "    os.makedirs(noisy_output_folder, exist_ok=True)\n",
    "    os.makedirs(denoised_output_folder, exist_ok=True)\n",
    "    for i, image in enumerate(images):\n",
    "        if image is None:\n",
    "            print(f\"Warning: Image {i} could not be loaded. Skipping.\")\n",
    "            continue\n",
    "        noisy_image = add_noise(image)\n",
    "        denoised_image = denoise(noisy_image)\n",
    "        if rank is None or rank == 0:\n",
    "            cv2.imwrite(os.path.join(noisy_output_folder, f\"noisy_image_{i}.jpg\"), noisy_image)\n",
    "            cv2.imwrite(os.path.join(denoised_output_folder, f\"denoised_image_{i}.jpg\"), denoised_image)\n",
    "    end_time = time.time()\n",
    "    return end_time - start_time\n",
    "\n",
    "def main():\n",
    "    comm = MPI.COMM_WORLD\n",
    "    rank = comm.Get_rank()\n",
    "    size = comm.Get_size()\n",
    "\n",
    "    folder_path = \"D:/code/HPC/Assingment/Assignment6/image/formula_1_racing\"\n",
    "    output_folder = os.path.join(folder_path, \"output1\")\n",
    "    image_files = os.listdir(folder_path)\n",
    "    images = [cv2.imread(os.path.join(folder_path, file)) for file in image_files]\n",
    "\n",
    "    if rank == 0:\n",
    "        print(f\"Number of images: {len(images)}\")\n",
    "\n",
    "    # Serial denoising\n",
    "    if rank == 0:\n",
    "        print(\"Serial Denoising:\")\n",
    "    comm.Barrier()  \n",
    "    serial_time = denoise_images(images, output_folder, rank)\n",
    "    if rank == 0:\n",
    "        print(f\"Time taken for serial denoising: {serial_time:.2f} seconds\")\n",
    "\n",
    "    # Parallel denoising\n",
    "    if rank == 0:\n",
    "        print(\"Parallel Denoising:\")\n",
    "    comm.Barrier()  \n",
    "    num_images_per_process = len(images) // size\n",
    "    start_index = rank * num_images_per_process\n",
    "    end_index = start_index + num_images_per_process\n",
    "    parallel_time = denoise_images(images[start_index:end_index], output_folder, rank)\n",
    "    max_parallel_time = comm.reduce(parallel_time, op=MPI.MAX, root=0)\n",
    "    if rank == 0:\n",
    "        print(f\"Time taken for parallel denoising: {max_parallel_time:.2f} seconds\")\n",
    "\n",
    "if __name__ == \"__main__\":\n",
    "    main()"
   ]
  }
 ],
 "metadata": {
  "kernelspec": {
   "display_name": "Python 3 (ipykernel)",
   "language": "python",
   "name": "python3"
  },
  "language_info": {
   "codemirror_mode": {
    "name": "ipython",
    "version": 3
   },
   "file_extension": ".py",
   "mimetype": "text/x-python",
   "name": "python",
   "nbconvert_exporter": "python",
   "pygments_lexer": "ipython3",
   "version": "3.11.5"
  }
 },
 "nbformat": 4,
 "nbformat_minor": 5
}

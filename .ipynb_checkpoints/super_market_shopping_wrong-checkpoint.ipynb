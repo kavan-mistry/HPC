{
 "cells": [
  {
   "cell_type": "markdown",
   "id": "e4aa6e5e-c384-4ffb-81c6-702277dca0e1",
   "metadata": {},
   "source": [
    "# Assignment 5"
   ]
  },
  {
   "cell_type": "markdown",
   "id": "fb18d4ef-ca8a-4f97-b966-8c783f1ff010",
   "metadata": {},
   "source": [
    "Consider a scenario where a person visits a supermarket for shopping. S/He purchases various items in different sections such as clothing, grocery, utensils. Write an OpenMP program to process the bill parallelly in each section and display the final amount to be paid by the customer.\n",
    "Analyze the time take by sequential and parallel processing."
   ]
  },
  {
   "cell_type": "code",
   "execution_count": 1,
   "id": "1b09babb-f24e-4c1f-8cc2-aa81b613d4f1",
   "metadata": {},
   "outputs": [],
   "source": [
    "import multiprocessing\n",
    "import time"
   ]
  },
  {
   "cell_type": "code",
   "execution_count": 2,
   "id": "6aceaf37-88a2-485e-9e55-fe94ac5bc5c0",
   "metadata": {},
   "outputs": [],
   "source": [
    "def process_section(section, items, result_queue):\n",
    "    total_cost = sum(items.values())\n",
    "    result_queue.put((section, total_cost))\n",
    "\n",
    "def sequential_shopping(items):\n",
    "    total_cost = sum(items.values())\n",
    "    return total_cost"
   ]
  },
  {
   "cell_type": "code",
   "execution_count": null,
   "id": "1b763583-8097-42e7-aec7-0e42fb341dcf",
   "metadata": {},
   "outputs": [
    {
     "name": "stdout",
     "output_type": "stream",
     "text": [
      "Sequential processing: Total cost = 186.00, Time taken = 0.000000 seconds\n"
     ]
    }
   ],
   "source": [
    "def main():\n",
    "    sections = [\"Clothing\", \"Grocery\", \"Utensils\"]\n",
    "    items_per_section = {\n",
    "        \"Clothing\": {\"Shirt\": 20, \"Pants\": 30, \"Shoes\": 50},\n",
    "        \"Grocery\": {\"Milk\": 2, \"Bread\": 3, \"Eggs\": 1},\n",
    "        \"Utensils\": {\"Plates\": 15, \"Pots\": 25, \"Utensil Set\": 40}\n",
    "    }\n",
    "\n",
    "    # Sequential processing\n",
    "    start_time = time.time()\n",
    "    total_cost_sequential = sequential_shopping({item: cost for section_items in items_per_section.values() for item, cost in section_items.items()})\n",
    "    sequential_time = time.time() - start_time\n",
    "\n",
    "    print(f\"Sequential processing: Total cost = {total_cost_sequential:.2f}, Time taken = {sequential_time:.6f} seconds\")\n",
    "\n",
    "    # Parallel processing\n",
    "    result_queue = multiprocessing.Manager().Queue()\n",
    "    processes = []\n",
    "\n",
    "    start_time = time.time()\n",
    "\n",
    "    with multiprocessing.Pool(processes=len(sections)) as pool:\n",
    "        for section in sections:\n",
    "            items = items_per_section[section]\n",
    "            processes.append(pool.apply_async(process_section, (section, items, result_queue)))\n",
    "\n",
    "        for process in processes:\n",
    "            process.get()\n",
    "\n",
    "    parallel_time = time.time() - start_time\n",
    "\n",
    "    # Collect results from the queue\n",
    "    results = [result_queue.get() for _ in range(len(sections))]\n",
    "    total_cost_parallel = sum(result[1] for result in results)\n",
    "\n",
    "    print(f\"Parallel processing: Total cost = {total_cost_parallel:.2f}, Time taken = {parallel_time:.6f} seconds\")\n",
    "\n",
    "if __name__ == \"__main__\":\n",
    "    main()"
   ]
  },
  {
   "cell_type": "code",
   "execution_count": null,
   "id": "06152421-64a3-4a42-b8ba-b5376e20676e",
   "metadata": {},
   "outputs": [],
   "source": []
  },
  {
   "cell_type": "code",
   "execution_count": null,
   "id": "9b4b69ae-888a-4d93-b227-e16a8a5bfa52",
   "metadata": {},
   "outputs": [],
   "source": []
  },
  {
   "cell_type": "code",
   "execution_count": 1,
   "id": "6d00a286-5147-476b-a51b-70328c867942",
   "metadata": {},
   "outputs": [],
   "source": [
    "import numpy as np\n",
    "import time\n",
    "from numba import njit, prange"
   ]
  },
  {
   "cell_type": "code",
   "execution_count": 2,
   "id": "7bc36cec-8ef1-4856-8e4f-ee1adc4ce426",
   "metadata": {},
   "outputs": [],
   "source": [
    "n_sections = 3\n",
    "n_items = 1000\n",
    "\n",
    "# Define the prices of the items in each section as random numbers\n",
    "prices = np.random.rand(n_sections, n_items)\n",
    "\n",
    "# Define the quantities of the items purchased by the customer in each section as random integers\n",
    "quantities = np.random.randint(1, 10, size=(n_sections, n_items))\n"
   ]
  },
  {
   "cell_type": "code",
   "execution_count": 3,
   "id": "9f98cc37-aba3-4a6c-a931-03fd8c68a7e3",
   "metadata": {},
   "outputs": [],
   "source": [
    "def process_bill_seq(prices, quantities):\n",
    "    # Initialize the total amount to zero\n",
    "    total = 0\n",
    "    # Loop over the sections\n",
    "    for i in range(n_sections):\n",
    "        # Loop over the items in each section\n",
    "        for j in range(n_items):\n",
    "            # Add the product of price and quantity to the total amount\n",
    "            total += prices[i, j] * quantities[i, j]\n",
    "    # Return the total amount\n",
    "    return total"
   ]
  },
  {
   "cell_type": "code",
   "execution_count": 9,
   "id": "3918d8bb-0bf3-4240-a9c2-3d7ec7d50a39",
   "metadata": {},
   "outputs": [
    {
     "ename": "SyntaxError",
     "evalue": "incomplete input (2661379419.py, line 1)",
     "output_type": "error",
     "traceback": [
      "\u001b[1;36m  Cell \u001b[1;32mIn[9], line 1\u001b[1;36m\u001b[0m\n\u001b[1;33m    @njit(parallel=True)\u001b[0m\n\u001b[1;37m                        ^\u001b[0m\n\u001b[1;31mSyntaxError\u001b[0m\u001b[1;31m:\u001b[0m incomplete input\n"
     ]
    }
   ],
   "source": [
    "@njit(parallel=True)"
   ]
  },
  {
   "cell_type": "code",
   "execution_count": 6,
   "id": "052611ff-66c7-4271-b07d-07db2f7f8451",
   "metadata": {},
   "outputs": [],
   "source": [
    "def process_bill_par(prices, quantities):\n",
    "    # Initialize the total amount to zero\n",
    "    total = 0\n",
    "    # Loop over the sections in parallel using prange\n",
    "    for i in prange(n_sections):\n",
    "        # Loop over the items in each section\n",
    "        for j in range(n_items):\n",
    "            # Add the product of price and quantity to the total amount\n",
    "            total += prices[i, j] * quantities[i, j]\n",
    "    # Return the total amount\n",
    "    return total"
   ]
  },
  {
   "cell_type": "code",
   "execution_count": 7,
   "id": "ac1ba0fd-9fc7-4969-8817-583239cb0b4d",
   "metadata": {},
   "outputs": [],
   "source": [
    "start_seq = time.time()\n",
    "total_seq = process_bill_seq(prices, quantities)\n",
    "end_seq = time.time()\n",
    "time_seq = end_seq - start_seq\n",
    "\n",
    "# Measure the time taken by the parallel function\n",
    "start_par = time.time()\n",
    "total_par = process_bill_par(prices, quantities)\n",
    "end_par = time.time()\n",
    "time_par = end_par - start_par"
   ]
  },
  {
   "cell_type": "code",
   "execution_count": 8,
   "id": "514fb41d-0700-403b-b060-552fc53ac47e",
   "metadata": {},
   "outputs": [
    {
     "name": "stdout",
     "output_type": "stream",
     "text": [
      "The total amount to be paid by the customer is 7520.10\n",
      "The sequential function took 0.0010 seconds\n",
      "The parallel function took 0.0015 seconds\n",
      "The speedup achieved by parallelization is 0.67\n"
     ]
    }
   ],
   "source": [
    "print(f\"The total amount to be paid by the customer is {total_seq:.2f}\")\n",
    "print(f\"The sequential function took {time_seq:.4f} seconds\")\n",
    "print(f\"The parallel function took {time_par:.4f} seconds\")\n",
    "print(f\"The speedup achieved by parallelization is {time_seq / time_par:.2f}\")"
   ]
  }
 ],
 "metadata": {
  "kernelspec": {
   "display_name": "Python 3 (ipykernel)",
   "language": "python",
   "name": "python3"
  },
  "language_info": {
   "codemirror_mode": {
    "name": "ipython",
    "version": 3
   },
   "file_extension": ".py",
   "mimetype": "text/x-python",
   "name": "python",
   "nbconvert_exporter": "python",
   "pygments_lexer": "ipython3",
   "version": "3.11.5"
  }
 },
 "nbformat": 4,
 "nbformat_minor": 5
}

{
 "cells": [
  {
   "cell_type": "markdown",
   "metadata": {
    "id": "PP2XIZLahla8"
   },
   "source": [
    "# Assignment 5"
   ]
  },
  {
   "cell_type": "markdown",
   "metadata": {
    "id": "yJPJ3x1lhsk1"
   },
   "source": [
    "**Consider a scenario where a person visits a supermarket for shopping. S/He purchases various items in different sections such as clothing, grocery, utensils. Write an OpenMP program to process the bill parallelly in each section and display the final amount to be paid by the customer.**"
   ]
  },
  {
   "cell_type": "markdown",
   "metadata": {
    "id": "ihjGDfnYh1fc"
   },
   "source": [
    "**Analyze the time take by sequential and parallel processing.**"
   ]
  },
  {
   "cell_type": "code",
   "execution_count": 2,
   "metadata": {
    "id": "JA_WITDtiLmN"
   },
   "outputs": [],
   "source": [
    "import numpy as np\n",
    "import pandas as pd\n",
    "import matplotlib.pyplot as plt\n",
    "import seaborn as sns\n",
    "import threading\n",
    "import time"
   ]
  },
  {
   "cell_type": "code",
   "execution_count": 3,
   "metadata": {},
   "outputs": [],
   "source": [
    "class ProcessingThread(threading.Thread):\n",
    "    def __init__(self, processing_function, num_items):\n",
    "        super().__init__()\n",
    "        self.processing_function = processing_function\n",
    "        self.num_items = num_items\n",
    "        self.results = []\n",
    "\n",
    "    def run(self):\n",
    "        for _ in range(self.num_items):\n",
    "            result = self.processing_function()\n",
    "            self.results.append(result)"
   ]
  },
  {
   "cell_type": "code",
   "execution_count": 4,
   "metadata": {},
   "outputs": [],
   "source": [
    "def process_clothing():\n",
    "    print(\"Processing clothing item...\")\n",
    "    time.sleep(0.2)  # Simulating processing time\n",
    "    return 30  # Cost of each clothing item"
   ]
  },
  {
   "cell_type": "code",
   "execution_count": 7,
   "metadata": {},
   "outputs": [],
   "source": [
    "def process_grocery():\n",
    "    print(\"Processing grocery item...\")\n",
    "    time.sleep(0.2)  # Simulating processing time\n",
    "    return 25  # Cost of each grocery item"
   ]
  },
  {
   "cell_type": "code",
   "execution_count": 6,
   "metadata": {},
   "outputs": [],
   "source": [
    "def process_utensils():\n",
    "    print(\"Processing utensils item...\")\n",
    "    time.sleep(0.2)  # Simulating processing time\n",
    "    return 15  # Cost of each utensils item"
   ]
  },
  {
   "cell_type": "code",
   "execution_count": 12,
   "metadata": {
    "colab": {
     "base_uri": "https://localhost:8080/",
     "height": 1000
    },
    "id": "MFP6FPjwiJxF",
    "outputId": "e5e8ed9a-7b65-433b-8bb8-3ca397fac778"
   },
   "outputs": [
    {
     "name": "stdout",
     "output_type": "stream",
     "text": [
      "Processing clothing item...\n",
      "Processing clothing item...\n",
      "Processing clothing item...\n",
      "Processing clothing item...\n",
      "Processing clothing item...\n",
      "Processing clothing item...\n",
      "Processing clothing item...\n",
      "Processing clothing item...\n",
      "Processing clothing item...\n",
      "Processing clothing item...\n",
      "Processing grocery item...\n",
      "Processing grocery item...\n",
      "Processing grocery item...\n",
      "Processing grocery item...\n",
      "Processing grocery item...\n",
      "Processing grocery item...\n",
      "Processing grocery item...\n",
      "Processing grocery item...\n",
      "Processing grocery item...\n",
      "Processing grocery item...\n",
      "Processing utensils item...\n",
      "Processing utensils item...\n",
      "Processing utensils item...\n",
      "Processing utensils item...\n",
      "Processing utensils item...\n",
      "Processing utensils item...\n",
      "Processing utensils item...\n",
      "Processing utensils item...\n",
      "Processing utensils item...\n",
      "Processing utensils item...\n",
      "Total amount to be paid (Sequential): $700.00\n",
      "Time taken (Sequential): 6.01 seconds\n",
      "\n",
      "Processing clothing item...\n",
      "Processing grocery item...\n",
      "Processing utensils item...\n",
      "Processing clothing item...\n",
      "Processing grocery item...\n",
      "Processing utensils item...\n",
      "Processing clothing item...\n",
      "Processing utensils item...\n",
      "Processing grocery item...\n",
      "Processing clothing item...\n",
      "Processing utensils item...\n",
      "Processing grocery item...\n",
      "Processing clothing item...\n",
      "Processing utensils item...\n",
      "Processing grocery item...\n",
      "Processing clothing item...\n",
      "Processing utensils item...\n",
      "Processing grocery item...\n",
      "Processing clothing item...\n",
      "Processing utensils item...\n",
      "Processing grocery item...\n",
      "Processing clothing item...\n",
      "Processing utensils item...\n",
      "Processing grocery item...\n",
      "Processing clothing item...\n",
      "Processing utensils item...\n",
      "Processing grocery item...\n",
      "Processing clothing item...\n",
      "Processing grocery item...\n",
      "Processing utensils item...\n",
      "Total amount to be paid (Parallel): $700.00\n",
      "Time taken (Parallel): 2.01 seconds\n"
     ]
    },
    {
     "data": {
      "image/png": "[encoded data removed]",
      "text/plain": [
       "<Figure size 640x480 with 1 Axes>"
      ]
     },
     "metadata": {},
     "output_type": "display_data"
    }
   ],
   "source": [
    "\n",
    "if __name__ == \"__main__\":\n",
    "    # Sequential Processing\n",
    "    start_time = time.time()\n",
    "\n",
    "    clothing_cost = sum(process_clothing() for _ in range(10))\n",
    "    grocery_cost = sum(process_grocery() for _ in range(10))\n",
    "    utensils_cost = sum(process_utensils() for _ in range(10))\n",
    "\n",
    "    total_cost = clothing_cost + grocery_cost + utensils_cost\n",
    "    sequential_time = time.time() - start_time\n",
    "    print(f\"Total amount to be paid (Sequential): ${total_cost:.2f}\")\n",
    "    print(f\"Time taken (Sequential): {sequential_time:.2f} seconds\\n\")\n",
    "\n",
    "    # Parallel Processing\n",
    "    start_time = time.time()\n",
    "\n",
    "    # Create threads for parallel processing\n",
    "    num_items = 10\n",
    "    threads = [\n",
    "        ProcessingThread(process_clothing, num_items),\n",
    "        ProcessingThread(process_grocery, num_items),\n",
    "        ProcessingThread(process_utensils, num_items)\n",
    "    ]\n",
    "\n",
    "    # Start threads\n",
    "    for thread in threads:\n",
    "        thread.start()\n",
    "\n",
    "    # Wait for all threads to finish\n",
    "    for thread in threads:\n",
    "        thread.join()\n",
    "\n",
    "    # Calculate total cost\n",
    "    total_cost_parallel = sum(sum(thread.results) for thread in threads)\n",
    "    parallel_time = time.time() - start_time\n",
    "    print(f\"Total amount to be paid (Parallel): ${total_cost_parallel:.2f}\")\n",
    "    print(f\"Time taken (Parallel): {parallel_time:.2f} seconds\")\n",
    "\n",
    "    # Plotting\n",
    "    labels = ['Sequential', 'Parallel']\n",
    "    times = [sequential_time, parallel_time]\n",
    "\n",
    "    plt.bar(labels, times, color=['blue', 'orange'])\n",
    "    plt.ylabel('Time (seconds)')\n",
    "    plt.title('Sequential vs Parallel Processing Time Comparison')\n",
    "    plt.show()\n"
   ]
  },
  {
   "cell_type": "markdown",
   "metadata": {
    "id": "zOY9tz8ThiZE"
   },
   "source": [
    "From the graph we can say that sequential processing will take almost thrice the time taken as compared to parallel , since each process is done on different different thread the time taken is less in case of parallel processing."
   ]
  }
 ],
 "metadata": {
  "colab": {
   "provenance": []
  },
  "kernelspec": {
   "display_name": "Python 3 (ipykernel)",
   "language": "python",
   "name": "python3"
  },
  "language_info": {
   "codemirror_mode": {
    "name": "ipython",
    "version": 3
   },
   "file_extension": ".py",
   "mimetype": "text/x-python",
   "name": "python",
   "nbconvert_exporter": "python",
   "pygments_lexer": "ipython3",
   "version": "3.11.5"
  }
 },
 "nbformat": 4,
 "nbformat_minor": 1
}

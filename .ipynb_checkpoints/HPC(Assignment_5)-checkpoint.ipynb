{
  "nbformat": 4,
  "nbformat_minor": 0,
  "metadata": {
    "colab": {
      "provenance": []
    },
    "kernelspec": {
      "name": "python3",
      "display_name": "Python 3"
    },
    "language_info": {
      "name": "python"
    }
  },
  "cells": [
    {
      "cell_type": "markdown",
      "source": [
        "# Assignment 5"
      ],
      "metadata": {
        "id": "PP2XIZLahla8"
      }
    },
    {
      "cell_type": "markdown",
      "source": [
        "**Consider a scenario where a person visits a supermarket for shopping. S/He purchases various items in different sections such as clothing, grocery, utensils. Write an OpenMP program to process the bill parallelly in each section and display the final amount to be paid by the customer.**"
      ],
      "metadata": {
        "id": "yJPJ3x1lhsk1"
      }
    },
    {
      "cell_type": "code",
      "source": [
        "import numpy as np\n",
        "import pandas as pd\n",
        "import matplotlib.pyplot as plt\n",
        "import seaborn as sns"
      ],
      "metadata": {
        "id": "JA_WITDtiLmN"
      },
      "execution_count": 2,
      "outputs": []
    },
    {
      "cell_type": "code",
      "source": [
        "import threading\n",
        "import time\n",
        "\n",
        "class ShoppingCart_Parallel:\n",
        "    def __init__(self):\n",
        "        self.purchase_data = {}\n",
        "\n",
        "    def purchase_items(self, section, items):\n",
        "        section_data = {}\n",
        "        for item in items:\n",
        "            print(f\"Adding {item} to the cart\")\n",
        "            time.sleep(1)  # Simulate some processing time for each item\n",
        "            section_data[item] = 1  # Assume a unit price of 1 for simplicity\n",
        "        print(f\"Finished shopping in {section} section.\")\n",
        "        return section_data\n",
        "\n",
        "def main():\n",
        "    # Define items in each section\n",
        "    clothing_items = [\"Item 1\", \"Item 2\", \"Item 3\"]\n",
        "    grocery_items = [\"Item 1\", \"Item 2\", \"Item 3\"]\n",
        "    utensils_items = [\"Item 1\", \"Item 2\", \"Item 3\"]\n",
        "\n",
        "    # Create a shopping cart\n",
        "    cart = ShoppingCart_Parallel()  # Fix the class name here\n",
        "\n",
        "    # Create threads for each section\n",
        "    clothing_thread = threading.Thread(target=lambda: setattr(cart, 'clothing_data', cart.purchase_items(\"Clothing\", clothing_items)))\n",
        "    grocery_thread = threading.Thread(target=lambda: setattr(cart, 'grocery_data', cart.purchase_items(\"Grocery\", grocery_items)))\n",
        "    utensils_thread = threading.Thread(target=lambda: setattr(cart, 'utensils_data', cart.purchase_items(\"Utensils\", utensils_items)))\n",
        "\n",
        "    # Record start time\n",
        "    start_time = time.time()\n",
        "\n",
        "    # Start the threads\n",
        "    clothing_thread.start()\n",
        "    grocery_thread.start()\n",
        "    utensils_thread.start()\n",
        "\n",
        "    # Wait for all threads to finish\n",
        "    clothing_thread.join()\n",
        "    grocery_thread.join()\n",
        "    utensils_thread.join()\n",
        "\n",
        "    # Combine the results\n",
        "    cart.purchase_data.update(cart.clothing_data)\n",
        "    cart.purchase_data.update(cart.grocery_data)\n",
        "    cart.purchase_data.update(cart.utensils_data)\n",
        "\n",
        "    # Record end time\n",
        "    end_time = time.time()\n",
        "    Parallel_time = end_time - start_time\n",
        "    # Display the time taken for parallel processing\n",
        "    print(f\"\\nTime taken for parallel processing: {Parallel_time:.2f} seconds\")\n",
        "\n",
        "if __name__ == \"__main__\":\n",
        "    main()\n"
      ],
      "metadata": {
        "colab": {
          "base_uri": "https://localhost:8080/"
        },
        "id": "MFP6FPjwiJxF",
        "outputId": "3901d6b9-5767-42da-8c2c-63c1e31f77a3"
      },
      "execution_count": 39,
      "outputs": [
        {
          "output_type": "stream",
          "name": "stdout",
          "text": [
            "Adding Item 1 to the cart\n",
            "Adding Item 1 to the cart\n",
            "Adding Item 1 to the cart\n",
            "Adding Item 2 to the cart\n",
            "Adding Item 2 to the cart\n",
            "Adding Item 2 to the cart\n",
            "Adding Item 3 to the cart\n",
            "Adding Item 3 to the cart\n",
            "Adding Item 3 to the cart\n",
            "Finished shopping in Clothing section.\n",
            "Finished shopping in Utensils section.\n",
            "Finished shopping in Grocery section.\n",
            "\n",
            "Time taken for parallel processing: 3.01 seconds\n"
          ]
        }
      ]
    },
    {
      "cell_type": "code",
      "source": [
        "class ShoppingCart_Sequential:\n",
        "    def __init__(self):\n",
        "        pass\n",
        "\n",
        "    def purchase_items(self, section, items):\n",
        "        for item in items:\n",
        "            print(f\"Adding {item} to the cart\")\n",
        "            time.sleep(1)  # Simulate some processing time for each item\n",
        "        print(f\"Finished shopping in {section} section.\")\n",
        "\n",
        "def main():\n",
        "    # Define items in each section\n",
        "    clothing_items = [\"Item 1\", \"Item 2\", \"Item 3\"]\n",
        "    grocery_items = [\"Item 1\", \"Item 2\", \"Item 3\"]\n",
        "    utensils_items = [\"Item 1\", \"Item 2\", \"Item 3\"]\n",
        "\n",
        "    # Create a shopping cart\n",
        "    cart = ShoppingCart()\n",
        "\n",
        "    # Record start time\n",
        "    start_time = time.time()\n",
        "\n",
        "    # Shop sequentially in all three sections\n",
        "    cart.purchase_items(\"Clothing\", clothing_items)\n",
        "    cart.purchase_items(\"Grocery\", grocery_items)\n",
        "    cart.purchase_items(\"Utensils\", utensils_items)\n",
        "\n",
        "    # Record end time\n",
        "    end_time = time.time()\n",
        "    Sequential_time=end_time - start_time\n",
        "    # Display the time taken for sequential processing\n",
        "    print(f\"\\nTime taken for sequential processing: {end_time - start_time:.2f} seconds\")\n",
        "\n",
        "if __name__ == \"__main__\":\n",
        "    main()"
      ],
      "metadata": {
        "colab": {
          "base_uri": "https://localhost:8080/"
        },
        "id": "2wYDgVk1iwQX",
        "outputId": "99ab43c9-8a48-4bc0-fa66-e8d3f3a71278"
      },
      "execution_count": 36,
      "outputs": [
        {
          "output_type": "stream",
          "name": "stdout",
          "text": [
            "Customer is shopping in Clothing section...\n",
            "Adding Item 1 to the cart\n",
            "Adding Item 2 to the cart\n",
            "Adding Item 3 to the cart\n",
            "Finished shopping in Clothing section.\n",
            "Customer is shopping in Grocery section...\n",
            "Adding Item 1 to the cart\n",
            "Adding Item 2 to the cart\n",
            "Adding Item 3 to the cart\n",
            "Finished shopping in Grocery section.\n",
            "Customer is shopping in Utensils section...\n",
            "Adding Item 1 to the cart\n",
            "Adding Item 2 to the cart\n",
            "Adding Item 3 to the cart\n",
            "Finished shopping in Utensils section.\n",
            "\n",
            "Time taken for sequential processing: 9.02 seconds\n"
          ]
        }
      ]
    },
    {
      "cell_type": "markdown",
      "source": [
        "**Analyze the time take by sequential and parallel processing.**"
      ],
      "metadata": {
        "id": "ihjGDfnYh1fc"
      }
    },
    {
      "cell_type": "code",
      "source": [],
      "metadata": {
        "id": "eam7XfUNnTD6"
      },
      "execution_count": null,
      "outputs": []
    }
  ]
}
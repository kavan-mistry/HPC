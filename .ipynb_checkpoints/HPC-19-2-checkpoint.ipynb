{
 "cells": [
  {
   "cell_type": "markdown",
   "id": "8b335ee2",
   "metadata": {},
   "source": [
    "# Assignment 11 (Canon's Matrix Multiplication)"
   ]
  },
  {
   "cell_type": "markdown",
   "id": "b3555673",
   "metadata": {},
   "source": [
    "1. Describe Canon's Matrix Multiplication algorithm.\n",
    "\n",
    "A.\n",
    "    Cannon's algorithm is a distributed matrix multiplication algorithm that works particularly well with two-dimensional meshes. Lynn Elliot Cannon described it for the first time in 1969.\n",
    "\n",
    "        Algorithm Overview:\n",
    "\n",
    "        * When multiplying two n × n matrices A and B, we need n × n processing nodes \n",
    "        arranged in a 2D.\n",
    "        * Each processing node (PE) performs the following steps:\n",
    "        1. Initialize: k = (i + j) mod n (to ensure different processors access distinct data).\n",
    "        2. Compute: c[i][j] += a[i][k] × b[k][j] concurrently.\n",
    "        3. Communicate:\n",
    "            * Send a to PE (i, (j + N − 1) mod n).\n",
    "            * Send b to PE ((i + N − 1) mod n, j).\n",
    "            * Receive a’ from PE (i, (j + 1) mod n).\n",
    "            * Receive b’ from PE ((i + 1) mod n, j).\n",
    "        4. Update: a = a’ and b = b’.\n",
    "\n",
    "        * Repeat the above steps for n iterations, ensuring that each processor accesses \n",
    "        different matrix elements.\n",
    "        * The storage requirements remain constant and independent of the number of processors.\n",
    "\n",
    "2. Implement Canon's Matrix Multiplication using collective communication.\n",
    "3. Analyze the efficiency of the code."
   ]
  },
  {
   "cell_type": "code",
   "execution_count": 1,
   "id": "0a5ac2bb",
   "metadata": {},
   "outputs": [],
   "source": [
    "from mpi4py import MPI\n",
    "import numpy as np"
   ]
  },
  {
   "cell_type": "code",
   "execution_count": 2,
   "id": "3cdaa82b",
   "metadata": {},
   "outputs": [],
   "source": [
    "comm = MPI.COMM_WORLD\n",
    "rank = comm.Get_rank()\n",
    "size = comm.Get_size()"
   ]
  },
  {
   "cell_type": "code",
   "execution_count": 3,
   "id": "931e7c90",
   "metadata": {},
   "outputs": [],
   "source": [
    "import time\n",
    "import matplotlib.pyplot as plt"
   ]
  },
  {
   "cell_type": "code",
   "execution_count": 4,
   "id": "5f15f641",
   "metadata": {},
   "outputs": [],
   "source": [
    "N = 2000"
   ]
  },
  {
   "cell_type": "code",
   "execution_count": 5,
   "id": "eb2f7073",
   "metadata": {},
   "outputs": [
    {
     "name": "stdout",
     "output_type": "stream",
     "text": [
      "Rank 0: Starting execution\n",
      "Rank 0: Generating matrices A and B\n",
      "Rank 0: Matrices A and B generated\n",
      "Rank 0: Broadcasting matrices A and B\n"
     ]
    }
   ],
   "source": [
    "if N % size != 0:\n",
    "    raise ValueError(\"Matrix size N must be divisible by the number of processes (size)\")\n",
    "\n",
    "block_size = N // size  \n",
    "\n",
    "print(f\"Rank {rank}: Starting execution\")\n",
    "\n",
    "if rank == 0:\n",
    "    print(f\"Rank {rank}: Generating matrices A and B\")\n",
    "    A = np.random.randint(0, 10, (N, N))\n",
    "    B = np.random.randint(0, 10, (N, N))\n",
    "    print(f\"Rank {rank}: Matrices A and B generated\")\n",
    "else:\n",
    "    A = None\n",
    "    B = None\n",
    "\n",
    "print(f\"Rank {rank}: Broadcasting matrices A and B\")"
   ]
  },
  {
   "cell_type": "code",
   "execution_count": 6,
   "id": "b51d06d6",
   "metadata": {},
   "outputs": [
    {
     "name": "stdout",
     "output_type": "stream",
     "text": [
      "Rank 0: Matrices A and B broadcasted\n"
     ]
    }
   ],
   "source": [
    "start_time = time.time()\n",
    "A = comm.bcast(A, root=0)\n",
    "B = comm.bcast(B, root=0)\n",
    "end_time = time.time()\n",
    "print(f\"Rank {rank}: Matrices A and B broadcasted\")"
   ]
  },
  {
   "cell_type": "code",
   "execution_count": 7,
   "id": "8c56bd3e",
   "metadata": {},
   "outputs": [
    {
     "name": "stdout",
     "output_type": "stream",
     "text": [
      "Resultant Matrix C:\n",
      "[[40747 41349 41354 ... 41260 41169 39328]\n",
      " [39955 41279 41428 ... 40482 42471 40155]\n",
      " [40196 41163 40919 ... 40635 39846 39888]\n",
      " ...\n",
      " [40674 41117 40256 ... 40439 39831 39460]\n",
      " [39447 40800 40591 ... 40467 40723 40124]\n",
      " [40330 40734 40834 ... 41727 41303 40117]]\n",
      "Broadcasting time: 0.039728403091430664 seconds\n",
      "Matrix multiplication time: 20.929131031036377 seconds\n"
     ]
    }
   ],
   "source": [
    "A_rows = np.zeros((block_size, N), dtype=int)\n",
    "comm.Scatter(A, A_rows, root=0)\n",
    "\n",
    "start_time_multiplication = time.time()\n",
    "C_rows = np.dot(A_rows, B)\n",
    "end_time_multiplication = time.time()\n",
    "\n",
    "C = None\n",
    "if rank == 0:\n",
    "    C = np.zeros((N, N), dtype=int)\n",
    "\n",
    "comm.Gather(C_rows, C, root=0)\n",
    "\n",
    "if rank == 0:\n",
    "    print(\"Resultant Matrix C:\")\n",
    "    print(C)\n",
    "    print(\"Broadcasting time:\", end_time - start_time, \"seconds\")\n",
    "    print(\"Matrix multiplication time:\", end_time_multiplication - start_time_multiplication, \"seconds\")"
   ]
  },
  {
   "cell_type": "code",
   "execution_count": 8,
   "id": "475d6529",
   "metadata": {},
   "outputs": [
    {
     "name": "stdout",
     "output_type": "stream",
     "text": [
      "Rank 3: Starting execution\n",
      "Rank 3: Broadcasting matrices A and B\n",
      "Rank 3: Matrices A and B broadcasted\n",
      "Rank 1: Starting execution\n",
      "Rank 1: Broadcasting matrices A and B\n",
      "Rank 1: Matrices A and B broadcasted\n",
      "Rank 2: Starting execution\n",
      "Rank 2: Broadcasting matrices A and B\n",
      "Rank 2: Matrices A and B broadcasted\n",
      "Rank 0: Starting execution\n",
      "Rank 0: Generating matrices A and B\n",
      "Rank 0: Matrices A and B generated\n",
      "Rank 0: Broadcasting matrices A and B\n",
      "Rank 0: Matrices A and B broadcasted\n",
      "Resultant Matrix C:\n",
      "[[41048 39762 40853 ... 41543 41611 39830]\n",
      " [40264 38648 41718 ... 40252 40400 39149]\n",
      " [41054 40522 41801 ... 41724 41400 41007]\n",
      " ...\n",
      " [41452 39388 41118 ... 41178 40805 40147]\n",
      " [39720 38856 40107 ... 40178 40473 39127]\n",
      " [40218 38532 40695 ... 40379 40558 39088]]\n",
      "Broadcasting time: 0.03373289108276367 seconds\n",
      "Matrix multiplication time: 4.518505096435547 seconds\n"
     ]
    }
   ],
   "source": [
    "!mpiexec -n 4 python mpi_scatter_gather.py"
   ]
  },
  {
   "cell_type": "code",
   "execution_count": 9,
   "id": "6803909b",
   "metadata": {},
   "outputs": [
    {
     "name": "stdout",
     "output_type": "stream",
     "text": [
      "Rank 5: Starting execution\n",
      "Rank 5: Broadcasting matrices A and B\n",
      "Rank 5: Matrices A and B broadcasted\n",
      "Rank 7: Starting execution\n",
      "Rank 7: Broadcasting matrices A and B\n",
      "Rank 7: Matrices A and B broadcasted\n",
      "Rank 6: Starting execution\n",
      "Rank 6: Broadcasting matrices A and B\n",
      "Rank 6: Matrices A and B broadcasted\n",
      "Rank 1: Starting execution\n",
      "Rank 1: Broadcasting matrices A and B\n",
      "Rank 1: Matrices A and B broadcasted\n",
      "Rank 3: Starting execution\n",
      "Rank 3: Broadcasting matrices A and B\n",
      "Rank 3: Matrices A and B broadcasted\n",
      "Rank 2: Starting execution\n",
      "Rank 2: Broadcasting matrices A and B\n",
      "Rank 2: Matrices A and B broadcasted\n",
      "Rank 4: Starting execution\n",
      "Rank 4: Broadcasting matrices A and B\n",
      "Rank 4: Matrices A and B broadcasted\n",
      "Rank 0: Starting execution\n",
      "Rank 0: Generating matrices A and B\n",
      "Rank 0: Matrices A and B generated\n",
      "Rank 0: Broadcasting matrices A and B\n",
      "Rank 0: Matrices A and B broadcasted\n",
      "Resultant Matrix C:\n",
      "[[39642 40083 40950 ... 41662 41105 40729]\n",
      " [40628 40791 40643 ... 41148 41905 39657]\n",
      " [40344 41142 40593 ... 42146 42763 40476]\n",
      " ...\n",
      " [39234 39860 40460 ... 40807 40930 40160]\n",
      " [38715 39396 39736 ... 41051 39867 39587]\n",
      " [40204 40537 40572 ... 41915 41841 40698]]\n",
      "Broadcasting time: 0.066436767578125 seconds\n",
      "Matrix multiplication time: 2.638921022415161 seconds\n"
     ]
    }
   ],
   "source": [
    "!mpiexec -n 8 python mpi_scatter_gather.py"
   ]
  },
  {
   "cell_type": "code",
   "execution_count": 10,
   "id": "5f5a9a4e",
   "metadata": {},
   "outputs": [
    {
     "name": "stdout",
     "output_type": "stream",
     "text": [
      "Rank 5: Starting execution\n",
      "Rank 5: Broadcasting matrices A and B\n",
      "Rank 5: Matrices A and B broadcasted\n",
      "Rank 15: Starting execution\n",
      "Rank 15: Broadcasting matrices A and B\n",
      "Rank 15: Matrices A and B broadcasted\n",
      "Rank 9: Starting execution\n",
      "Rank 9: Broadcasting matrices A and B\n",
      "Rank 9: Matrices A and B broadcasted\n",
      "Rank 11: Starting execution\n",
      "Rank 11: Broadcasting matrices A and B\n",
      "Rank 11: Matrices A and B broadcasted\n",
      "Rank 10: Starting execution\n",
      "Rank 10: Broadcasting matrices A and B\n",
      "Rank 10: Matrices A and B broadcasted\n",
      "Rank 1: Starting execution\n",
      "Rank 1: Broadcasting matrices A and B\n",
      "Rank 1: Matrices A and B broadcasted\n",
      "Rank 3: Starting execution\n",
      "Rank 3: Broadcasting matrices A and B\n",
      "Rank 3: Matrices A and B broadcasted\n",
      "Rank 2: Starting execution\n",
      "Rank 2: Broadcasting matrices A and B\n",
      "Rank 2: Matrices A and B broadcasted\n",
      "Rank 7: Starting execution\n",
      "Rank 7: Broadcasting matrices A and B\n",
      "Rank 7: Matrices A and B broadcasted\n",
      "Rank 6: Starting execution\n",
      "Rank 6: Broadcasting matrices A and B\n",
      "Rank 6: Matrices A and B broadcasted\n",
      "Rank 4: Starting execution\n",
      "Rank 4: Broadcasting matrices A and B\n",
      "Rank 4: Matrices A and B broadcasted\n",
      "Rank 13: Starting execution\n",
      "Rank 13: Broadcasting matrices A and B\n",
      "Rank 13: Matrices A and B broadcasted\n",
      "Rank 14: Starting execution\n",
      "Rank 14: Broadcasting matrices A and B\n",
      "Rank 14: Matrices A and B broadcasted\n",
      "Rank 12: Starting execution\n",
      "Rank 12: Broadcasting matrices A and B\n",
      "Rank 12: Matrices A and B broadcasted\n",
      "Rank 8: Starting execution\n",
      "Rank 8: Broadcasting matrices A and B\n",
      "Rank 8: Matrices A and B broadcasted\n",
      "Rank 0: Starting execution\n",
      "Rank 0: Generating matrices A and B\n",
      "Rank 0: Matrices A and B generated\n",
      "Rank 0: Broadcasting matrices A and B\n",
      "Rank 0: Matrices A and B broadcasted\n",
      "Resultant Matrix C:\n",
      "[[39895 40041 38242 ... 39939 39545 40169]\n",
      " [39345 39674 38612 ... 39800 40560 38977]\n",
      " [40013 39937 38095 ... 40518 41096 40771]\n",
      " ...\n",
      " [40008 39913 39012 ... 39942 41684 39822]\n",
      " [41780 41378 40286 ... 41451 42157 41894]\n",
      " [40301 40239 39599 ... 39864 40844 40837]]\n",
      "Broadcasting time: 0.22203373908996582 seconds\n",
      "Matrix multiplication time: 3.5083491802215576 seconds\n"
     ]
    }
   ],
   "source": [
    "!mpiexec -n 16 python mpi_scatter_gather.py"
   ]
  },
  {
   "cell_type": "code",
   "execution_count": 11,
   "id": "196aa958",
   "metadata": {},
   "outputs": [
    {
     "name": "stdout",
     "output_type": "stream",
     "text": [
      "Rank 0: Starting execution\n",
      "Rank 0: Generating matrices A and B\n",
      "Rank 0: Matrices A and B generated\n",
      "Rank 0: Broadcasting matrices A and B\n"
     ]
    }
   ],
   "source": [
    "N = 2000  \n",
    "if N % size != 0:\n",
    "    raise ValueError(\"Matrix size N must be divisible by the number of processes (size)\")\n",
    "\n",
    "block_size = N // size  \n",
    "\n",
    "print(f\"Rank {rank}: Starting execution\")\n",
    "\n",
    "if rank == 0:\n",
    "    print(f\"Rank {rank}: Generating matrices A and B\")\n",
    "    A = np.random.randint(0, 10, (N, N))\n",
    "    B = np.random.randint(0, 10, (N, N))\n",
    "    print(f\"Rank {rank}: Matrices A and B generated\")\n",
    "else:\n",
    "    A = None\n",
    "    B = None\n",
    "\n",
    "print(f\"Rank {rank}: Broadcasting matrices A and B\")"
   ]
  },
  {
   "cell_type": "code",
   "execution_count": 12,
   "id": "738f9b1a",
   "metadata": {},
   "outputs": [
    {
     "name": "stdout",
     "output_type": "stream",
     "text": [
      "Rank 0: Matrices A and B broadcasted\n",
      "Resultant Matrix C:\n",
      "[[40262 41419 41149 ... 40627 41185 39118]\n",
      " [40512 40635 39829 ... 40602 41313 39061]\n",
      " [41364 40627 40990 ... 40016 41141 40741]\n",
      " ...\n",
      " [40798 40859 41008 ... 39674 40921 40082]\n",
      " [40201 40859 40919 ... 40100 40550 39726]\n",
      " [41429 40674 40897 ... 39753 41346 39610]]\n",
      "Broadcasting time: 0.036681175231933594 seconds\n",
      "Gathering time: 0.007696866989135742 seconds\n",
      "Matrix multiplication time: 21.168152570724487 seconds\n"
     ]
    }
   ],
   "source": [
    "start_time = time.time()\n",
    "A = comm.bcast(A, root=0)\n",
    "B = comm.bcast(B, root=0)\n",
    "end_time = time.time()\n",
    "print(f\"Rank {rank}: Matrices A and B broadcasted\")\n",
    "\n",
    "A_rows = np.zeros((block_size, N), dtype=int)\n",
    "comm.Scatter(A, A_rows, root=0)\n",
    "\n",
    "start_time_multiplication = time.time()\n",
    "C_rows = np.dot(A_rows, B)\n",
    "end_time_multiplication = time.time()\n",
    "\n",
    "start_time_gather = time.time()\n",
    "C_all = np.zeros((N, N), dtype=int)\n",
    "comm.Allgather(C_rows, C_all)\n",
    "end_time_gather = time.time()\n",
    "\n",
    "if rank == 0:\n",
    "    print(\"Resultant Matrix C:\")\n",
    "    print(C_all)\n",
    "    print(\"Broadcasting time:\", end_time - start_time, \"seconds\")\n",
    "    print(\"Gathering time:\", end_time_gather - start_time_gather, \"seconds\")\n",
    "    print(\"Matrix multiplication time:\", end_time_multiplication - start_time_multiplication, \"seconds\")"
   ]
  },
  {
   "cell_type": "code",
   "execution_count": 13,
   "id": "87f5601c",
   "metadata": {},
   "outputs": [
    {
     "name": "stdout",
     "output_type": "stream",
     "text": [
      "Rank 3: Starting execution\n",
      "Rank 3: Broadcasting matrices A and B\n",
      "Rank 3: Matrices A and B broadcasted\n",
      "Rank 1: Starting execution\n",
      "Rank 1: Broadcasting matrices A and B\n",
      "Rank 1: Matrices A and B broadcasted\n",
      "Rank 2: Starting execution\n",
      "Rank 2: Broadcasting matrices A and B\n",
      "Rank 2: Matrices A and B broadcasted\n",
      "Rank 0: Starting execution\n",
      "Rank 0: Generating matrices A and B\n",
      "Rank 0: Matrices A and B generated\n",
      "Rank 0: Broadcasting matrices A and B\n",
      "Rank 0: Matrices A and B broadcasted\n",
      "Resultant Matrix C:\n",
      "[[39268 39927 39869 ... 39620 39577 39546]\n",
      " [40260 41715 40449 ... 41332 40204 40137]\n",
      " [39132 40005 39775 ... 40137 39549 40140]\n",
      " ...\n",
      " [40205 40717 40398 ... 40964 40263 40094]\n",
      " [40544 41437 40248 ... 42028 40126 40540]\n",
      " [40018 40157 40004 ... 41190 39445 40415]]\n",
      "Broadcasting time: 0.031401872634887695 seconds\n",
      "Gathering time: 0.011379480361938477 seconds\n",
      "Matrix multiplication time: 4.781134605407715 seconds\n"
     ]
    }
   ],
   "source": [
    "!mpiexec -n 4 python MPI_Allgather.py"
   ]
  },
  {
   "cell_type": "code",
   "execution_count": 14,
   "id": "fd274d70",
   "metadata": {},
   "outputs": [
    {
     "name": "stdout",
     "output_type": "stream",
     "text": [
      "Rank 3: Starting execution\n",
      "Rank 3: Broadcasting matrices A and B\n",
      "Rank 3: Matrices A and B broadcasted\n",
      "Rank 2: Starting execution\n",
      "Rank 2: Broadcasting matrices A and B\n",
      "Rank 2: Matrices A and B broadcasted\n",
      "Rank 4: Starting execution\n",
      "Rank 4: Broadcasting matrices A and B\n",
      "Rank 4: Matrices A and B broadcasted\n",
      "Rank 7: Starting execution\n",
      "Rank 7: Broadcasting matrices A and B\n",
      "Rank 7: Matrices A and B broadcasted\n",
      "Rank 1: Starting execution\n",
      "Rank 1: Broadcasting matrices A and B\n",
      "Rank 1: Matrices A and B broadcasted\n",
      "Rank 0: Starting execution\n",
      "Rank 0: Generating matrices A and B\n",
      "Rank 0: Matrices A and B generated\n",
      "Rank 0: Broadcasting matrices A and B\n",
      "Rank 0: Matrices A and B broadcasted\n",
      "Resultant Matrix C:\n",
      "[[40351 39324 40644 ... 40178 40722 38738]\n",
      " [41633 41139 41735 ... 41205 41598 40359]\n",
      " [42168 40904 41892 ... 40341 42459 40579]\n",
      " ...\n",
      " [41025 40337 40735 ... 41337 41649 40040]\n",
      " [39452 38465 39429 ... 39067 39286 38344]\n",
      " [41148 40563 41671 ... 41142 41364 40395]]\n",
      "Broadcasting time: 0.06987953186035156 seconds\n",
      "Gathering time: 0.05123305320739746 seconds\n",
      "Matrix multiplication time: 2.8613476753234863 seconds\n",
      "Rank 5: Starting execution\n",
      "Rank 5: Broadcasting matrices A and B\n",
      "Rank 5: Matrices A and B broadcasted\n",
      "Rank 6: Starting execution\n",
      "Rank 6: Broadcasting matrices A and B\n",
      "Rank 6: Matrices A and B broadcasted\n"
     ]
    }
   ],
   "source": [
    "!mpiexec -n 8 python MPI_Allgather.py"
   ]
  },
  {
   "cell_type": "code",
   "execution_count": 15,
   "id": "67dc330d",
   "metadata": {},
   "outputs": [
    {
     "name": "stdout",
     "output_type": "stream",
     "text": [
      "Rank 9: Starting execution\n",
      "Rank 9: Broadcasting matrices A and B\n",
      "Rank 9: Matrices A and B broadcasted\n",
      "Rank 10: Starting execution\n",
      "Rank 10: Broadcasting matrices A and B\n",
      "Rank 10: Matrices A and B broadcasted\n",
      "Rank 7: Starting execution\n",
      "Rank 7: Broadcasting matrices A and B\n",
      "Rank 7: Matrices A and B broadcasted\n",
      "Rank 8: Starting execution\n",
      "Rank 8: Broadcasting matrices A and B\n",
      "Rank 8: Matrices A and B broadcasted\n",
      "Rank 5: Starting execution\n",
      "Rank 5: Broadcasting matrices A and B\n",
      "Rank 5: Matrices A and B broadcasted\n",
      "Rank 6: Starting execution\n",
      "Rank 6: Broadcasting matrices A and B\n",
      "Rank 6: Matrices A and B broadcasted\n",
      "Rank 11: Starting execution\n",
      "Rank 11: Broadcasting matrices A and B\n",
      "Rank 11: Matrices A and B broadcasted\n",
      "Rank 13: Starting execution\n",
      "Rank 13: Broadcasting matrices A and B\n",
      "Rank 13: Matrices A and B broadcasted\n",
      "Rank 12: Starting execution\n",
      "Rank 12: Broadcasting matrices A and B\n",
      "Rank 12: Matrices A and B broadcasted\n",
      "Rank 0: Starting execution\n",
      "Rank 0: Generating matrices A and B\n",
      "Rank 0: Matrices A and B generated\n",
      "Rank 0: Broadcasting matrices A and B\n",
      "Rank 0: Matrices A and B broadcasted\n",
      "Resultant Matrix C:\n",
      "[[40098 40513 39370 ... 40675 40116 40372]\n",
      " [40373 40444 39136 ... 40684 39919 40297]\n",
      " [40017 40324 39607 ... 39830 40199 39921]\n",
      " ...\n",
      " [40336 40603 39674 ... 40866 39942 40451]\n",
      " [40586 40233 39441 ... 40566 39837 40573]\n",
      " [40127 41018 40006 ... 41142 40468 40251]]\n",
      "Broadcasting time: 0.11317896842956543 seconds\n",
      "Gathering time: 0.7809598445892334 seconds\n",
      "Matrix multiplication time: 2.607423782348633 seconds\n",
      "Rank 14: Starting execution\n",
      "Rank 14: Broadcasting matrices A and B\n",
      "Rank 14: Matrices A and B broadcasted\n",
      "Rank 15: Starting execution\n",
      "Rank 15: Broadcasting matrices A and B\n",
      "Rank 15: Matrices A and B broadcasted\n",
      "Rank 1: Starting execution\n",
      "Rank 1: Broadcasting matrices A and B\n",
      "Rank 1: Matrices A and B broadcasted\n",
      "Rank 2: Starting execution\n",
      "Rank 2: Broadcasting matrices A and B\n",
      "Rank 2: Matrices A and B broadcasted\n",
      "Rank 4: Starting execution\n",
      "Rank 4: Broadcasting matrices A and B\n",
      "Rank 4: Matrices A and B broadcasted\n",
      "Rank 3: Starting execution\n",
      "Rank 3: Broadcasting matrices A and B\n",
      "Rank 3: Matrices A and B broadcasted\n"
     ]
    }
   ],
   "source": [
    "!mpiexec -n 16 python MPI_Allgather.py"
   ]
  },
  {
   "cell_type": "code",
   "execution_count": 22,
   "id": "68ef0aae",
   "metadata": {},
   "outputs": [
    {
     "data": {
      "image/png": "[encoded data removed]",
      "text/plain": [
       "<Figure size 1000x500 with 2 Axes>"
      ]
     },
     "metadata": {},
     "output_type": "display_data"
    }
   ],
   "source": [
    "scatter_gather_processes = [4, 8, 16]\n",
    "scatter_gather_broadcasting_time = [0.03373289108276367, 0.066436767578125, 0.22203373908996582]\n",
    "scatter_gather_multiplication_time = [4.518505096435547, 2.638921022415161, 3.5083491802215576]\n",
    "\n",
    "allgather_processes = [4, 8, 16]\n",
    "allgather_broadcasting_time = [0.031401872634887695,0.06987953186035156, 0.11317896842956543]\n",
    "allgather_multiplication_time = [4.781134605407715 ,2.8613476753234863, 2.607423782348633]\n",
    "\n",
    "plt.figure(figsize=(10, 5))\n",
    "\n",
    "plt.subplot(1, 2, 1)\n",
    "plt.plot(scatter_gather_processes, scatter_gather_broadcasting_time, marker='o', label='MPI Scatter Gather')\n",
    "plt.plot(allgather_processes, allgather_broadcasting_time, marker='o', label='MPI All gather')\n",
    "plt.xlabel('Number of Processes')\n",
    "plt.ylabel('Broadcasting Time (seconds)')\n",
    "plt.title('Broadcasting Time Comparison')\n",
    "plt.legend()\n",
    "\n",
    "plt.subplot(1, 2, 2)\n",
    "plt.plot(scatter_gather_processes, scatter_gather_multiplication_time, marker='o', label='MPI Scatter Gather')\n",
    "plt.plot(allgather_processes, allgather_multiplication_time, marker='o', label='MPI All gather')\n",
    "plt.xlabel('Number of Processes')\n",
    "plt.ylabel('Matrix Multiplication Time (seconds)')\n",
    "plt.title('Matrix Multiplication Time Comparison')\n",
    "plt.legend()\n",
    "\n",
    "plt.tight_layout()\n",
    "plt.show()"
   ]
  }
 ],
 "metadata": {
  "kernelspec": {
   "display_name": "Python 3 (ipykernel)",
   "language": "python",
   "name": "python3"
  },
  "language_info": {
   "codemirror_mode": {
    "name": "ipython",
    "version": 3
   },
   "file_extension": ".py",
   "mimetype": "text/x-python",
   "name": "python",
   "nbconvert_exporter": "python",
   "pygments_lexer": "ipython3",
   "version": "3.11.5"
  }
 },
 "nbformat": 4,
 "nbformat_minor": 5
}

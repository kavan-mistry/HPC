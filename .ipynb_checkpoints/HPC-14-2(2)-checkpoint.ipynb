{
 "cells": [
  {
   "cell_type": "markdown",
   "id": "8aeca5dc",
   "metadata": {},
   "source": [
    "# Assignment 9"
   ]
  },
  {
   "cell_type": "markdown",
   "id": "439cde5a",
   "metadata": {},
   "source": [
    "1. Calculate Pi value using openMPI send and receive messages for atleast 35-40 terms.\n",
    "2. Change the value on n as 2, 4, 8, 16.\n",
    "3. Analyze the performance improvement using number of processes."
   ]
  },
  {
   "cell_type": "code",
   "execution_count": 1,
   "id": "739bd3fb",
   "metadata": {},
   "outputs": [],
   "source": [
    "import mpi4py\n",
    "from mpi4py import MPI"
   ]
  },
  {
   "cell_type": "code",
   "execution_count": null,
   "id": "d5c2bd2a",
   "metadata": {},
   "outputs": [],
   "source": []
  }
 ],
 "metadata": {
  "kernelspec": {
   "display_name": "Python 3 (ipykernel)",
   "language": "python",
   "name": "python3"
  },
  "language_info": {
   "codemirror_mode": {
    "name": "ipython",
    "version": 3
   },
   "file_extension": ".py",
   "mimetype": "text/x-python",
   "name": "python",
   "nbconvert_exporter": "python",
   "pygments_lexer": "ipython3",
   "version": "3.11.5"
  }
 },
 "nbformat": 4,
 "nbformat_minor": 5
}

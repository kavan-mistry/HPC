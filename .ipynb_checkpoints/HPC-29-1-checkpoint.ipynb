{
 "cells": [
  {
   "cell_type": "markdown",
   "id": "5db7c208",
   "metadata": {},
   "source": [
    "# Assignment 3"
   ]
  },
  {
   "cell_type": "markdown",
   "id": "78c427cb",
   "metadata": {},
   "source": [
    "1. Implement Producer-Consumer problem (PCP). Analyze the significance of semaphore, mutex, bounded buffer, producer thread, consumer thread using the code available on Producer-Consumer Problem in Python - AskPython.\n",
    "    (a) Write a brief about the problem and solution.\n",
    "    (b) Code and Output\n",
    "\n",
    "2. Demonstrate how PCP occurs for a application of your choice."
   ]
  },
  {
   "cell_type": "markdown",
   "id": "b9787f7e",
   "metadata": {},
   "source": [
    "<b>Ans.</b>\n",
    "\n",
    "The producer-consumer problem is a classic synchronization problem in OS, especially in concurrent programming and multi-threading. It involves two types of processes: \n",
    "\n",
    "1. Producers: These processes generate data or items and store them in the shared buffer; \n",
    "2. Consumers: These processes retrieve and consume items from the buffer. \n",
    "\n",
    "The challenge is to make sure that the following happen: \n",
    "* Producers do not produce items if the buffer is full \n",
    "* Consumers do not consume items if the buffer is empty. \n",
    "\n",
    "The main objective is to keep producers and consumers in sync so as to avoid problems like data corruption, race conditions, and deadlocks.\n",
    "\n",
    "<b>Solution:</b>\n",
    "\n",
    "Here is a straightforward solution that makes use of bounded buffers and semaphores: \n",
    "\n",
    "1. Shared Buffer: \n",
    "* A fixed-size buffer is shared between producers and consumers. \n",
    "\n",
    "2. Semaphore for Empty Slots (empty): \n",
    "* Initialized to the size of the buffer. \n",
    "* Represents the number of empty slots in the buffer. \n",
    "* Decrements by producers when they add an item. \n",
    "* Decrements by consumers when they remove an item. \n",
    "\n",
    "3. Semaphore for Full Slots (full): \n",
    "* Initialized to 0. \n",
    "* Represents the number of filled slots in the buffer. \n",
    "* Incremented by producers when they add an item. \n",
    "* Decrements by consumers when they remove an item. \n",
    "\n",
    "4. Mutex Lock: \n",
    "* Protects access to the shared buffer to race conditions."
   ]
  },
  {
   "cell_type": "code",
   "execution_count": 2,
   "id": "fe23419c",
   "metadata": {},
   "outputs": [],
   "source": [
    "import numpy as np\n",
    "import pandas as pd\n",
    "import matplotlib.pyplot as plt"
   ]
  },
  {
   "cell_type": "code",
   "execution_count": 3,
   "id": "86d29592",
   "metadata": {},
   "outputs": [],
   "source": [
    "import threading\n",
    "import time"
   ]
  },
  {
   "cell_type": "code",
   "execution_count": 4,
   "id": "dff51057",
   "metadata": {},
   "outputs": [],
   "source": [
    "# Shared Memory variables\n",
    "CAPACITY = 10\n",
    "buffer = [-1 for i in range(CAPACITY)]\n",
    "in_index = 0\n",
    "out_index = 0"
   ]
  },
  {
   "cell_type": "code",
   "execution_count": 5,
   "id": "06647de9",
   "metadata": {},
   "outputs": [],
   "source": [
    "# Declaring Semaphores\n",
    "mutex = threading.Semaphore()\n",
    "empty = threading.Semaphore(CAPACITY)\n",
    "full = threading.Semaphore(0)"
   ]
  },
  {
   "cell_type": "code",
   "execution_count": 6,
   "id": "e83f5e8d",
   "metadata": {},
   "outputs": [],
   "source": [
    "# Producer Thread Class\n",
    "class Producer(threading.Thread):\n",
    "  def run(self):\n",
    "     \n",
    "    global CAPACITY, buffer, in_index, out_index\n",
    "    global mutex, empty, full\n",
    "     \n",
    "    items_produced = 0\n",
    "    counter = 0\n",
    "     \n",
    "    while items_produced < 20:\n",
    "      empty.acquire()\n",
    "      mutex.acquire()\n",
    "       \n",
    "      counter += 1\n",
    "      buffer[in_index] = counter\n",
    "      in_index = (in_index + 1)%CAPACITY\n",
    "      print(\"Producer produced : \", counter)\n",
    "       \n",
    "      mutex.release()\n",
    "      full.release()\n",
    "       \n",
    "      time.sleep(0)\n",
    "       \n",
    "      items_produced += 1"
   ]
  },
  {
   "cell_type": "code",
   "execution_count": 7,
   "id": "b099cbfe",
   "metadata": {},
   "outputs": [],
   "source": [
    "# Consumer Thread Class\n",
    "class Consumer(threading.Thread):\n",
    "  def run(self):\n",
    "     \n",
    "    global CAPACITY, buffer, in_index, out_index, counter\n",
    "    global mutex, empty, full\n",
    "     \n",
    "    items_consumed = 0\n",
    "     \n",
    "    while items_consumed < 20:\n",
    "      full.acquire()\n",
    "      mutex.acquire()\n",
    "       \n",
    "      item = buffer[out_index]\n",
    "      out_index = (out_index + 1)%CAPACITY\n",
    "      print(\"Consumer consumed item : \", item)\n",
    "       \n",
    "      mutex.release()\n",
    "      empty.release()      \n",
    "       \n",
    "      time.sleep(0.5)\n",
    "       \n",
    "      items_consumed += 1"
   ]
  },
  {
   "cell_type": "code",
   "execution_count": 8,
   "id": "e4dd3afb",
   "metadata": {},
   "outputs": [
    {
     "name": "stdout",
     "output_type": "stream",
     "text": [
      "Producer produced :  1\n",
      "Consumer consumed item :  1\n",
      "Producer produced :  2\n",
      "Producer produced :  3\n",
      "Producer produced :  4\n",
      "Producer produced :  5\n",
      "Producer produced :  6\n",
      "Producer produced :  7\n",
      "Producer produced :  8\n",
      "Producer produced :  9\n",
      "Producer produced :  10\n",
      "Producer produced :  11\n",
      "Consumer consumed item :  2\n",
      "Producer produced :  12\n",
      "Consumer consumed item :  3\n",
      "Producer produced :  13\n",
      "Consumer consumed item :  4\n",
      "Producer produced :  14\n",
      "Consumer consumed item :  5\n",
      "Producer produced :  15\n",
      "Consumer consumed item :  6\n",
      "Producer produced :  16\n",
      "Consumer consumed item :  7\n",
      "Producer produced :  17\n",
      "Consumer consumed item :  8\n",
      "Producer produced :  18\n",
      "Consumer consumed item :  9\n",
      "Producer produced :  19\n",
      "Consumer consumed item :  10\n",
      "Producer produced :  20\n",
      "Consumer consumed item :  11\n",
      "Consumer consumed item :  12\n",
      "Consumer consumed item :  13\n",
      "Consumer consumed item :  14\n",
      "Consumer consumed item :  15\n",
      "Consumer consumed item :  16\n",
      "Consumer consumed item :  17\n",
      "Consumer consumed item :  18\n",
      "Consumer consumed item :  19\n",
      "Consumer consumed item :  20\n"
     ]
    }
   ],
   "source": [
    "producer = Producer()\n",
    "consumer = Consumer()\n",
    " \n",
    "consumer.start()\n",
    "producer.start()\n",
    " \n",
    "producer.join()\n",
    "consumer.join()"
   ]
  },
  {
   "cell_type": "markdown",
   "id": "3f4015c7",
   "metadata": {},
   "source": [
    "<b>Implemantation use if else and for loop</b>"
   ]
  },
  {
   "cell_type": "code",
   "execution_count": 9,
   "id": "9ca8254b",
   "metadata": {},
   "outputs": [],
   "source": [
    "import time"
   ]
  },
  {
   "cell_type": "code",
   "execution_count": 10,
   "id": "a17c9900",
   "metadata": {},
   "outputs": [],
   "source": [
    "CAPACITY = 10\n",
    "buffer = [-1 for i in range(CAPACITY)]\n",
    "in_index = 0\n",
    "out_index = 0"
   ]
  },
  {
   "cell_type": "code",
   "execution_count": 11,
   "id": "e96dd323",
   "metadata": {},
   "outputs": [],
   "source": [
    "mutex = threading.Semaphore()\n",
    "empty = threading.Semaphore(CAPACITY)\n",
    "full = threading.Semaphore(0)"
   ]
  },
  {
   "cell_type": "code",
   "execution_count": 12,
   "id": "3ceac6a4",
   "metadata": {},
   "outputs": [],
   "source": [
    "class Producer(threading.Thread):\n",
    "    def run(self):\n",
    "        global CAPACITY, buffer, in_index\n",
    "        global mutex, empty, full\n",
    "\n",
    "        for counter in range(1, 21):\n",
    "            empty.acquire()\n",
    "            mutex.acquire()\n",
    "\n",
    "            buffer[in_index] = counter\n",
    "            in_index = (in_index + 1) % CAPACITY\n",
    "            print(\"Producer produced:\", counter)\n",
    "\n",
    "            mutex.release()\n",
    "            full.release()\n",
    "\n",
    "            time.sleep(0)"
   ]
  },
  {
   "cell_type": "code",
   "execution_count": 13,
   "id": "87da5cb8",
   "metadata": {},
   "outputs": [],
   "source": [
    "class Consumer(threading.Thread):\n",
    "    def run(self):\n",
    "        global CAPACITY, buffer, out_index\n",
    "        global mutex, empty, full\n",
    "\n",
    "        for _ in range(20):\n",
    "            full.acquire()\n",
    "            mutex.acquire()\n",
    "\n",
    "            item = buffer[out_index]\n",
    "            out_index = (out_index + 1) % CAPACITY\n",
    "            print(\"Consumer consumed item:\", item)\n",
    "\n",
    "            mutex.release()\n",
    "            empty.release()\n",
    "\n",
    "            time.sleep(0.5)\n"
   ]
  },
  {
   "cell_type": "code",
   "execution_count": 14,
   "id": "fe2d0f6d",
   "metadata": {},
   "outputs": [
    {
     "name": "stdout",
     "output_type": "stream",
     "text": [
      "Producer produced: 1\n",
      "Consumer consumed item: 1\n",
      "Producer produced: 2\n",
      "Producer produced: 3\n",
      "Producer produced: 4\n",
      "Producer produced: 5\n",
      "Producer produced: 6\n",
      "Producer produced: 7\n",
      "Producer produced: 8\n",
      "Producer produced: 9\n",
      "Producer produced: 10\n",
      "Producer produced: 11\n",
      "Consumer consumed item: 2\n",
      "Producer produced: 12\n",
      "Consumer consumed item: 3\n",
      "Producer produced: 13\n",
      "Consumer consumed item: 4\n",
      "Producer produced: 14\n",
      "Consumer consumed item: 5\n",
      "Producer produced: 15\n",
      "Consumer consumed item: 6\n",
      "Producer produced: 16\n",
      "Consumer consumed item: 7\n",
      "Producer produced: 17\n",
      "Consumer consumed item: 8\n",
      "Producer produced: 18\n",
      "Consumer consumed item: 9\n",
      "Producer produced: 19\n",
      "Consumer consumed item: 10\n",
      "Producer produced: 20\n",
      "Consumer consumed item: 11\n",
      "Consumer consumed item: 12\n",
      "Consumer consumed item: 13\n",
      "Consumer consumed item: 14\n",
      "Consumer consumed item: 15\n",
      "Consumer consumed item: 16\n",
      "Consumer consumed item: 17\n",
      "Consumer consumed item: 18\n",
      "Consumer consumed item: 19\n",
      "Consumer consumed item: 20\n"
     ]
    }
   ],
   "source": [
    "producer = Producer()\n",
    "consumer = Consumer()\n",
    "\n",
    "consumer.start()\n",
    "producer.start()\n",
    "\n",
    "producer.join()\n",
    "consumer.join()"
   ]
  },
  {
   "cell_type": "markdown",
   "id": "7b3f6246",
   "metadata": {},
   "source": [
    "<b>example useage</b>"
   ]
  },
  {
   "cell_type": "code",
   "execution_count": 15,
   "id": "17fb4bb2",
   "metadata": {},
   "outputs": [],
   "source": [
    "import queue\n",
    "import random"
   ]
  },
  {
   "cell_type": "markdown",
   "id": "726a0450",
   "metadata": {},
   "source": [
    "<b>Example</b>\n",
    "\n",
    "Event Handling in GUI:\n",
    "\n",
    "* Producers: User input events (clicks, keystrokes).\n",
    "* Consumers: Event handlers or listeners.\n",
    "* Buffer: Event queue."
   ]
  },
  {
   "cell_type": "code",
   "execution_count": 16,
   "id": "3e83586d",
   "metadata": {},
   "outputs": [],
   "source": [
    "MAX_QUEUE_SIZE = 5\n",
    "event_queue = queue.Queue(MAX_QUEUE_SIZE)\n",
    "mutex = threading.Lock()\n",
    "empty = threading.Semaphore(MAX_QUEUE_SIZE)\n",
    "full = threading.Semaphore(0)"
   ]
  },
  {
   "cell_type": "code",
   "execution_count": 17,
   "id": "59477b87",
   "metadata": {},
   "outputs": [],
   "source": [
    "class UserClickProducer(threading.Thread):\n",
    "    def run(self):\n",
    "        global MAX_QUEUE_SIZE, event_queue\n",
    "        global mutex, empty, full\n",
    "\n",
    "        for _ in range(10):\n",
    "            print(\"User clicked\")\n",
    "\n",
    "            empty.acquire()\n",
    "            mutex.acquire()\n",
    "\n",
    "            event_queue.put(\"Click\")\n",
    "\n",
    "            mutex.release()\n",
    "            full.release()\n",
    "\n",
    "            time.sleep(random.uniform(0.1, 0.5))"
   ]
  },
  {
   "cell_type": "code",
   "execution_count": 18,
   "id": "c578a014",
   "metadata": {},
   "outputs": [],
   "source": [
    "class EventHandlerConsumer(threading.Thread):\n",
    "    def run(self):\n",
    "        global MAX_QUEUE_SIZE, event_queue\n",
    "        global mutex, empty, full\n",
    "\n",
    "        for _ in range(10):\n",
    "            full.acquire()\n",
    "            mutex.acquire()\n",
    "\n",
    "            event = event_queue.get()\n",
    "            print(f\"Handling event: {event}\")\n",
    "\n",
    "            mutex.release()\n",
    "            empty.release()\n",
    "\n",
    "            time.sleep(random.uniform(0.1, 0.5))"
   ]
  },
  {
   "cell_type": "code",
   "execution_count": 19,
   "id": "a56deaa8",
   "metadata": {
    "scrolled": false
   },
   "outputs": [
    {
     "name": "stdout",
     "output_type": "stream",
     "text": [
      "User clicked\n",
      "Handling event: Click\n",
      "User clicked\n",
      "Handling event: Click\n",
      "User clicked\n",
      "Handling event: Click\n",
      "User clicked\n",
      "Handling event: Click\n",
      "User clicked\n",
      "User clicked\n",
      "User clicked\n",
      "User clicked\n",
      "Handling event: Click\n",
      "Handling event: Click\n",
      "User clicked\n",
      "Handling event: Click\n",
      "User clicked\n",
      "Handling event: Click\n",
      "Handling event: Click\n",
      "Handling event: Click\n"
     ]
    }
   ],
   "source": [
    "user_click_producer = UserClickProducer()\n",
    "event_handler_consumer = EventHandlerConsumer()\n",
    "\n",
    "user_click_producer.start()\n",
    "event_handler_consumer.start()\n",
    "\n",
    "user_click_producer.join()\n",
    "event_handler_consumer.join()"
   ]
  }
 ],
 "metadata": {
  "kernelspec": {
   "display_name": "Python 3 (ipykernel)",
   "language": "python",
   "name": "python3"
  },
  "language_info": {
   "codemirror_mode": {
    "name": "ipython",
    "version": 3
   },
   "file_extension": ".py",
   "mimetype": "text/x-python",
   "name": "python",
   "nbconvert_exporter": "python",
   "pygments_lexer": "ipython3",
   "version": "3.11.5"
  }
 },
 "nbformat": 4,
 "nbformat_minor": 5
}

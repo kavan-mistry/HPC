{
 "cells": [
  {
   "cell_type": "code",
   "execution_count": 18,
   "id": "406b685e-68e4-4a22-a94f-67c7c170fc98",
   "metadata": {},
   "outputs": [],
   "source": [
    "import numba.cuda as cuda\n",
    "\n",
    "# Reset CUDA context\n",
    "cuda.select_device(0)\n",
    "cuda.close()"
   ]
  },
  {
   "cell_type": "code",
   "execution_count": 19,
   "id": "ba7908b9-ef53-48e1-9d7f-71d9a58413d4",
   "metadata": {},
   "outputs": [
    {
     "name": "stdout",
     "output_type": "stream",
     "text": [
      "Device Name: b'NVIDIA GeForce RTX 4060 Laptop GPU'\n",
      "Compute Capability: (8, 9)\n"
     ]
    }
   ],
   "source": [
    "import numba.cuda as cuda\n",
    "\n",
    "device = cuda.get_current_device()\n",
    "print(\"Device Name:\", device.name)\n",
    "print(\"Compute Capability:\", device.compute_capability)"
   ]
  },
  {
   "cell_type": "code",
   "execution_count": 26,
   "id": "130e3645-4f30-4fbb-bfa8-9ff81b73f8fa",
   "metadata": {},
   "outputs": [],
   "source": [
    "@cuda.jit()\n",
    "def hello_gpu():\n",
    "    print(\"Hello, GPU!\")\n",
    "\n",
    "hello_gpu[1, 1]()"
   ]
  },
  {
   "cell_type": "code",
   "execution_count": null,
   "id": "d49e2635-0853-419f-ba6c-311d6490613c",
   "metadata": {},
   "outputs": [],
   "source": []
  },
  {
   "cell_type": "code",
   "execution_count": null,
   "id": "777d42df-027a-41ea-87d1-5da62f39189b",
   "metadata": {},
   "outputs": [],
   "source": []
  },
  {
   "cell_type": "code",
   "execution_count": null,
   "id": "e36f5582-3df1-496d-95eb-d25cc6f47bc0",
   "metadata": {},
   "outputs": [],
   "source": []
  },
  {
   "cell_type": "code",
   "execution_count": null,
   "id": "e1ec2cb5-ca05-4d56-8e06-1fb6dc6f1d42",
   "metadata": {},
   "outputs": [],
   "source": []
  },
  {
   "cell_type": "code",
   "execution_count": 76,
   "id": "0367556e-3af5-4573-b8b3-329555a74049",
   "metadata": {},
   "outputs": [],
   "source": [
    "import os\n",
    "\n",
    "# Set environment variable\n",
    "os.environ[\"PYOPENCL_COMPILER_OUTPUT\"] = \"1\""
   ]
  },
  {
   "cell_type": "code",
   "execution_count": 77,
   "id": "1397e470-7036-485c-8506-403ccba7e497",
   "metadata": {},
   "outputs": [],
   "source": [
    "import pyopencl as cl\n",
    "import numpy as np"
   ]
  },
  {
   "cell_type": "code",
   "execution_count": 78,
   "id": "5554376b-c9f4-4ccf-90bb-1c4d4c56f919",
   "metadata": {},
   "outputs": [],
   "source": [
    "platforms = cl.get_platforms()\n",
    "devices = platforms[0].get_devices(device_type=cl.device_type.GPU)\n",
    "context = cl.Context(devices)\n",
    "queue = cl.CommandQueue(context)"
   ]
  },
  {
   "cell_type": "code",
   "execution_count": 79,
   "id": "c5991a0e-61de-4b1a-a411-dacc7aca5140",
   "metadata": {},
   "outputs": [],
   "source": [
    "kernel_code = \"\"\"\n",
    "__kernel void hello_gpu()\n",
    "{\n",
    "    // Get global thread ID\n",
    "    int global_id = get_global_id(0);\n",
    "\n",
    "    // Print \"Hello, world!\" from the first work item\n",
    "    if (global_id == 0) {\n",
    "        printf(\"Hello, world!\\\\n\");\n",
    "    }\n",
    "}\n",
    "\"\"\""
   ]
  },
  {
   "cell_type": "code",
   "execution_count": 80,
   "id": "8f506a0b-89c9-4c7f-b3f9-4fd2770c6baa",
   "metadata": {},
   "outputs": [],
   "source": [
    "# Create OpenCL program\n",
    "program = cl.Program(context, kernel_code).build()\n",
    "\n",
    "# Execute the kernel\n",
    "program.hello_gpu(queue, (1,), None)\n",
    "\n",
    "# Wait for the command queue to finish\n",
    "queue.finish()"
   ]
  },
  {
   "cell_type": "code",
   "execution_count": null,
   "id": "1eaa2a15-a3d3-46f5-a539-d8a28a5432be",
   "metadata": {},
   "outputs": [],
   "source": []
  }
 ],
 "metadata": {
  "kernelspec": {
   "display_name": "Python 3 (ipykernel)",
   "language": "python",
   "name": "python3"
  },
  "language_info": {
   "codemirror_mode": {
    "name": "ipython",
    "version": 3
   },
   "file_extension": ".py",
   "mimetype": "text/x-python",
   "name": "python",
   "nbconvert_exporter": "python",
   "pygments_lexer": "ipython3",
   "version": "3.10.13"
  }
 },
 "nbformat": 4,
 "nbformat_minor": 5
}

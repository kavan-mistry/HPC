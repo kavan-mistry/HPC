{
 "cells": [
  {
   "cell_type": "markdown",
   "id": "659da448",
   "metadata": {},
   "source": [
    "# Assignment 8"
   ]
  },
  {
   "cell_type": "markdown",
   "id": "f664cc6f",
   "metadata": {},
   "source": [
    "1. Write a program to pass message from one process to another and print output.\n",
    "    * In synchronous communication\n",
    "    * In asynchronous communication. Show using overlapping of task in non-blocking mode."
   ]
  },
  {
   "cell_type": "code",
   "execution_count": 1,
   "id": "8a7f2edf",
   "metadata": {},
   "outputs": [],
   "source": [
    "import mpi4py\n",
    "from mpi4py import MPI"
   ]
  },
  {
   "cell_type": "code",
   "execution_count": 2,
   "id": "cbf0aa07",
   "metadata": {},
   "outputs": [],
   "source": [
    "import numpy as np"
   ]
  },
  {
   "cell_type": "code",
   "execution_count": 3,
   "id": "3aa3f367",
   "metadata": {},
   "outputs": [],
   "source": [
    "comm = MPI.COMM_WORLD # get the communicator object\n",
    "rank = comm.Get_rank() # get the rank of the current process\n",
    "name = MPI.Get_processor_name() # get the name of the current processor\n",
    "size = comm.Get_size() # get the number of processes"
   ]
  },
  {
   "cell_type": "code",
   "execution_count": 4,
   "id": "ca9f8976",
   "metadata": {},
   "outputs": [],
   "source": [
    "randNum = np.zeros(1)"
   ]
  },
  {
   "cell_type": "code",
   "execution_count": null,
   "id": "8a51b9fd",
   "metadata": {},
   "outputs": [],
   "source": [
    "if rank == 0:\n",
    "    message = \"Hello from process 0\"\n",
    "    comm.send(message, dest=1)\n",
    "\n",
    "    received_message = comm.recv(source=1)\n",
    "    print(f\"Process 0 received message: {received_message}\")\n",
    "\n",
    "elif rank == 1:\n",
    "    received_message = comm.recv(source=0)\n",
    "    print(f\"Process 1 received message: {received_message}\")\n",
    "\n",
    "    reply = \"Hello from process 1\"\n",
    "    comm.send(reply, dest=0)"
   ]
  },
  {
   "cell_type": "code",
   "execution_count": 5,
   "id": "dbc6a43f",
   "metadata": {},
   "outputs": [
    {
     "name": "stdout",
     "output_type": "stream",
     "text": [
      "Process 1 received message: Hello from process 0\n",
      "Process 0 received message: Hello from process 1\n"
     ]
    }
   ],
   "source": [
    "!mpiexec -n 2 python hpc-12-2.py"
   ]
  },
  {
   "cell_type": "code",
   "execution_count": null,
   "id": "da347ba7",
   "metadata": {},
   "outputs": [],
   "source": [
    "if rank == 0:\n",
    "    message = \"Hello from process 0 (Async)\"\n",
    "    req_send = comm.isend(message, dest=1)\n",
    "    print(f\"Process {rank} sent message: {message}\")\n",
    "    time.sleep(1)\n",
    "    req_send.wait()\n",
    "elif rank == 1:\n",
    "    req_recv = comm.irecv(source=0)\n",
    "    time.sleep(0.5)\n",
    "    print(f\"Process {rank} waiting to receive message...\")\n",
    "    received_message = req_recv.wait()\n",
    "    print(f\"Process {rank} received message: {received_message}\")"
   ]
  },
  {
   "cell_type": "code",
   "execution_count": 8,
   "id": "8d9a1184",
   "metadata": {},
   "outputs": [
    {
     "name": "stdout",
     "output_type": "stream",
     "text": [
      "Process 0 sent message: Hello from process 0 (Async)\n",
      "Process 1 waiting to receive message...\n",
      "Process 1 received message: Hello from process 0 (Async)\n"
     ]
    }
   ],
   "source": [
    "!mpiexec -n 2 python hpc-async.py"
   ]
  }
 ],
 "metadata": {
  "kernelspec": {
   "display_name": "Python 3 (ipykernel)",
   "language": "python",
   "name": "python3"
  },
  "language_info": {
   "codemirror_mode": {
    "name": "ipython",
    "version": 3
   },
   "file_extension": ".py",
   "mimetype": "text/x-python",
   "name": "python",
   "nbconvert_exporter": "python",
   "pygments_lexer": "ipython3",
   "version": "3.11.5"
  }
 },
 "nbformat": 4,
 "nbformat_minor": 5
}

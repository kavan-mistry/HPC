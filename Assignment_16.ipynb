{
 "cells": [
  {
   "cell_type": "code",
   "execution_count": 1,
   "id": "6de88df7-6d1b-4619-9dc3-0f9b71b338f5",
   "metadata": {},
   "outputs": [],
   "source": [
    "import tensorflow as tf"
   ]
  },
  {
   "cell_type": "code",
   "execution_count": 2,
   "id": "a9507e97-9df0-4c30-8557-1afee611485f",
   "metadata": {},
   "outputs": [],
   "source": [
    "gpus = tf.config.list_physical_devices(\"GPU\")"
   ]
  },
  {
   "cell_type": "code",
   "execution_count": 3,
   "id": "324a325d-4a1b-4320-a80d-f875c85b80a7",
   "metadata": {},
   "outputs": [
    {
     "name": "stdout",
     "output_type": "stream",
     "text": [
      "Found a GPU with the name: PhysicalDevice(name='/physical_device:GPU:0', device_type='GPU')\n"
     ]
    }
   ],
   "source": [
    "if gpus:\n",
    "    for gpu in gpus:\n",
    "        print(\"Found a GPU with the name:\", gpu)\n",
    "    \n",
    "else:\n",
    "        print(\"Failed to detect a GPU.\")"
   ]
  },
  {
   "cell_type": "code",
   "execution_count": 4,
   "id": "d6c663c1-9c1f-4c19-9def-2d6cbf3d3328",
   "metadata": {},
   "outputs": [
    {
     "name": "stdout",
     "output_type": "stream",
     "text": [
      "Wed Apr  3 20:25:10 2024       \n",
      "+-----------------------------------------------------------------------------------------+\n",
      "| NVIDIA-SMI 551.86                 Driver Version: 551.86         CUDA Version: 12.4     |\n",
      "|-----------------------------------------+------------------------+----------------------+\n",
      "| GPU  Name                     TCC/WDDM  | Bus-Id          Disp.A | Volatile Uncorr. ECC |\n",
      "| Fan  Temp   Perf          Pwr:Usage/Cap |           Memory-Usage | GPU-Util  Compute M. |\n",
      "|                                         |                        |               MIG M. |\n",
      "|=========================================+========================+======================|\n",
      "|   0  NVIDIA GeForce RTX 4060 ...  WDDM  |   00000000:01:00.0 Off |                  N/A |\n",
      "| N/A   47C    P4             13W /   35W |       0MiB /   8188MiB |      0%      Default |\n",
      "|                                         |                        |                  N/A |\n",
      "+-----------------------------------------+------------------------+----------------------+\n",
      "                                                                                         \n",
      "+-----------------------------------------------------------------------------------------+\n",
      "| Processes:                                                                              |\n",
      "|  GPU   GI   CI        PID   Type   Process name                              GPU Memory |\n",
      "|        ID   ID                                                               Usage      |\n",
      "|=========================================================================================|\n",
      "|  No running processes found                                                             |\n",
      "+-----------------------------------------------------------------------------------------+\n"
     ]
    }
   ],
   "source": [
    "!nvidia-smi"
   ]
  },
  {
   "cell_type": "code",
   "execution_count": 11,
   "id": "382dabdb-cbb5-4628-8ded-db166598ec13",
   "metadata": {},
   "outputs": [],
   "source": [
    "import numpy as np\n",
    "from numba import cuda"
   ]
  },
  {
   "cell_type": "code",
   "execution_count": 21,
   "id": "30187f72-6edf-485e-8e8d-f06dde4c7e92",
   "metadata": {},
   "outputs": [],
   "source": [
    "# Define the CUDA kernel function\n",
    "@cuda.jit\n",
    "# @cuda.jit(gridsize=(arr.size // threadsperblock + 1, 1), blocksize=(threadsperblock,))\n",
    "def add_to_array(arr):\n",
    "  \"\"\"\n",
    "  This kernel adds 1.0 to each element of the input array.\n",
    "  Each thread processes one element of the array.\n",
    "  \"\"\"\n",
    "  # Get the unique thread index within a block\n",
    "  idx = cuda.threadIdx.x\n",
    "\n",
    "  # Check if the thread index is within the array bounds\n",
    "  if idx < arr.size:\n",
    "    arr[idx] += 1.0"
   ]
  },
  {
   "cell_type": "code",
   "execution_count": 22,
   "id": "fe5eeb90-d20f-43f6-bdd9-ca632acf3ee6",
   "metadata": {},
   "outputs": [],
   "source": [
    "# Create a sample NumPy array on the CPU (host)\n",
    "arr = np.array([1.0, 2.0, 3.0])"
   ]
  },
  {
   "cell_type": "code",
   "execution_count": 23,
   "id": "fc1c7309-42b9-479b-9d82-4feec2e25f7d",
   "metadata": {},
   "outputs": [],
   "source": [
    "# Allocate memory for the array on the GPU (device)\n",
    "d_arr = cuda.to_device(arr)"
   ]
  },
  {
   "cell_type": "code",
   "execution_count": 33,
   "id": "16d4c15f-3a3d-481b-87c4-f1f9780db158",
   "metadata": {},
   "outputs": [],
   "source": [
    "# Configure the number of threads per block (adjust as needed)\n",
    "threadsperblock = 512"
   ]
  },
  {
   "cell_type": "code",
   "execution_count": 34,
   "id": "2d581ce9-019b-49e8-8ad0-1dd9c1a0296b",
   "metadata": {},
   "outputs": [],
   "source": [
    "gridsize = (arr.size // threadsperblock + 1, 1)\n",
    "add_to_array[gridsize, threadsperblock](d_arr)"
   ]
  },
  {
   "cell_type": "code",
   "execution_count": 35,
   "id": "a8fe1f2d-264a-427f-8521-2bf330967361",
   "metadata": {},
   "outputs": [],
   "source": [
    "# Copy results back from GPU to CPU\n",
    "host_arr = d_arr.copy_to_host()  # Use copy_to_host instead of to_host\n",
    "arr = host_arr  # Assign the copied data to the original array"
   ]
  },
  {
   "cell_type": "code",
   "execution_count": 36,
   "id": "751bbbe6-f99b-4e16-ae38-54b348322238",
   "metadata": {},
   "outputs": [
    {
     "data": {
      "text/plain": [
       "array([3., 4., 5.])"
      ]
     },
     "execution_count": 36,
     "metadata": {},
     "output_type": "execute_result"
    }
   ],
   "source": [
    "arr"
   ]
  }
 ],
 "metadata": {
  "kernelspec": {
   "display_name": "Python 3 (ipykernel)",
   "language": "python",
   "name": "python3"
  },
  "language_info": {
   "codemirror_mode": {
    "name": "ipython",
    "version": 3
   },
   "file_extension": ".py",
   "mimetype": "text/x-python",
   "name": "python",
   "nbconvert_exporter": "python",
   "pygments_lexer": "ipython3",
   "version": "3.10.13"
  }
 },
 "nbformat": 4,
 "nbformat_minor": 5
}

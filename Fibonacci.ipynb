{
 "cells": [
  {
   "cell_type": "markdown",
   "id": "6155fe4c",
   "metadata": {},
   "source": [
    "# Assignment 4"
   ]
  },
  {
   "cell_type": "markdown",
   "id": "333079c5",
   "metadata": {},
   "source": [
    "Write a program to generate and print Fibonacci series, one thread must generate the series upto number and other thread must print them. Ensure proper synchronization."
   ]
  },
  {
   "cell_type": "code",
   "execution_count": 1,
   "id": "61147118",
   "metadata": {},
   "outputs": [],
   "source": [
    "import threading\n",
    "import time"
   ]
  },
  {
   "cell_type": "code",
   "execution_count": 2,
   "id": "1a71cc6f",
   "metadata": {},
   "outputs": [],
   "source": [
    "def generate_fibonacci(n, fib_list, lock, start_time):\n",
    "    a, b = 0, 1\n",
    "    for _ in range(n):\n",
    "        with lock:\n",
    "            fib_list.append((a, time.time() - start_time))\n",
    "        a, b = b, a + b"
   ]
  },
  {
   "cell_type": "code",
   "execution_count": 3,
   "id": "fb0dfa63",
   "metadata": {},
   "outputs": [],
   "source": [
    "def print_fibonacci(fib_list, lock):\n",
    "    with lock:\n",
    "        for entry in fib_list:\n",
    "            thread_id = threading.current_thread().ident\n",
    "            current_time = time.strftime(\"%Y-%m-%d %H:%M:%S\", time.localtime())\n",
    "            fibonacci_value, time_taken = entry\n",
    "            print(f\"{fibonacci_value}, Thread ID {thread_id} at {current_time}: , Time Taken: {time_taken:.6f} seconds\")"
   ]
  },
  {
   "cell_type": "code",
   "execution_count": 4,
   "id": "c56e5092",
   "metadata": {},
   "outputs": [
    {
     "name": "stdin",
     "output_type": "stream",
     "text": [
      "Enter the number of Fibonacci numbers to generate:  15\n"
     ]
    },
    {
     "name": "stdout",
     "output_type": "stream",
     "text": [
      "0, Thread ID 21104 at 2024-01-31 22:05:23: , Time Taken: 0.001002 seconds\n",
      "1, Thread ID 21104 at 2024-01-31 22:05:23: , Time Taken: 0.001002 seconds\n",
      "1, Thread ID 21104 at 2024-01-31 22:05:23: , Time Taken: 0.001002 seconds\n",
      "2, Thread ID 21104 at 2024-01-31 22:05:23: , Time Taken: 0.001002 seconds\n",
      "3, Thread ID 21104 at 2024-01-31 22:05:23: , Time Taken: 0.001002 seconds\n",
      "5, Thread ID 21104 at 2024-01-31 22:05:23: , Time Taken: 0.001002 seconds\n",
      "8, Thread ID 21104 at 2024-01-31 22:05:23: , Time Taken: 0.001002 seconds\n",
      "13, Thread ID 21104 at 2024-01-31 22:05:23: , Time Taken: 0.001002 seconds\n",
      "21, Thread ID 21104 at 2024-01-31 22:05:23: , Time Taken: 0.001002 seconds\n",
      "34, Thread ID 21104 at 2024-01-31 22:05:23: , Time Taken: 0.001002 seconds\n",
      "55, Thread ID 21104 at 2024-01-31 22:05:23: , Time Taken: 0.001002 seconds\n",
      "89, Thread ID 21104 at 2024-01-31 22:05:23: , Time Taken: 0.001002 seconds\n",
      "144, Thread ID 21104 at 2024-01-31 22:05:23: , Time Taken: 0.001002 seconds\n",
      "233, Thread ID 21104 at 2024-01-31 22:05:23: , Time Taken: 0.001002 seconds\n",
      "377, Thread ID 21104 at 2024-01-31 22:05:23: , Time Taken: 0.001002 seconds\n"
     ]
    }
   ],
   "source": [
    "def main():\n",
    "    n = int(input(\"Enter the number of Fibonacci numbers to generate: \"))\n",
    "\n",
    "    fib_list = []\n",
    "    lock = threading.Lock()\n",
    "    start_time = time.time()\n",
    "\n",
    "    # Create two threads\n",
    "    generate_thread = threading.Thread(target=generate_fibonacci, args=(n, fib_list, lock, start_time))\n",
    "    print_thread = threading.Thread(target=print_fibonacci, args=(fib_list, lock))\n",
    "\n",
    "    # Start the threads\n",
    "    generate_thread.start()\n",
    "    print_thread.start()\n",
    "\n",
    "    # Wait for both threads to finish\n",
    "    generate_thread.join()\n",
    "    print_thread.join()\n",
    "\n",
    "if __name__ == \"__main__\":\n",
    "    main()"
   ]
  }
 ],
 "metadata": {
  "kernelspec": {
   "display_name": "Python 3 (ipykernel)",
   "language": "python",
   "name": "python3"
  },
  "language_info": {
   "codemirror_mode": {
    "name": "ipython",
    "version": 3
   },
   "file_extension": ".py",
   "mimetype": "text/x-python",
   "name": "python",
   "nbconvert_exporter": "python",
   "pygments_lexer": "ipython3",
   "version": "3.11.5"
  }
 },
 "nbformat": 4,
 "nbformat_minor": 5
}

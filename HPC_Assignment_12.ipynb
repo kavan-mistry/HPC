{
 "cells": [
  {
   "cell_type": "markdown",
   "id": "5617e06b",
   "metadata": {},
   "source": [
    "# Assignment 12 (Derived_data_Type)"
   ]
  },
  {
   "cell_type": "markdown",
   "id": "6ca32e61",
   "metadata": {},
   "source": [
    "1. Write about derived data types used in MPI programming.\n",
    "\n",
    "* Derived data types in MPI (Message Passing Interface) programming are custom data structures formed by combining basic MPI data types such as integers, floating-point numbers, and characters. These custom data types enable the efficient transmission of complex data structures between MPI processes. Structures, arrays of structures, and arrays of arrays are examples of common derived data types.\n",
    "\n",
    "2. Steps to create and use derived data types.\n",
    "\n",
    "* The Procedure to Create and Use Derived Data Types in MPI:\n",
    "    * Define the data type's structure using the MPI_Type_struct function.\n",
    "    * Use the MPI_Type_create_struct function to specify the displacement and size of each element in the structure.\n",
    "    * Use MPI_Type_commit to commit the newly created data type.\n",
    "    * Use the derived data type for MPI communication functions like MPI_Send and MPI_Recv.\n",
    "\n",
    "3. Write its uses.\n",
    "\n",
    "* Applications of derived data types in MPI:\n",
    "\n",
    "    * Efficient transmission of complex data structures: Derived data types enable the transmission of structured data, such as arrays or nested structures, via a single MPI communication call.\n",
    "    * Improved performance: By using custom data types tailored to the application's data layout, MPI communication can be made more efficient.\n",
    "    * Simplified communication code: Derived data types abstract the complexities of data transmission, making code cleaner and easier to maintain.\n",
    "\n",
    "4. Implement communication of derived data using one suitable example. "
   ]
  },
  {
   "cell_type": "code",
   "execution_count": 1,
   "id": "b6bcb3bd",
   "metadata": {},
   "outputs": [],
   "source": [
    "from mpi4py import MPI\n",
    "import numpy as np"
   ]
  },
  {
   "cell_type": "code",
   "execution_count": 2,
   "id": "c5029353",
   "metadata": {},
   "outputs": [],
   "source": [
    "comm = MPI.COMM_WORLD\n",
    "rank = comm.Get_rank()\n",
    "size = comm.Get_size()"
   ]
  },
  {
   "cell_type": "code",
   "execution_count": 23,
   "id": "13f4570d",
   "metadata": {
    "scrolled": false
   },
   "outputs": [
    {
     "name": "stdout",
     "output_type": "stream",
     "text": [
      "Process 0 received data: x=6, y=46\n"
     ]
    }
   ],
   "source": [
    "class Particle:\n",
    "    def __init__(self, x, y):\n",
    "        self.x = x\n",
    "        self.y = y\n",
    "\n",
    "send_data = None\n",
    "if rank == 0:\n",
    "    send_data = Particle(6, 46)\n",
    "\n",
    "recv_data = comm.scatter([send_data] * size, root=0)\n",
    "\n",
    "print(f\"Process {rank} received data: x={recv_data.x}, y={recv_data.y}\")\n",
    "      \n",
    "MPI.Finalize()"
   ]
  },
  {
   "cell_type": "code",
   "execution_count": 24,
   "id": "229d37c9",
   "metadata": {},
   "outputs": [
    {
     "name": "stdout",
     "output_type": "stream",
     "text": [
      "Process 5 received data: x=6, y=46\n",
      "Process 4 received data: x=6, y=46\n",
      "Process 1 received data: x=6, y=46\n",
      "Process 0 received data: x=6, y=46\n",
      "Process 2 received data: x=6, y=46\n",
      "Process 3 received data: x=6, y=46\n",
      "Process 6 received data: x=6, y=46\n",
      "Process 7 received data: x=6, y=46\n"
     ]
    }
   ],
   "source": [
    "!mpiexec -n 8 python as-12.py"
   ]
  },
  {
   "cell_type": "code",
   "execution_count": 25,
   "id": "af7e94ae",
   "metadata": {},
   "outputs": [
    {
     "name": "stdout",
     "output_type": "stream",
     "text": [
      "Process 2 received data: x=6, y=46\n",
      "Process 9 received data: x=6, y=46\n",
      "Process 1 received data: x=6, y=46\n",
      "Process 10 received data: x=6, y=46\n",
      "Process 7 received data: x=6, y=46\n",
      "Process 8 received data: x=6, y=46\n",
      "Process 3 received data: x=6, y=46\n",
      "Process 6 received data: x=6, y=46\n",
      "Process 13 received data: x=6, y=46\n",
      "Process 11 received data: x=6, y=46\n",
      "Process 5 received data: x=6, y=46\n",
      "Process 12 received data: x=6, y=46\n",
      "Process 14 received data: x=6, y=46\n",
      "Process 4 received data: x=6, y=46\n",
      "Process 15 received data: x=6, y=46\n",
      "Process 0 received data: x=6, y=46\n"
     ]
    }
   ],
   "source": [
    "!mpiexec -n 16 python as-12.py"
   ]
  }
 ],
 "metadata": {
  "kernelspec": {
   "display_name": "Python 3 (ipykernel)",
   "language": "python",
   "name": "python3"
  },
  "language_info": {
   "codemirror_mode": {
    "name": "ipython",
    "version": 3
   },
   "file_extension": ".py",
   "mimetype": "text/x-python",
   "name": "python",
   "nbconvert_exporter": "python",
   "pygments_lexer": "ipython3",
   "version": "3.11.5"
  }
 },
 "nbformat": 4,
 "nbformat_minor": 5
}

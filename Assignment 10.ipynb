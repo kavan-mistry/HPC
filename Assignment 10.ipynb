{
 "cells": [
  {
   "cell_type": "markdown",
   "id": "30c3b6a7",
   "metadata": {},
   "source": [
    "# Assignment 10"
   ]
  },
  {
   "cell_type": "markdown",
   "id": "1d198532",
   "metadata": {},
   "source": [
    "1. Write a program to show collective communication by taking suitable example such that computing average of n numbers or computing sum or product of two matrices\n",
    "    * Bcast function\n",
    "    * Scatter function\n",
    "    * Gather function"
   ]
  },
  {
   "cell_type": "code",
   "execution_count": 1,
   "id": "a558d3ab",
   "metadata": {},
   "outputs": [],
   "source": [
    "from mpi4py import MPI\n",
    "import numpy as np"
   ]
  },
  {
   "cell_type": "code",
   "execution_count": 2,
   "id": "9de34ced",
   "metadata": {},
   "outputs": [
    {
     "name": "stdout",
     "output_type": "stream",
     "text": [
      "Global sum: 592\n"
     ]
    }
   ],
   "source": [
    "comm = MPI.COMM_WORLD\n",
    "rank = comm.Get_rank()\n",
    "size = comm.Get_size()\n",
    "\n",
    "n = 10  \n",
    "local_sum = np.random.randint(0, 100, n)  \n",
    "\n",
    "local_sum_total = np.sum(local_sum)\n",
    "\n",
    "global_sum = np.array(0, dtype='i')\n",
    "comm.Reduce(local_sum_total, global_sum, op=MPI.SUM, root=0)\n",
    "\n",
    "if rank == 0:\n",
    "    print(\"Global sum:\", global_sum)"
   ]
  },
  {
   "cell_type": "code",
   "execution_count": 9,
   "id": "9cbc3120",
   "metadata": {},
   "outputs": [
    {
     "name": "stdout",
     "output_type": "stream",
     "text": [
      "Root process (Rank 0) is broadcasting data to other processes...\n",
      "Process 0 received data: 29\n",
      "Process 1 is waiting to receive broadcasted data from the root process (Rank 0)\n",
      "Process 1 received data: 29\n",
      "Process 2 is waiting to receive broadcasted data from the root process (Rank 0)\n",
      "Process 2 received data: 29\n",
      "Process 3 is waiting to receive broadcasted data from the root process (Rank 0)\n",
      "Process 3 received data: 29\n"
     ]
    }
   ],
   "source": [
    "!mpiexec -n 4 python Bcast.py"
   ]
  },
  {
   "cell_type": "code",
   "execution_count": 4,
   "id": "b55cb7c9",
   "metadata": {},
   "outputs": [
    {
     "name": "stdout",
     "output_type": "stream",
     "text": [
      "Root process (Rank 0) is scattering data to other processes...\n",
      "Process 0 received data: 0\n"
     ]
    }
   ],
   "source": [
    "comm = MPI.COMM_WORLD\n",
    "rank = comm.Get_rank()\n",
    "size = comm.Get_size()\n",
    "\n",
    "if rank == 0:\n",
    "    print(\"Root process (Rank 0) is scattering data to other processes...\")\n",
    "else:\n",
    "    print(\"Process\", rank, \"is waiting to receive scattered data from the root process (Rank 0)\")\n",
    "\n",
    "if rank == 0:\n",
    "    send_data = np.arange(size) * 10  \n",
    "else:\n",
    "    send_data = None\n",
    "\n",
    "recv_data = np.empty(1, dtype=int)\n",
    "comm.Scatter(send_data, recv_data, root=0)\n",
    "\n",
    "print(\"Process\", rank, \"received data:\", recv_data[0])"
   ]
  },
  {
   "cell_type": "code",
   "execution_count": 8,
   "id": "c4d85cb7",
   "metadata": {},
   "outputs": [
    {
     "name": "stdout",
     "output_type": "stream",
     "text": [
      "Root process (Rank 0) is scattering data to other processes...\n",
      "Process 0 received data: 0\n",
      "Process 1 is waiting to receive scattered data from the root process (Rank 0)\n",
      "Process 1 received data: 10\n",
      "Process 2 is waiting to receive scattered data from the root process (Rank 0)\n",
      "Process 2 received data: 20\n",
      "Process 3 is waiting to receive scattered data from the root process (Rank 0)\n",
      "Process 3 received data: 30\n"
     ]
    }
   ],
   "source": [
    "!mpiexec -n 4 python Scatter.py"
   ]
  },
  {
   "cell_type": "code",
   "execution_count": 6,
   "id": "e8be97d7",
   "metadata": {},
   "outputs": [
    {
     "name": "stdout",
     "output_type": "stream",
     "text": [
      "Root process (Rank 0) is gathering local sums from other processes...\n",
      "Root process (Rank 0) gathered the following local sums: [38]\n"
     ]
    }
   ],
   "source": [
    "comm = MPI.COMM_WORLD\n",
    "rank = comm.Get_rank()\n",
    "size = comm.Get_size()\n",
    "\n",
    "local_sum = np.random.randint(0, 100)\n",
    "\n",
    "if rank == 0:\n",
    "    print(\"Root process (Rank 0) is gathering local sums from other processes...\")\n",
    "\n",
    "global_sums = None\n",
    "if rank == 0:\n",
    "    global_sums = np.empty(size, dtype=int)\n",
    "comm.Gather(np.array(local_sum, dtype=int), global_sums, root=0)\n",
    "\n",
    "if rank == 0:\n",
    "    print(\"Root process (Rank 0) gathered the following local sums:\", global_sums)"
   ]
  },
  {
   "cell_type": "code",
   "execution_count": 10,
   "id": "9cf832ee",
   "metadata": {},
   "outputs": [
    {
     "name": "stdout",
     "output_type": "stream",
     "text": [
      "Root process (Rank 0) is gathering local sums from other processes...\n",
      "Root process (Rank 0) gathered the following local sums: [85 87  2 52]\n"
     ]
    }
   ],
   "source": [
    "!mpiexec -n 4 python Gather.py"
   ]
  }
 ],
 "metadata": {
  "kernelspec": {
   "display_name": "Python 3 (ipykernel)",
   "language": "python",
   "name": "python3"
  },
  "language_info": {
   "codemirror_mode": {
    "name": "ipython",
    "version": 3
   },
   "file_extension": ".py",
   "mimetype": "text/x-python",
   "name": "python",
   "nbconvert_exporter": "python",
   "pygments_lexer": "ipython3",
   "version": "3.11.5"
  }
 },
 "nbformat": 4,
 "nbformat_minor": 5
}

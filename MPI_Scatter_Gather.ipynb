{
 "cells": [
  {
   "cell_type": "code",
   "execution_count": 2,
   "id": "667b32be",
   "metadata": {},
   "outputs": [],
   "source": [
    "from mpi4py import MPI\n",
    "import numpy as np\n",
    "import time"
   ]
  },
  {
   "cell_type": "code",
   "execution_count": 3,
   "id": "7af532df",
   "metadata": {},
   "outputs": [
    {
     "name": "stdout",
     "output_type": "stream",
     "text": [
      "Rank 0: Starting execution\n",
      "Rank 0: Generating matrices A and B\n",
      "Rank 0: Matrices A and B generated\n",
      "Rank 0: Broadcasting matrices A and B\n",
      "Rank 0: Matrices A and B broadcasted\n",
      "Resultant Matrix C:\n",
      "[[39237 41300 40275 ... 39637 40281 40902]\n",
      " [39548 40551 40275 ... 39839 40279 40535]\n",
      " [40459 42066 41241 ... 40502 41650 42299]\n",
      " ...\n",
      " [40095 41202 41213 ... 40055 40318 41551]\n",
      " [38873 39375 39387 ... 38728 39131 39834]\n",
      " [39651 40488 40456 ... 38567 40395 40919]]\n",
      "Broadcasting time: 0.01798272132873535 seconds\n",
      "Matrix multiplication time: 36.88124346733093 seconds\n"
     ]
    }
   ],
   "source": [
    "comm = MPI.COMM_WORLD\n",
    "size = comm.Get_size()\n",
    "rank = comm.Get_rank()\n",
    "\n",
    "N = 2000  \n",
    "if N % size != 0:\n",
    "    raise ValueError(\"Matrix size N must be divisible by the number of processes (size)\")\n",
    "\n",
    "block_size = N // size  \n",
    "\n",
    "print(f\"Rank {rank}: Starting execution\")\n",
    "\n",
    "if rank == 0:\n",
    "    print(f\"Rank {rank}: Generating matrices A and B\")\n",
    "    A = np.random.randint(0, 10, (N, N))\n",
    "    B = np.random.randint(0, 10, (N, N))\n",
    "    print(f\"Rank {rank}: Matrices A and B generated\")\n",
    "else:\n",
    "    A = None\n",
    "    B = None\n",
    "\n",
    "print(f\"Rank {rank}: Broadcasting matrices A and B\")\n",
    "start_time = time.time()\n",
    "A = comm.bcast(A, root=0)\n",
    "B = comm.bcast(B, root=0)\n",
    "end_time = time.time()\n",
    "print(f\"Rank {rank}: Matrices A and B broadcasted\")\n",
    "\n",
    "A_rows = np.zeros((block_size, N), dtype=int)\n",
    "comm.Scatter(A, A_rows, root=0)\n",
    "\n",
    "start_time_multiplication = time.time()\n",
    "C_rows = np.dot(A_rows, B)\n",
    "end_time_multiplication = time.time()\n",
    "\n",
    "C = None\n",
    "if rank == 0:\n",
    "    C = np.zeros((N, N), dtype=int)\n",
    "\n",
    "comm.Gather(C_rows, C, root=0)\n",
    "\n",
    "if rank == 0:\n",
    "    print(\"Resultant Matrix C:\")\n",
    "    print(C)\n",
    "    print(\"Broadcasting time:\", end_time - start_time, \"seconds\")\n",
    "    print(\"Matrix multiplication time:\", end_time_multiplication - start_time_multiplication, \"seconds\")"
   ]
  }
 ],
 "metadata": {
  "kernelspec": {
   "display_name": "Python 3 (ipykernel)",
   "language": "python",
   "name": "python3"
  },
  "language_info": {
   "codemirror_mode": {
    "name": "ipython",
    "version": 3
   },
   "file_extension": ".py",
   "mimetype": "text/x-python",
   "name": "python",
   "nbconvert_exporter": "python",
   "pygments_lexer": "ipython3",
   "version": "3.11.5"
  }
 },
 "nbformat": 4,
 "nbformat_minor": 5
}
